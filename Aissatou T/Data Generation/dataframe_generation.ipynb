{
 "cells": [
  {
   "cell_type": "code",
   "execution_count": 1,
   "metadata": {},
   "outputs": [],
   "source": [
    "import pandas as pd\n",
    "import numpy as np\n",
    "import os \n",
    "import matplotlib.pyplot as plt\n",
    "import seaborn as sns"
   ]
  },
  {
   "cell_type": "code",
   "execution_count": 4,
   "metadata": {},
   "outputs": [
    {
     "ename": "FileNotFoundError",
     "evalue": "[Errno 2] No such file or directory: 'date_no_1hot_enco.csv'",
     "output_type": "error",
     "traceback": [
      "\u001b[0;31m---------------------------------------------------------------------------\u001b[0m",
      "\u001b[0;31mFileNotFoundError\u001b[0m                         Traceback (most recent call last)",
      "\u001b[1;32m/workspaces/Break-Through-Tech-UCLA-and-We-Inspect-LA-Home-Health-Impact-AI-Studio/Aissatou T/Data Generation/dataframe_generation.ipynb Cell 2\u001b[0m line \u001b[0;36m2\n\u001b[1;32m      <a href='vscode-notebook-cell://codespaces%2Bjupyter-server-qjjxwqg447ph9797/workspaces/Break-Through-Tech-UCLA-and-We-Inspect-LA-Home-Health-Impact-AI-Studio/Aissatou%20T/Data%20Generation/dataframe_generation.ipynb#W1sdnNjb2RlLXJlbW90ZQ%3D%3D?line=0'>1</a>\u001b[0m file_path \u001b[39m=\u001b[39m \u001b[39m'\u001b[39m\u001b[39mdate_no_1hot_enco.csv\u001b[39m\u001b[39m'\u001b[39m\n\u001b[0;32m----> <a href='vscode-notebook-cell://codespaces%2Bjupyter-server-qjjxwqg447ph9797/workspaces/Break-Through-Tech-UCLA-and-We-Inspect-LA-Home-Health-Impact-AI-Studio/Aissatou%20T/Data%20Generation/dataframe_generation.ipynb#W1sdnNjb2RlLXJlbW90ZQ%3D%3D?line=1'>2</a>\u001b[0m df \u001b[39m=\u001b[39m pd\u001b[39m.\u001b[39;49mread_csv(file_path)\n",
      "File \u001b[0;32m~/.local/lib/python3.10/site-packages/pandas/io/parsers/readers.py:948\u001b[0m, in \u001b[0;36mread_csv\u001b[0;34m(filepath_or_buffer, sep, delimiter, header, names, index_col, usecols, dtype, engine, converters, true_values, false_values, skipinitialspace, skiprows, skipfooter, nrows, na_values, keep_default_na, na_filter, verbose, skip_blank_lines, parse_dates, infer_datetime_format, keep_date_col, date_parser, date_format, dayfirst, cache_dates, iterator, chunksize, compression, thousands, decimal, lineterminator, quotechar, quoting, doublequote, escapechar, comment, encoding, encoding_errors, dialect, on_bad_lines, delim_whitespace, low_memory, memory_map, float_precision, storage_options, dtype_backend)\u001b[0m\n\u001b[1;32m    935\u001b[0m kwds_defaults \u001b[39m=\u001b[39m _refine_defaults_read(\n\u001b[1;32m    936\u001b[0m     dialect,\n\u001b[1;32m    937\u001b[0m     delimiter,\n\u001b[0;32m   (...)\u001b[0m\n\u001b[1;32m    944\u001b[0m     dtype_backend\u001b[39m=\u001b[39mdtype_backend,\n\u001b[1;32m    945\u001b[0m )\n\u001b[1;32m    946\u001b[0m kwds\u001b[39m.\u001b[39mupdate(kwds_defaults)\n\u001b[0;32m--> 948\u001b[0m \u001b[39mreturn\u001b[39;00m _read(filepath_or_buffer, kwds)\n",
      "File \u001b[0;32m~/.local/lib/python3.10/site-packages/pandas/io/parsers/readers.py:611\u001b[0m, in \u001b[0;36m_read\u001b[0;34m(filepath_or_buffer, kwds)\u001b[0m\n\u001b[1;32m    608\u001b[0m _validate_names(kwds\u001b[39m.\u001b[39mget(\u001b[39m\"\u001b[39m\u001b[39mnames\u001b[39m\u001b[39m\"\u001b[39m, \u001b[39mNone\u001b[39;00m))\n\u001b[1;32m    610\u001b[0m \u001b[39m# Create the parser.\u001b[39;00m\n\u001b[0;32m--> 611\u001b[0m parser \u001b[39m=\u001b[39m TextFileReader(filepath_or_buffer, \u001b[39m*\u001b[39;49m\u001b[39m*\u001b[39;49mkwds)\n\u001b[1;32m    613\u001b[0m \u001b[39mif\u001b[39;00m chunksize \u001b[39mor\u001b[39;00m iterator:\n\u001b[1;32m    614\u001b[0m     \u001b[39mreturn\u001b[39;00m parser\n",
      "File \u001b[0;32m~/.local/lib/python3.10/site-packages/pandas/io/parsers/readers.py:1448\u001b[0m, in \u001b[0;36mTextFileReader.__init__\u001b[0;34m(self, f, engine, **kwds)\u001b[0m\n\u001b[1;32m   1445\u001b[0m     \u001b[39mself\u001b[39m\u001b[39m.\u001b[39moptions[\u001b[39m\"\u001b[39m\u001b[39mhas_index_names\u001b[39m\u001b[39m\"\u001b[39m] \u001b[39m=\u001b[39m kwds[\u001b[39m\"\u001b[39m\u001b[39mhas_index_names\u001b[39m\u001b[39m\"\u001b[39m]\n\u001b[1;32m   1447\u001b[0m \u001b[39mself\u001b[39m\u001b[39m.\u001b[39mhandles: IOHandles \u001b[39m|\u001b[39m \u001b[39mNone\u001b[39;00m \u001b[39m=\u001b[39m \u001b[39mNone\u001b[39;00m\n\u001b[0;32m-> 1448\u001b[0m \u001b[39mself\u001b[39m\u001b[39m.\u001b[39m_engine \u001b[39m=\u001b[39m \u001b[39mself\u001b[39;49m\u001b[39m.\u001b[39;49m_make_engine(f, \u001b[39mself\u001b[39;49m\u001b[39m.\u001b[39;49mengine)\n",
      "File \u001b[0;32m~/.local/lib/python3.10/site-packages/pandas/io/parsers/readers.py:1705\u001b[0m, in \u001b[0;36mTextFileReader._make_engine\u001b[0;34m(self, f, engine)\u001b[0m\n\u001b[1;32m   1703\u001b[0m     \u001b[39mif\u001b[39;00m \u001b[39m\"\u001b[39m\u001b[39mb\u001b[39m\u001b[39m\"\u001b[39m \u001b[39mnot\u001b[39;00m \u001b[39min\u001b[39;00m mode:\n\u001b[1;32m   1704\u001b[0m         mode \u001b[39m+\u001b[39m\u001b[39m=\u001b[39m \u001b[39m\"\u001b[39m\u001b[39mb\u001b[39m\u001b[39m\"\u001b[39m\n\u001b[0;32m-> 1705\u001b[0m \u001b[39mself\u001b[39m\u001b[39m.\u001b[39mhandles \u001b[39m=\u001b[39m get_handle(\n\u001b[1;32m   1706\u001b[0m     f,\n\u001b[1;32m   1707\u001b[0m     mode,\n\u001b[1;32m   1708\u001b[0m     encoding\u001b[39m=\u001b[39;49m\u001b[39mself\u001b[39;49m\u001b[39m.\u001b[39;49moptions\u001b[39m.\u001b[39;49mget(\u001b[39m\"\u001b[39;49m\u001b[39mencoding\u001b[39;49m\u001b[39m\"\u001b[39;49m, \u001b[39mNone\u001b[39;49;00m),\n\u001b[1;32m   1709\u001b[0m     compression\u001b[39m=\u001b[39;49m\u001b[39mself\u001b[39;49m\u001b[39m.\u001b[39;49moptions\u001b[39m.\u001b[39;49mget(\u001b[39m\"\u001b[39;49m\u001b[39mcompression\u001b[39;49m\u001b[39m\"\u001b[39;49m, \u001b[39mNone\u001b[39;49;00m),\n\u001b[1;32m   1710\u001b[0m     memory_map\u001b[39m=\u001b[39;49m\u001b[39mself\u001b[39;49m\u001b[39m.\u001b[39;49moptions\u001b[39m.\u001b[39;49mget(\u001b[39m\"\u001b[39;49m\u001b[39mmemory_map\u001b[39;49m\u001b[39m\"\u001b[39;49m, \u001b[39mFalse\u001b[39;49;00m),\n\u001b[1;32m   1711\u001b[0m     is_text\u001b[39m=\u001b[39;49mis_text,\n\u001b[1;32m   1712\u001b[0m     errors\u001b[39m=\u001b[39;49m\u001b[39mself\u001b[39;49m\u001b[39m.\u001b[39;49moptions\u001b[39m.\u001b[39;49mget(\u001b[39m\"\u001b[39;49m\u001b[39mencoding_errors\u001b[39;49m\u001b[39m\"\u001b[39;49m, \u001b[39m\"\u001b[39;49m\u001b[39mstrict\u001b[39;49m\u001b[39m\"\u001b[39;49m),\n\u001b[1;32m   1713\u001b[0m     storage_options\u001b[39m=\u001b[39;49m\u001b[39mself\u001b[39;49m\u001b[39m.\u001b[39;49moptions\u001b[39m.\u001b[39;49mget(\u001b[39m\"\u001b[39;49m\u001b[39mstorage_options\u001b[39;49m\u001b[39m\"\u001b[39;49m, \u001b[39mNone\u001b[39;49;00m),\n\u001b[1;32m   1714\u001b[0m )\n\u001b[1;32m   1715\u001b[0m \u001b[39massert\u001b[39;00m \u001b[39mself\u001b[39m\u001b[39m.\u001b[39mhandles \u001b[39mis\u001b[39;00m \u001b[39mnot\u001b[39;00m \u001b[39mNone\u001b[39;00m\n\u001b[1;32m   1716\u001b[0m f \u001b[39m=\u001b[39m \u001b[39mself\u001b[39m\u001b[39m.\u001b[39mhandles\u001b[39m.\u001b[39mhandle\n",
      "File \u001b[0;32m~/.local/lib/python3.10/site-packages/pandas/io/common.py:863\u001b[0m, in \u001b[0;36mget_handle\u001b[0;34m(path_or_buf, mode, encoding, compression, memory_map, is_text, errors, storage_options)\u001b[0m\n\u001b[1;32m    858\u001b[0m \u001b[39melif\u001b[39;00m \u001b[39misinstance\u001b[39m(handle, \u001b[39mstr\u001b[39m):\n\u001b[1;32m    859\u001b[0m     \u001b[39m# Check whether the filename is to be opened in binary mode.\u001b[39;00m\n\u001b[1;32m    860\u001b[0m     \u001b[39m# Binary mode does not support 'encoding' and 'newline'.\u001b[39;00m\n\u001b[1;32m    861\u001b[0m     \u001b[39mif\u001b[39;00m ioargs\u001b[39m.\u001b[39mencoding \u001b[39mand\u001b[39;00m \u001b[39m\"\u001b[39m\u001b[39mb\u001b[39m\u001b[39m\"\u001b[39m \u001b[39mnot\u001b[39;00m \u001b[39min\u001b[39;00m ioargs\u001b[39m.\u001b[39mmode:\n\u001b[1;32m    862\u001b[0m         \u001b[39m# Encoding\u001b[39;00m\n\u001b[0;32m--> 863\u001b[0m         handle \u001b[39m=\u001b[39m \u001b[39mopen\u001b[39;49m(\n\u001b[1;32m    864\u001b[0m             handle,\n\u001b[1;32m    865\u001b[0m             ioargs\u001b[39m.\u001b[39;49mmode,\n\u001b[1;32m    866\u001b[0m             encoding\u001b[39m=\u001b[39;49mioargs\u001b[39m.\u001b[39;49mencoding,\n\u001b[1;32m    867\u001b[0m             errors\u001b[39m=\u001b[39;49merrors,\n\u001b[1;32m    868\u001b[0m             newline\u001b[39m=\u001b[39;49m\u001b[39m\"\u001b[39;49m\u001b[39m\"\u001b[39;49m,\n\u001b[1;32m    869\u001b[0m         )\n\u001b[1;32m    870\u001b[0m     \u001b[39melse\u001b[39;00m:\n\u001b[1;32m    871\u001b[0m         \u001b[39m# Binary mode\u001b[39;00m\n\u001b[1;32m    872\u001b[0m         handle \u001b[39m=\u001b[39m \u001b[39mopen\u001b[39m(handle, ioargs\u001b[39m.\u001b[39mmode)\n",
      "\u001b[0;31mFileNotFoundError\u001b[0m: [Errno 2] No such file or directory: 'date_no_1hot_enco.csv'"
     ]
    }
   ],
   "source": [
    "file_path = 'date_no_1hot_enco.csv'\n",
    "df = pd.read_csv(file_path)"
   ]
  },
  {
   "cell_type": "code",
   "execution_count": 3,
   "metadata": {},
   "outputs": [
    {
     "data": {
      "text/html": [
       "<div>\n",
       "<style scoped>\n",
       "    .dataframe tbody tr th:only-of-type {\n",
       "        vertical-align: middle;\n",
       "    }\n",
       "\n",
       "    .dataframe tbody tr th {\n",
       "        vertical-align: top;\n",
       "    }\n",
       "\n",
       "    .dataframe thead th {\n",
       "        text-align: right;\n",
       "    }\n",
       "</style>\n",
       "<table border=\"1\" class=\"dataframe\">\n",
       "  <thead>\n",
       "    <tr style=\"text-align: right;\">\n",
       "      <th></th>\n",
       "      <th>City</th>\n",
       "      <th>State</th>\n",
       "      <th>Zip</th>\n",
       "      <th>Aspergillus flavus/oryzae</th>\n",
       "      <th>Aspergillus fumigatus</th>\n",
       "      <th>Aspergillus niger</th>\n",
       "      <th>Aspergillus ochraceus</th>\n",
       "      <th>Aspergillus penicillioides</th>\n",
       "      <th>Aspergillus restrictus*</th>\n",
       "      <th>Aspergillus sclerotiorum</th>\n",
       "      <th>...</th>\n",
       "      <th>Immune_frequentherpesoutbreaks</th>\n",
       "      <th>Immune_viralinfectionsbecomebacterial</th>\n",
       "      <th>Immune_increasedsusceptibilitytocancer</th>\n",
       "      <th>Reproductive_changesinmenstrualcycle</th>\n",
       "      <th>Reproductive_inconsistentmenstrualcycle</th>\n",
       "      <th>Reproductive_vaginalyeastorbacterialinfections</th>\n",
       "      <th>Reproductive_jockitch</th>\n",
       "      <th>Reproductive_infertilityinbothgenders</th>\n",
       "      <th>Reproductive_hormoneimbalances</th>\n",
       "      <th>Cluster</th>\n",
       "    </tr>\n",
       "  </thead>\n",
       "  <tbody>\n",
       "    <tr>\n",
       "      <th>0</th>\n",
       "      <td>Mountain Brook</td>\n",
       "      <td>Alabama</td>\n",
       "      <td>35223</td>\n",
       "      <td>0</td>\n",
       "      <td>0</td>\n",
       "      <td>14</td>\n",
       "      <td>0</td>\n",
       "      <td>0</td>\n",
       "      <td>11</td>\n",
       "      <td>0</td>\n",
       "      <td>...</td>\n",
       "      <td>0</td>\n",
       "      <td>0</td>\n",
       "      <td>0</td>\n",
       "      <td>1</td>\n",
       "      <td>1</td>\n",
       "      <td>1</td>\n",
       "      <td>1</td>\n",
       "      <td>1</td>\n",
       "      <td>1</td>\n",
       "      <td>-1</td>\n",
       "    </tr>\n",
       "    <tr>\n",
       "      <th>1</th>\n",
       "      <td>Wasilla</td>\n",
       "      <td>Alaska</td>\n",
       "      <td>99623</td>\n",
       "      <td>0</td>\n",
       "      <td>0</td>\n",
       "      <td>12</td>\n",
       "      <td>0</td>\n",
       "      <td>5</td>\n",
       "      <td>0</td>\n",
       "      <td>0</td>\n",
       "      <td>...</td>\n",
       "      <td>0</td>\n",
       "      <td>0</td>\n",
       "      <td>0</td>\n",
       "      <td>0</td>\n",
       "      <td>0</td>\n",
       "      <td>1</td>\n",
       "      <td>0</td>\n",
       "      <td>0</td>\n",
       "      <td>1</td>\n",
       "      <td>-1</td>\n",
       "    </tr>\n",
       "    <tr>\n",
       "      <th>2</th>\n",
       "      <td>Soldotna</td>\n",
       "      <td>Alaska</td>\n",
       "      <td>99669-8654</td>\n",
       "      <td>0</td>\n",
       "      <td>3</td>\n",
       "      <td>3</td>\n",
       "      <td>234</td>\n",
       "      <td>0</td>\n",
       "      <td>6</td>\n",
       "      <td>0</td>\n",
       "      <td>...</td>\n",
       "      <td>0</td>\n",
       "      <td>0</td>\n",
       "      <td>0</td>\n",
       "      <td>1</td>\n",
       "      <td>1</td>\n",
       "      <td>0</td>\n",
       "      <td>0</td>\n",
       "      <td>0</td>\n",
       "      <td>1</td>\n",
       "      <td>-1</td>\n",
       "    </tr>\n",
       "    <tr>\n",
       "      <th>3</th>\n",
       "      <td>Soldotna</td>\n",
       "      <td>Alaska</td>\n",
       "      <td>99669</td>\n",
       "      <td>0</td>\n",
       "      <td>0</td>\n",
       "      <td>0</td>\n",
       "      <td>0</td>\n",
       "      <td>0</td>\n",
       "      <td>0</td>\n",
       "      <td>0</td>\n",
       "      <td>...</td>\n",
       "      <td>0</td>\n",
       "      <td>0</td>\n",
       "      <td>0</td>\n",
       "      <td>0</td>\n",
       "      <td>0</td>\n",
       "      <td>0</td>\n",
       "      <td>0</td>\n",
       "      <td>0</td>\n",
       "      <td>0</td>\n",
       "      <td>-1</td>\n",
       "    </tr>\n",
       "    <tr>\n",
       "      <th>4</th>\n",
       "      <td>Anchorage</td>\n",
       "      <td>Alaska</td>\n",
       "      <td>99508-4014</td>\n",
       "      <td>64</td>\n",
       "      <td>5</td>\n",
       "      <td>32</td>\n",
       "      <td>0</td>\n",
       "      <td>0</td>\n",
       "      <td>6</td>\n",
       "      <td>0</td>\n",
       "      <td>...</td>\n",
       "      <td>0</td>\n",
       "      <td>0</td>\n",
       "      <td>0</td>\n",
       "      <td>0</td>\n",
       "      <td>0</td>\n",
       "      <td>0</td>\n",
       "      <td>0</td>\n",
       "      <td>0</td>\n",
       "      <td>0</td>\n",
       "      <td>-1</td>\n",
       "    </tr>\n",
       "  </tbody>\n",
       "</table>\n",
       "<p>5 rows × 162 columns</p>\n",
       "</div>"
      ],
      "text/plain": [
       "             City    State         Zip  Aspergillus flavus/oryzae  \\\n",
       "0  Mountain Brook  Alabama       35223                          0   \n",
       "1         Wasilla   Alaska       99623                          0   \n",
       "2        Soldotna   Alaska  99669-8654                          0   \n",
       "3        Soldotna   Alaska       99669                          0   \n",
       "4       Anchorage   Alaska  99508-4014                         64   \n",
       "\n",
       "   Aspergillus fumigatus  Aspergillus niger  Aspergillus ochraceus  \\\n",
       "0                      0                 14                      0   \n",
       "1                      0                 12                      0   \n",
       "2                      3                  3                    234   \n",
       "3                      0                  0                      0   \n",
       "4                      5                 32                      0   \n",
       "\n",
       "   Aspergillus penicillioides  Aspergillus restrictus*  \\\n",
       "0                           0                       11   \n",
       "1                           5                        0   \n",
       "2                           0                        6   \n",
       "3                           0                        0   \n",
       "4                           0                        6   \n",
       "\n",
       "   Aspergillus sclerotiorum  ...  Immune_frequentherpesoutbreaks  \\\n",
       "0                         0  ...                               0   \n",
       "1                         0  ...                               0   \n",
       "2                         0  ...                               0   \n",
       "3                         0  ...                               0   \n",
       "4                         0  ...                               0   \n",
       "\n",
       "   Immune_viralinfectionsbecomebacterial  \\\n",
       "0                                      0   \n",
       "1                                      0   \n",
       "2                                      0   \n",
       "3                                      0   \n",
       "4                                      0   \n",
       "\n",
       "   Immune_increasedsusceptibilitytocancer  \\\n",
       "0                                       0   \n",
       "1                                       0   \n",
       "2                                       0   \n",
       "3                                       0   \n",
       "4                                       0   \n",
       "\n",
       "   Reproductive_changesinmenstrualcycle  \\\n",
       "0                                     1   \n",
       "1                                     0   \n",
       "2                                     1   \n",
       "3                                     0   \n",
       "4                                     0   \n",
       "\n",
       "   Reproductive_inconsistentmenstrualcycle  \\\n",
       "0                                        1   \n",
       "1                                        0   \n",
       "2                                        1   \n",
       "3                                        0   \n",
       "4                                        0   \n",
       "\n",
       "   Reproductive_vaginalyeastorbacterialinfections  Reproductive_jockitch  \\\n",
       "0                                               1                      1   \n",
       "1                                               1                      0   \n",
       "2                                               0                      0   \n",
       "3                                               0                      0   \n",
       "4                                               0                      0   \n",
       "\n",
       "   Reproductive_infertilityinbothgenders  Reproductive_hormoneimbalances  \\\n",
       "0                                      1                               1   \n",
       "1                                      0                               1   \n",
       "2                                      0                               1   \n",
       "3                                      0                               0   \n",
       "4                                      0                               0   \n",
       "\n",
       "   Cluster  \n",
       "0       -1  \n",
       "1       -1  \n",
       "2       -1  \n",
       "3       -1  \n",
       "4       -1  \n",
       "\n",
       "[5 rows x 162 columns]"
      ]
     },
     "execution_count": 3,
     "metadata": {},
     "output_type": "execute_result"
    }
   ],
   "source": [
    "df.head()"
   ]
  },
  {
   "cell_type": "code",
   "execution_count": 5,
   "metadata": {},
   "outputs": [],
   "source": [
    "columns_to_delete = ['Health Concerns?', 'Diagnoses', 'Eyes, Ears, Nose, & Throat', 'Resipiratory','Digestive','Circulatory', 'Skin', 'Brain', 'Nervous', 'Urinary', 'Immune', 'Reproductive']\n",
    "\n",
    "df = df.drop(columns=columns_to_delete)\n"
   ]
  },
  {
   "cell_type": "code",
   "execution_count": 6,
   "metadata": {},
   "outputs": [
    {
     "name": "stdout",
     "output_type": "stream",
     "text": [
      "38\n"
     ]
    }
   ],
   "source": [
    "\n",
    "column_number = df.columns.get_loc('Rhizopus stolonifer')\n",
    "print(column_number)"
   ]
  },
  {
   "cell_type": "code",
   "execution_count": 80,
   "metadata": {},
   "outputs": [
    {
     "data": {
      "text/plain": [
       "0    0\n",
       "1    0\n",
       "2    0\n",
       "3    0\n",
       "4    0\n",
       "Name: Circulatory_arteriovenousmalformation, dtype: int64"
      ]
     },
     "execution_count": 80,
     "metadata": {},
     "output_type": "execute_result"
    }
   ],
   "source": [
    "df.iloc[:,48].head()"
   ]
  },
  {
   "cell_type": "code",
   "execution_count": 26,
   "metadata": {},
   "outputs": [],
   "source": [
    "columns_to_drop = [40,41]\n",
    "df.drop(df.columns[columns_to_drop], axis=1, inplace=True)"
   ]
  },
  {
   "cell_type": "code",
   "execution_count": 54,
   "metadata": {},
   "outputs": [],
   "source": [
    "columns_to_delete1 = list(range(40, 92))\n",
    "\n",
    "df = df.drop(columns=df.columns[columns_to_delete1])"
   ]
  },
  {
   "cell_type": "code",
   "execution_count": 57,
   "metadata": {},
   "outputs": [],
   "source": [
    "columns_to_drop = [40]\n",
    "df.drop(df.columns[columns_to_drop], axis=1, inplace=True)"
   ]
  },
  {
   "cell_type": "code",
   "execution_count": 78,
   "metadata": {},
   "outputs": [],
   "source": [
    "columns_to_delete1 = list(range(49, 95))\n",
    "\n",
    "df = df.drop(columns=df.columns[columns_to_delete1])"
   ]
  },
  {
   "cell_type": "code",
   "execution_count": 81,
   "metadata": {},
   "outputs": [
    {
     "name": "stdout",
     "output_type": "stream",
     "text": [
      "0     9.20\n",
      "1     2.50\n",
      "2     6.40\n",
      "3     0.10\n",
      "4     5.83\n",
      "5     5.60\n",
      "6     0.46\n",
      "7    10.30\n",
      "8    20.30\n",
      "9    26.30\n",
      "Name: ERMI Score (Group I - Group II), dtype: float64\n"
     ]
    }
   ],
   "source": [
    "column_head = df.iloc[:, 39].head(10)  # Display the first 10 rows of the column\n",
    "print(column_head)"
   ]
  },
  {
   "cell_type": "code",
   "execution_count": 82,
   "metadata": {},
   "outputs": [
    {
     "name": "stdout",
     "output_type": "stream",
     "text": [
      "    Column Number                             Column Name\n",
      "0               0                                    City\n",
      "1               1                                   State\n",
      "2               2                                     Zip\n",
      "3               3               Aspergillus flavus/oryzae\n",
      "4               4                   Aspergillus fumigatus\n",
      "5               5                       Aspergillus niger\n",
      "6               6                   Aspergillus ochraceus\n",
      "7               7              Aspergillus penicillioides\n",
      "8               8                 Aspergillus restrictus*\n",
      "9               9                Aspergillus sclerotiorum\n",
      "10             10                     Aspergillus sydowii\n",
      "11             11                      Aspergillus unguis\n",
      "12             12                  Aspergillus versicolor\n",
      "13             13                 Aureobasidium pullulans\n",
      "14             14                     Chaetomium globosum\n",
      "15             15             Cladosporium sphaerospermum\n",
      "16             16            Eurotium (Asp.) amstelodami*\n",
      "17             17                   Paecilomyces variotii\n",
      "18             18              Penicillium brevicompactum\n",
      "19             19                Penicillium corylophilum\n",
      "20             20                  Penicillium crustosum*\n",
      "21             21                Penicillium purpurogenum\n",
      "22             22                 Penicillium spinulosum*\n",
      "23             23                   Penicillium variabile\n",
      "24             24        Scopulariopsis brevicaulis/fusca\n",
      "25             25                Scopulariopsis chartarum\n",
      "26             26                  Stachybotrys chartarum\n",
      "27             27                     Trichoderma viride*\n",
      "28             28                           Wallemia sebi\n",
      "29             29                     Acremonium strictum\n",
      "30             30                    Alternaria alternata\n",
      "31             31                       Aspergillus ustus\n",
      "32             32          Cladosporium cladosporioides 1\n",
      "33             33          Cladosporium cladosporioides 2\n",
      "34             34                   Cladosporium herbarum\n",
      "35             35                        Epicoccum nigrum\n",
      "36             36                      Mucor amphibiorum*\n",
      "37             37                 Penicillium chrysogenum\n",
      "38             38                     Rhizopus stolonifer\n",
      "39             39         ERMI Score (Group I - Group II)\n",
      "40             40         Circulatory_raynaud'sphenomenon\n",
      "41             41  Circulatory_loworreactivebloodpressure\n",
      "42             42              Circulatory_cherryangiomas\n",
      "43             43       Circulatory_easybruising/bleeding\n",
      "44             44                 Circulatory_spiderveins\n",
      "45             45        Circulatory_irondeficiencyanemia\n",
      "46             46               Circulatory_varicoseveins\n",
      "47             47          Circulatory_irregularheartbeat\n",
      "48             48   Circulatory_arteriovenousmalformation\n"
     ]
    }
   ],
   "source": [
    "column_info = pd.DataFrame({'Column Number': range(len(df.columns)), 'Column Name': df.columns})\n",
    "print(column_info)\n"
   ]
  },
  {
   "cell_type": "code",
   "execution_count": 10,
   "metadata": {},
   "outputs": [
    {
     "name": "stdout",
     "output_type": "stream",
     "text": [
      "72\n"
     ]
    }
   ],
   "source": [
    "\n",
    "column_number = df.columns.get_loc('Circulatory_spiderveins')\n",
    "print(column_number)"
   ]
  },
  {
   "cell_type": "code",
   "execution_count": 11,
   "metadata": {},
   "outputs": [],
   "source": [
    "columns_to_delete1 = list(range(40, 68))\n",
    "\n",
    "df = df.drop(columns=df.columns[columns_to_delete1])"
   ]
  },
  {
   "cell_type": "code",
   "execution_count": 12,
   "metadata": {},
   "outputs": [
    {
     "name": "stdout",
     "output_type": "stream",
     "text": [
      "0    1\n",
      "1    0\n",
      "2    0\n",
      "3    0\n",
      "4    1\n",
      "5    0\n",
      "6    0\n",
      "7    0\n",
      "8    0\n",
      "9    0\n",
      "Name: Circulatory_raynaud'sphenomenon, dtype: int64\n"
     ]
    }
   ],
   "source": [
    "column_head = df.iloc[:, 40].head(10)  # Display the first 10 rows of the column\n",
    "print(column_head)"
   ]
  },
  {
   "cell_type": "code",
   "execution_count": 13,
   "metadata": {},
   "outputs": [],
   "source": [
    "columns_to_delete1 = list(range(41, 95))\n",
    "\n",
    "df = df.drop(columns=df.columns[columns_to_delete1])"
   ]
  },
  {
   "cell_type": "code",
   "execution_count": 14,
   "metadata": {},
   "outputs": [
    {
     "name": "stdout",
     "output_type": "stream",
     "text": [
      "    Column Number                       Column Name\n",
      "0               0                              City\n",
      "1               1                             State\n",
      "2               2                               Zip\n",
      "3               3         Aspergillus flavus/oryzae\n",
      "4               4             Aspergillus fumigatus\n",
      "5               5                 Aspergillus niger\n",
      "6               6             Aspergillus ochraceus\n",
      "7               7        Aspergillus penicillioides\n",
      "8               8           Aspergillus restrictus*\n",
      "9               9          Aspergillus sclerotiorum\n",
      "10             10               Aspergillus sydowii\n",
      "11             11                Aspergillus unguis\n",
      "12             12            Aspergillus versicolor\n",
      "13             13           Aureobasidium pullulans\n",
      "14             14               Chaetomium globosum\n",
      "15             15       Cladosporium sphaerospermum\n",
      "16             16      Eurotium (Asp.) amstelodami*\n",
      "17             17             Paecilomyces variotii\n",
      "18             18        Penicillium brevicompactum\n",
      "19             19          Penicillium corylophilum\n",
      "20             20            Penicillium crustosum*\n",
      "21             21          Penicillium purpurogenum\n",
      "22             22           Penicillium spinulosum*\n",
      "23             23             Penicillium variabile\n",
      "24             24  Scopulariopsis brevicaulis/fusca\n",
      "25             25          Scopulariopsis chartarum\n",
      "26             26            Stachybotrys chartarum\n",
      "27             27               Trichoderma viride*\n",
      "28             28                     Wallemia sebi\n",
      "29             29               Acremonium strictum\n",
      "30             30              Alternaria alternata\n",
      "31             31                 Aspergillus ustus\n",
      "32             32    Cladosporium cladosporioides 1\n",
      "33             33    Cladosporium cladosporioides 2\n",
      "34             34             Cladosporium herbarum\n",
      "35             35                  Epicoccum nigrum\n",
      "36             36                Mucor amphibiorum*\n",
      "37             37           Penicillium chrysogenum\n",
      "38             38               Rhizopus stolonifer\n",
      "39             39   ERMI Score (Group I - Group II)\n",
      "40             40   Circulatory_raynaud'sphenomenon\n"
     ]
    }
   ],
   "source": [
    "column_info = pd.DataFrame({'Column Number': range(len(df.columns)), 'Column Name': df.columns})\n",
    "print(column_info)"
   ]
  },
  {
   "cell_type": "code",
   "execution_count": 15,
   "metadata": {},
   "outputs": [],
   "source": [
    "#column_head = df.iloc[:, 40].head(10)  # Display the first 10 rows of the column\n",
    "#print(column_head)"
   ]
  },
  {
   "cell_type": "code",
   "execution_count": 16,
   "metadata": {},
   "outputs": [],
   "source": [
    "#columns_to_delete1 = list(range(41, 90))\n",
    "\n",
    "#df = df.drop(columns=df.columns[columns_to_delete1])"
   ]
  },
  {
   "cell_type": "code",
   "execution_count": 17,
   "metadata": {},
   "outputs": [],
   "source": [
    "#column_info = pd.DataFrame({'Column Number': range(len(df.columns)), 'Column Name': df.columns})\n",
    "#print(column_info)"
   ]
  },
  {
   "cell_type": "code",
   "execution_count": 83,
   "metadata": {},
   "outputs": [],
   "source": [
    "df.to_csv('Circulatory.csv', index=False)"
   ]
  }
 ],
 "metadata": {
  "kernelspec": {
   "display_name": "Python 3",
   "language": "python",
   "name": "python3"
  },
  "language_info": {
   "codemirror_mode": {
    "name": "ipython",
    "version": 3
   },
   "file_extension": ".py",
   "mimetype": "text/x-python",
   "name": "python",
   "nbconvert_exporter": "python",
   "pygments_lexer": "ipython3",
   "version": "3.10.8"
  }
 },
 "nbformat": 4,
 "nbformat_minor": 2
}
