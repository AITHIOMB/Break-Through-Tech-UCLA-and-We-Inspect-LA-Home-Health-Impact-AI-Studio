{
 "cells": [
  {
   "cell_type": "markdown",
   "metadata": {},
   "source": [
    "## Modeling \"Respiratory\" Symptoms"
   ]
  },
  {
   "cell_type": "code",
   "execution_count": 1,
   "metadata": {},
   "outputs": [],
   "source": [
    "import csv\n",
    "import os\n",
    "import pandas as pd\n",
    "\n",
    "from sklearn.model_selection import train_test_split\n",
    "from sklearn.metrics import accuracy_score, classification_report\n",
    "from sklearn.linear_model import LogisticRegression\n",
    "from sklearn.ensemble import RandomForestClassifier\n",
    "from sklearn.svm import SVC"
   ]
  },
  {
   "cell_type": "code",
   "execution_count": 2,
   "metadata": {},
   "outputs": [
    {
     "data": {
      "text/html": [
       "<div>\n",
       "<style scoped>\n",
       "    .dataframe tbody tr th:only-of-type {\n",
       "        vertical-align: middle;\n",
       "    }\n",
       "\n",
       "    .dataframe tbody tr th {\n",
       "        vertical-align: top;\n",
       "    }\n",
       "\n",
       "    .dataframe thead th {\n",
       "        text-align: right;\n",
       "    }\n",
       "</style>\n",
       "<table border=\"1\" class=\"dataframe\">\n",
       "  <thead>\n",
       "    <tr style=\"text-align: right;\">\n",
       "      <th></th>\n",
       "      <th>Aspergillus flavus/oryzae</th>\n",
       "      <th>Aspergillus fumigatus</th>\n",
       "      <th>Aspergillus niger</th>\n",
       "      <th>Aspergillus ochraceus</th>\n",
       "      <th>Aspergillus penicillioides</th>\n",
       "      <th>Aspergillus restrictus</th>\n",
       "      <th>Aspergillus sclerotiorum</th>\n",
       "      <th>Aspergillus sydowii</th>\n",
       "      <th>Aspergillus unguis</th>\n",
       "      <th>Aspergillus versicolor</th>\n",
       "      <th>...</th>\n",
       "      <th>Cladosporium cladosporioides 1</th>\n",
       "      <th>Cladosporium cladosporioides 2</th>\n",
       "      <th>Cladosporium herbarum</th>\n",
       "      <th>Epicoccum nigrum</th>\n",
       "      <th>Mucor amphibiorum</th>\n",
       "      <th>Penicillium chrysogenum</th>\n",
       "      <th>Rhizopus stolonifer</th>\n",
       "      <th>Sum of the Logs (Group II)</th>\n",
       "      <th>ERMI Score (Group I - Group II)</th>\n",
       "      <th>Respiratory</th>\n",
       "    </tr>\n",
       "  </thead>\n",
       "  <tbody>\n",
       "    <tr>\n",
       "      <th>0</th>\n",
       "      <td>-0.103755</td>\n",
       "      <td>-0.074702</td>\n",
       "      <td>-0.322177</td>\n",
       "      <td>-0.056391</td>\n",
       "      <td>-0.068051</td>\n",
       "      <td>-0.148075</td>\n",
       "      <td>-0.09531</td>\n",
       "      <td>-0.084083</td>\n",
       "      <td>-0.205671</td>\n",
       "      <td>-0.131797</td>\n",
       "      <td>...</td>\n",
       "      <td>-0.335784</td>\n",
       "      <td>-0.273396</td>\n",
       "      <td>-0.175679</td>\n",
       "      <td>-0.218156</td>\n",
       "      <td>-0.303130</td>\n",
       "      <td>-0.126637</td>\n",
       "      <td>-0.079499</td>\n",
       "      <td>-0.051446</td>\n",
       "      <td>9.20</td>\n",
       "      <td>No symptoms</td>\n",
       "    </tr>\n",
       "    <tr>\n",
       "      <th>1</th>\n",
       "      <td>-0.103755</td>\n",
       "      <td>-0.074702</td>\n",
       "      <td>-0.324278</td>\n",
       "      <td>-0.056391</td>\n",
       "      <td>-0.067824</td>\n",
       "      <td>-0.203413</td>\n",
       "      <td>-0.09531</td>\n",
       "      <td>-0.084083</td>\n",
       "      <td>-0.205671</td>\n",
       "      <td>-0.131797</td>\n",
       "      <td>...</td>\n",
       "      <td>-0.184976</td>\n",
       "      <td>-0.177128</td>\n",
       "      <td>-0.135258</td>\n",
       "      <td>-0.319153</td>\n",
       "      <td>-0.252383</td>\n",
       "      <td>-0.137949</td>\n",
       "      <td>-0.138497</td>\n",
       "      <td>-0.051737</td>\n",
       "      <td>2.50</td>\n",
       "      <td>Shortness of breath, Chronic dry cough, Chroni...</td>\n",
       "    </tr>\n",
       "    <tr>\n",
       "      <th>2</th>\n",
       "      <td>-0.103755</td>\n",
       "      <td>-0.073301</td>\n",
       "      <td>-0.333732</td>\n",
       "      <td>0.048455</td>\n",
       "      <td>-0.068051</td>\n",
       "      <td>-0.173229</td>\n",
       "      <td>-0.09531</td>\n",
       "      <td>-0.078359</td>\n",
       "      <td>-0.205671</td>\n",
       "      <td>-0.043765</td>\n",
       "      <td>...</td>\n",
       "      <td>-0.335784</td>\n",
       "      <td>-0.273396</td>\n",
       "      <td>-0.175679</td>\n",
       "      <td>-0.321471</td>\n",
       "      <td>0.287707</td>\n",
       "      <td>-0.110644</td>\n",
       "      <td>-0.138497</td>\n",
       "      <td>-0.051492</td>\n",
       "      <td>6.40</td>\n",
       "      <td>Shortness of breath, Heaviness in the chest</td>\n",
       "    </tr>\n",
       "    <tr>\n",
       "      <th>3</th>\n",
       "      <td>-0.103755</td>\n",
       "      <td>-0.074702</td>\n",
       "      <td>-0.336884</td>\n",
       "      <td>-0.056391</td>\n",
       "      <td>-0.068051</td>\n",
       "      <td>-0.203413</td>\n",
       "      <td>-0.09531</td>\n",
       "      <td>-0.084083</td>\n",
       "      <td>-0.205671</td>\n",
       "      <td>-0.129904</td>\n",
       "      <td>...</td>\n",
       "      <td>-0.335784</td>\n",
       "      <td>-0.273396</td>\n",
       "      <td>-0.175679</td>\n",
       "      <td>-0.197294</td>\n",
       "      <td>-0.324879</td>\n",
       "      <td>-0.118835</td>\n",
       "      <td>-0.138497</td>\n",
       "      <td>-0.051789</td>\n",
       "      <td>0.10</td>\n",
       "      <td>No symptoms</td>\n",
       "    </tr>\n",
       "    <tr>\n",
       "      <th>4</th>\n",
       "      <td>0.380883</td>\n",
       "      <td>-0.072366</td>\n",
       "      <td>-0.303268</td>\n",
       "      <td>-0.056391</td>\n",
       "      <td>-0.068051</td>\n",
       "      <td>-0.173229</td>\n",
       "      <td>-0.09531</td>\n",
       "      <td>-0.084083</td>\n",
       "      <td>-0.205671</td>\n",
       "      <td>-0.129904</td>\n",
       "      <td>...</td>\n",
       "      <td>-0.335784</td>\n",
       "      <td>-0.273396</td>\n",
       "      <td>-0.175679</td>\n",
       "      <td>-0.340677</td>\n",
       "      <td>-0.314004</td>\n",
       "      <td>-0.105573</td>\n",
       "      <td>-0.020502</td>\n",
       "      <td>-0.051714</td>\n",
       "      <td>5.83</td>\n",
       "      <td>No symptoms</td>\n",
       "    </tr>\n",
       "  </tbody>\n",
       "</table>\n",
       "<p>5 rows × 40 columns</p>\n",
       "</div>"
      ],
      "text/plain": [
       "   Aspergillus flavus/oryzae  Aspergillus fumigatus  Aspergillus niger  \\\n",
       "0                  -0.103755              -0.074702          -0.322177   \n",
       "1                  -0.103755              -0.074702          -0.324278   \n",
       "2                  -0.103755              -0.073301          -0.333732   \n",
       "3                  -0.103755              -0.074702          -0.336884   \n",
       "4                   0.380883              -0.072366          -0.303268   \n",
       "\n",
       "   Aspergillus ochraceus  Aspergillus penicillioides  Aspergillus restrictus  \\\n",
       "0              -0.056391                   -0.068051               -0.148075   \n",
       "1              -0.056391                   -0.067824               -0.203413   \n",
       "2               0.048455                   -0.068051               -0.173229   \n",
       "3              -0.056391                   -0.068051               -0.203413   \n",
       "4              -0.056391                   -0.068051               -0.173229   \n",
       "\n",
       "   Aspergillus sclerotiorum  Aspergillus sydowii  Aspergillus unguis  \\\n",
       "0                  -0.09531            -0.084083           -0.205671   \n",
       "1                  -0.09531            -0.084083           -0.205671   \n",
       "2                  -0.09531            -0.078359           -0.205671   \n",
       "3                  -0.09531            -0.084083           -0.205671   \n",
       "4                  -0.09531            -0.084083           -0.205671   \n",
       "\n",
       "   Aspergillus versicolor  ...  Cladosporium cladosporioides 1  \\\n",
       "0               -0.131797  ...                       -0.335784   \n",
       "1               -0.131797  ...                       -0.184976   \n",
       "2               -0.043765  ...                       -0.335784   \n",
       "3               -0.129904  ...                       -0.335784   \n",
       "4               -0.129904  ...                       -0.335784   \n",
       "\n",
       "   Cladosporium cladosporioides 2  Cladosporium herbarum  Epicoccum nigrum  \\\n",
       "0                       -0.273396              -0.175679         -0.218156   \n",
       "1                       -0.177128              -0.135258         -0.319153   \n",
       "2                       -0.273396              -0.175679         -0.321471   \n",
       "3                       -0.273396              -0.175679         -0.197294   \n",
       "4                       -0.273396              -0.175679         -0.340677   \n",
       "\n",
       "   Mucor amphibiorum  Penicillium chrysogenum  Rhizopus stolonifer  \\\n",
       "0          -0.303130                -0.126637            -0.079499   \n",
       "1          -0.252383                -0.137949            -0.138497   \n",
       "2           0.287707                -0.110644            -0.138497   \n",
       "3          -0.324879                -0.118835            -0.138497   \n",
       "4          -0.314004                -0.105573            -0.020502   \n",
       "\n",
       "   Sum of the Logs (Group II)  ERMI Score (Group I - Group II)  \\\n",
       "0                   -0.051446                             9.20   \n",
       "1                   -0.051737                             2.50   \n",
       "2                   -0.051492                             6.40   \n",
       "3                   -0.051789                             0.10   \n",
       "4                   -0.051714                             5.83   \n",
       "\n",
       "                                         Respiratory  \n",
       "0                                        No symptoms  \n",
       "1  Shortness of breath, Chronic dry cough, Chroni...  \n",
       "2        Shortness of breath, Heaviness in the chest  \n",
       "3                                        No symptoms  \n",
       "4                                        No symptoms  \n",
       "\n",
       "[5 rows x 40 columns]"
      ]
     },
     "execution_count": 2,
     "metadata": {},
     "output_type": "execute_result"
    }
   ],
   "source": [
    "filename = os.path.join(os.getcwd(), 'Respiratory_Symptoms.csv')\n",
    "df = pd.read_csv(filename, header = 0)\n",
    "\n",
    "df.head()"
   ]
  },
  {
   "cell_type": "markdown",
   "metadata": {},
   "source": [
    "### Before One-Hot Encoding:"
   ]
  },
  {
   "cell_type": "code",
   "execution_count": 3,
   "metadata": {},
   "outputs": [],
   "source": [
    "# Creating label and features\n",
    "y = df['Respiratory']\n",
    "X = df.drop(columns='Respiratory', axis = 1)"
   ]
  },
  {
   "cell_type": "code",
   "execution_count": 4,
   "metadata": {},
   "outputs": [],
   "source": [
    "# Creating training/test sets\n",
    "X_train, X_test, y_train, y_test = train_test_split(X, y, test_size=0.3, random_state=1234)"
   ]
  },
  {
   "cell_type": "markdown",
   "metadata": {},
   "source": [
    "Logistic Regression"
   ]
  },
  {
   "cell_type": "code",
   "execution_count": 5,
   "metadata": {},
   "outputs": [
    {
     "name": "stdout",
     "output_type": "stream",
     "text": [
      "Accuracy Score: 0.6626506024096386\n"
     ]
    },
    {
     "name": "stderr",
     "output_type": "stream",
     "text": [
      "c:\\Users\\elini\\anaconda3\\lib\\site-packages\\sklearn\\linear_model\\_logistic.py:814: ConvergenceWarning: lbfgs failed to converge (status=1):\n",
      "STOP: TOTAL NO. of ITERATIONS REACHED LIMIT.\n",
      "\n",
      "Increase the number of iterations (max_iter) or scale the data as shown in:\n",
      "    https://scikit-learn.org/stable/modules/preprocessing.html\n",
      "Please also refer to the documentation for alternative solver options:\n",
      "    https://scikit-learn.org/stable/modules/linear_model.html#logistic-regression\n",
      "  n_iter_i = _check_optimize_result(\n"
     ]
    }
   ],
   "source": [
    "model_ls = LogisticRegression()\n",
    "model_ls.fit(X_train, y_train)\n",
    "\n",
    "predictions_ls = model_ls.predict(X_test)\n",
    "accuracy_ls = accuracy_score(y_test, predictions_ls)\n",
    "print(f\"Accuracy Score: {accuracy_ls}\")"
   ]
  },
  {
   "cell_type": "markdown",
   "metadata": {},
   "source": [
    "Random Forest"
   ]
  },
  {
   "cell_type": "code",
   "execution_count": 6,
   "metadata": {},
   "outputs": [
    {
     "name": "stdout",
     "output_type": "stream",
     "text": [
      "Accuracy Score (100 n_estimators): 0.6807228915662651\n",
      "Accuracy Score (50 n_estimators): 0.6807228915662651\n"
     ]
    }
   ],
   "source": [
    "model_rf100 = RandomForestClassifier(n_estimators=100, random_state=1234)\n",
    "model_rf50 = RandomForestClassifier(n_estimators=50, random_state=1234)\n",
    "\n",
    "model_rf100.fit(X_train, y_train)\n",
    "model_rf50.fit(X_train, y_train)\n",
    "\n",
    "predictions_100 = model_rf100.predict(X_test)\n",
    "predictions_50 = model_rf50.predict(X_test) \n",
    "\n",
    "accuracy_100 = accuracy_score(y_test, predictions_100)\n",
    "accuracy_50 = accuracy_score(y_test, predictions_50)\n",
    "print(f\"Accuracy Score (100 n_estimators): {accuracy_100}\")\n",
    "print(f\"Accuracy Score (50 n_estimators): {accuracy_50}\")"
   ]
  },
  {
   "cell_type": "markdown",
   "metadata": {},
   "source": [
    "Support Vector Machine (SVM)"
   ]
  },
  {
   "cell_type": "code",
   "execution_count": 7,
   "metadata": {},
   "outputs": [
    {
     "name": "stdout",
     "output_type": "stream",
     "text": [
      "Accuracy Score: 0.6506024096385542\n"
     ]
    }
   ],
   "source": [
    "model_svc = SVC(kernel='linear', C=1.0, random_state=1234)\n",
    "\n",
    "model_svc.fit(X_train, y_train)\n",
    "\n",
    "predictions = model_svc.predict(X_test)\n",
    "\n",
    "accuracy_svc = accuracy_score(y_test, predictions)\n",
    "print(f'Accuracy Score: {accuracy_svc}')"
   ]
  },
  {
   "cell_type": "markdown",
   "metadata": {},
   "source": [
    "### After One-Hot Encoding:"
   ]
  },
  {
   "cell_type": "code",
   "execution_count": null,
   "metadata": {},
   "outputs": [],
   "source": [
    "## TBD "
   ]
  }
 ],
 "metadata": {
  "kernelspec": {
   "display_name": "base",
   "language": "python",
   "name": "python3"
  },
  "language_info": {
   "codemirror_mode": {
    "name": "ipython",
    "version": 3
   },
   "file_extension": ".py",
   "mimetype": "text/x-python",
   "name": "python",
   "nbconvert_exporter": "python",
   "pygments_lexer": "ipython3",
   "version": "3.9.12"
  }
 },
 "nbformat": 4,
 "nbformat_minor": 2
}
