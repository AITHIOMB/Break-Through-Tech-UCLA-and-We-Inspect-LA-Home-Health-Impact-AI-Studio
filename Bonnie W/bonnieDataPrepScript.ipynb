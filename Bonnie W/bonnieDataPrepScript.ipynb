{
 "cells": [
  {
   "cell_type": "code",
   "execution_count": 13,
   "metadata": {},
   "outputs": [],
   "source": [
    "import csv\n",
    "import pandas as pd\n",
    "import numpy as np\n",
    "import os \n",
    "import matplotlib.pyplot as plt\n",
    "import seaborn as sns"
   ]
  },
  {
   "cell_type": "code",
   "execution_count": 14,
   "metadata": {},
   "outputs": [],
   "source": [
    "df = pd.read_csv('WeInspectB.csv')"
   ]
  },
  {
   "cell_type": "markdown",
   "metadata": {},
   "source": [
    "Manually Parsed Column Division"
   ]
  },
  {
   "cell_type": "code",
   "execution_count": 15,
   "metadata": {},
   "outputs": [],
   "source": [
    "### Declaring known value sets ### \n",
    "\n",
    "#Empty Columns & Non Valueble columns \n",
    "    #(Dropping health concerns because all entries are yes)\n",
    "emptyColumns = ['Unnamed: 42', 'Unnamed: 43','Health Concerns?'] \n",
    "\n",
    "#Location Columns\n",
    "locationColumns = ['City','State','Zip']\n",
    "\n",
    "#Syptom Columns (Columns that need to be one-hot encoded)\n",
    "symptomColumns = ['Diagnoses', \n",
    "                'Eyes, Ears, Nose, & Throat',\n",
    "                'Resipiratory', 'Digestive',\n",
    "                'Circulatory', \n",
    "                'Skin', \n",
    "                'Brain', \n",
    "                'Nervous', \n",
    "                'Urinary', \n",
    "                'Immune', \n",
    "                'Reproductive']\n",
    "\n",
    "#Health Information \n",
    "healthInfoColumns = [\n",
    "        'Sum of the Logs (Group I)',\n",
    "        'Sum of the Logs (Group II)',\n",
    "        'ERMI Score (Group I - Group II)']\n",
    "\n",
    "#Molds \n",
    "moldColumns = ['Aspergillus flavus/oryzae',\n",
    "       'Aspergillus fumigatus', 'Aspergillus niger', 'Aspergillus ochraceus',\n",
    "       'Aspergillus penicillioides', 'Aspergillus restrictus*',\n",
    "       'Aspergillus sclerotiorum', 'Aspergillus sydowii', 'Aspergillus unguis',\n",
    "       'Aspergillus versicolor', 'Aureobasidium pullulans',\n",
    "       'Chaetomium globosum', 'Cladosporium sphaerospermum',\n",
    "       'Eurotium (Asp.) amstelodami*', 'Paecilomyces variotii',\n",
    "       'Penicillium brevicompactum', 'Penicillium corylophilum',\n",
    "       'Penicillium crustosum*', 'Penicillium purpurogenum',\n",
    "       'Penicillium spinulosum*', 'Penicillium variabile',\n",
    "       'Scopulariopsis brevicaulis/fusca', 'Scopulariopsis chartarum',\n",
    "       'Stachybotrys chartarum', 'Trichoderma viride*', 'Wallemia sebi','Acremonium strictum',\n",
    "       'Alternaria alternata', 'Aspergillus ustus',\n",
    "       'Cladosporium cladosporioides 1', 'Cladosporium cladosporioides 2',\n",
    "       'Cladosporium herbarum', 'Epicoccum nigrum', 'Mucor amphibiorum*',\n",
    "       'Penicillium chrysogenum', 'Rhizopus stolonifer']\n",
    "\n",
    "# 0 Values \n",
    "zeroValues = ['ND','<1','nd','N/D','N D','Nd', 'Hhh', 'nan', \n",
    "               'Hh', 'ND, <1','NDNDND', 'na','Ne','NF','<','n/d',\n",
    "               'o', 'BD','NaN', 'N d','ND,<2','1<']\n"
   ]
  },
  {
   "cell_type": "markdown",
   "metadata": {},
   "source": [
    "Dataframe Parsing"
   ]
  },
  {
   "cell_type": "code",
   "execution_count": null,
   "metadata": {},
   "outputs": [],
   "source": [
    "# Creating a dataframe only handling symptom columns \n",
    "symptomDF = df[symptomColumns]\n",
    "print(\"Symptom Dataframe Columns: \", len(symptomDF.columns))\n",
    "print(symptomDF.columns)"
   ]
  },
  {
   "cell_type": "code",
   "execution_count": 17,
   "metadata": {},
   "outputs": [
    {
     "name": "stdout",
     "output_type": "stream",
     "text": [
      "Inital Columns Count:  56\n",
      "Count after dropping useless Columns:  53\n",
      "_____________________________________\n"
     ]
    }
   ],
   "source": [
    "# Drop all rows where Zip , City, and State are missing\n",
    "print(\"Inital Columns Count: \", len(df.columns))\n",
    "df = df.drop(emptyColumns,axis=1)\n",
    "print(\"Count after dropping useless Columns: \", len(df.columns))"
   ]
  },
  {
   "cell_type": "code",
   "execution_count": 18,
   "metadata": {},
   "outputs": [
    {
     "name": "stdout",
     "output_type": "stream",
     "text": [
      "Initial Rows before City/State/Zip Drop:  581\n",
      "Rows after Dropping: 553\n",
      "_____________________________________\n"
     ]
    }
   ],
   "source": [
    "# Creating a dataframe only handling symptom columns \n",
    "print(\"Initial Rows before City/State/Zip Drop: \", len(df))\n",
    "df = df.dropna(subset=['Zip', 'City', 'State'])\n",
    "print(\"Rows after Dropping:\" ,len(df))"
   ]
  },
  {
   "cell_type": "code",
   "execution_count": 19,
   "metadata": {},
   "outputs": [
    {
     "name": "stdout",
     "output_type": "stream",
     "text": [
      "Location Dataframe Columns:  3\n",
      "Index(['City', 'State', 'Zip'], dtype='object')\n",
      "_____________________________________\n"
     ]
    }
   ],
   "source": [
    "\n",
    "# Creating dataframe handling location Data \n",
    "locationDF = df[locationColumns]\n",
    "print(\"Location Dataframe Columns: \", len(locationDF.columns) )\n",
    "print(locationDF.columns)"
   ]
  },
  {
   "cell_type": "code",
   "execution_count": 20,
   "metadata": {},
   "outputs": [
    {
     "name": "stdout",
     "output_type": "stream",
     "text": [
      "Health Information Dataframe Columns:  3\n",
      "Index(['Sum of the Logs (Group I)', 'Sum of the Logs (Group II)',\n",
      "       'ERMI Score (Group I - Group II)'],\n",
      "      dtype='object')\n",
      "_____________________________________\n"
     ]
    }
   ],
   "source": [
    "# Creating dataframe handling health information columns \n",
    "healthInfoDF = df[healthInfoColumns]\n",
    "print(\"Health Information Dataframe Columns: \", len(healthInfoDF.columns))\n",
    "print(healthInfoDF.columns)"
   ]
  },
  {
   "cell_type": "code",
   "execution_count": 21,
   "metadata": {},
   "outputs": [
    {
     "name": "stdout",
     "output_type": "stream",
     "text": [
      "Mold Dataframe Columns:  36\n",
      "Index(['Aspergillus flavus/oryzae', 'Aspergillus fumigatus',\n",
      "       'Aspergillus niger', 'Aspergillus ochraceus',\n",
      "       'Aspergillus penicillioides', 'Aspergillus restrictus*',\n",
      "       'Aspergillus sclerotiorum', 'Aspergillus sydowii', 'Aspergillus unguis',\n",
      "       'Aspergillus versicolor', 'Aureobasidium pullulans',\n",
      "       'Chaetomium globosum', 'Cladosporium sphaerospermum',\n",
      "       'Eurotium (Asp.) amstelodami*', 'Paecilomyces variotii',\n",
      "       'Penicillium brevicompactum', 'Penicillium corylophilum',\n",
      "       'Penicillium crustosum*', 'Penicillium purpurogenum',\n",
      "       'Penicillium spinulosum*', 'Penicillium variabile',\n",
      "       'Scopulariopsis brevicaulis/fusca', 'Scopulariopsis chartarum',\n",
      "       'Stachybotrys chartarum', 'Trichoderma viride*', 'Wallemia sebi',\n",
      "       'Acremonium strictum', 'Alternaria alternata', 'Aspergillus ustus',\n",
      "       'Cladosporium cladosporioides 1', 'Cladosporium cladosporioides 2',\n",
      "       'Cladosporium herbarum', 'Epicoccum nigrum', 'Mucor amphibiorum*',\n",
      "       'Penicillium chrysogenum', 'Rhizopus stolonifer'],\n",
      "      dtype='object')\n",
      "_____________________________________\n"
     ]
    }
   ],
   "source": [
    "# Creating dataframe handling mold\n",
    "moldDF = df[moldColumns]\n",
    "print(\"Mold Dataframe Columns: \", len(moldDF.columns))\n",
    "print(moldDF.columns)"
   ]
  },
  {
   "cell_type": "code",
   "execution_count": null,
   "metadata": {},
   "outputs": [],
   "source": [
    "def oneHotEncodeSymptoms(symptomDF):\n",
    "    # For every column in symptom DF columns, looking at each row value find all unique comma separated symptoms and add them to a list \n",
    "    for column in symptomDF.columns:\n",
    "        systemSymptomList = (df[column]\n",
    "                        .dropna()   # Drop any remaining NaNs (though there shouldn't be any after fillna)\n",
    "                        #.replace('', '0')    # Replace empty strings with '0'\n",
    "                        .str.lower()         # Convert to lowercase\n",
    "                        .str.replace(\" \", \"\") # Remove spaces\n",
    "                        .str.split(',')      # Split by commas\n",
    "                        .explode()           # Explode lists to rows\n",
    "                       # .loc[lambda x: x != '0'] # Filter out '0' values\n",
    "                        .unique())           # Get unique values\n",
    "        '''  \n",
    "        for j in systemSymptomList:\n",
    "            newColumn = str(i) + \"_\" + str(j)\n",
    "            df[newColumn] = df[i].apply(lambda x: 1 if j in str(x).lower().replace(\" \", \"\") else 0)\n",
    "        systemSymptomList = []''' \n",
    "        print(systemSymptomList)\n",
    "        break\n",
    "    return \"\""
   ]
  },
  {
   "cell_type": "markdown",
   "metadata": {},
   "source": [
    "One Hot Encode"
   ]
  },
  {
   "cell_type": "code",
   "execution_count": null,
   "metadata": {},
   "outputs": [],
   "source": [
    "def oneHotEncodeSymptoms(symptomDF):\n",
    "    # For every column in symptom DF columns, looking at each row value find all unique comma separated symptoms and add them to a list \n",
    "    for column in symptomDF.columns:\n",
    "        systemSymptomList = (df[column]\n",
    "                        .dropna()   # Drop any remaining NaNs (though there shouldn't be any after fillna)\n",
    "                        #.replace('', '0')    # Replace empty strings with '0'\n",
    "                        .str.lower()         # Convert to lowercase\n",
    "                        .str.replace(\" \", \"\") # Remove spaces\n",
    "                        .str.split(',')      # Split by commas\n",
    "                        .explode()           # Explode lists to rows\n",
    "                       # .loc[lambda x: x != '0'] # Filter out '0' values\n",
    "                        .unique())           # Get unique values\n",
    "        '''  \n",
    "        for j in systemSymptomList:\n",
    "            newColumn = str(i) + \"_\" + str(j)\n",
    "            df[newColumn] = df[i].apply(lambda x: 1 if j in str(x).lower().replace(\" \", \"\") else 0)\n",
    "        systemSymptomList = []''' \n",
    "        print(systemSymptomList)\n",
    "        break\n",
    "    return \"\""
   ]
  },
  {
   "cell_type": "code",
   "execution_count": 27,
   "metadata": {},
   "outputs": [
    {
     "ename": "NameError",
     "evalue": "name 'symptomDF' is not defined",
     "output_type": "error",
     "traceback": [
      "\u001b[1;31m---------------------------------------------------------------------------\u001b[0m",
      "\u001b[1;31mNameError\u001b[0m                                 Traceback (most recent call last)",
      "\u001b[1;32mc:\\Users\\bonni\\OneDrive\\Documents\\School\\Break Through Tech\\Home-Health-Impact\\Bonnie W\\bonnieDataPrepScript.ipynb Cell 15\u001b[0m line \u001b[0;36m2\n\u001b[0;32m      <a href='vscode-notebook-cell:/c%3A/Users/bonni/OneDrive/Documents/School/Break%20Through%20Tech/Home-Health-Impact/Bonnie%20W/bonnieDataPrepScript.ipynb#X31sZmlsZQ%3D%3D?line=0'>1</a>\u001b[0m \u001b[39m# One Hot Encoding Symptoms \u001b[39;00m\n\u001b[1;32m----> <a href='vscode-notebook-cell:/c%3A/Users/bonni/OneDrive/Documents/School/Break%20Through%20Tech/Home-Health-Impact/Bonnie%20W/bonnieDataPrepScript.ipynb#X31sZmlsZQ%3D%3D?line=1'>2</a>\u001b[0m \u001b[39mprint\u001b[39m(\u001b[39m\"\u001b[39m\u001b[39mOne Hot Encoding Symptom DF, Inital Columns: \u001b[39m\u001b[39m\"\u001b[39m, \u001b[39mlen\u001b[39m(symptomDF\u001b[39m.\u001b[39mcolumns))\n\u001b[0;32m      <a href='vscode-notebook-cell:/c%3A/Users/bonni/OneDrive/Documents/School/Break%20Through%20Tech/Home-Health-Impact/Bonnie%20W/bonnieDataPrepScript.ipynb#X31sZmlsZQ%3D%3D?line=2'>3</a>\u001b[0m symptomDF \u001b[39m=\u001b[39m oneHotEncodeSymptoms(symptomDF)\n\u001b[0;32m      <a href='vscode-notebook-cell:/c%3A/Users/bonni/OneDrive/Documents/School/Break%20Through%20Tech/Home-Health-Impact/Bonnie%20W/bonnieDataPrepScript.ipynb#X31sZmlsZQ%3D%3D?line=3'>4</a>\u001b[0m \u001b[39m#print(\"One Hot Encoded Columns: \", len(symptomDF.columns))\u001b[39;00m\n",
      "\u001b[1;31mNameError\u001b[0m: name 'symptomDF' is not defined"
     ]
    }
   ],
   "source": [
    "# One Hot Encoding Symptoms \n",
    "print(\"One Hot Encoding Symptom DF, Inital Columns: \", len(symptomDF.columns))\n",
    "symptomDF = oneHotEncodeSymptoms(symptomDF)\n",
    "print(\"One Hot Encoded Columns: \", len(symptomDF.columns))"
   ]
  }
 ],
 "metadata": {
  "kernelspec": {
   "display_name": "base",
   "language": "python",
   "name": "python3"
  },
  "language_info": {
   "codemirror_mode": {
    "name": "ipython",
    "version": 3
   },
   "file_extension": ".py",
   "mimetype": "text/x-python",
   "name": "python",
   "nbconvert_exporter": "python",
   "pygments_lexer": "ipython3",
   "version": "3.11.5"
  },
  "orig_nbformat": 4
 },
 "nbformat": 4,
 "nbformat_minor": 2
}
