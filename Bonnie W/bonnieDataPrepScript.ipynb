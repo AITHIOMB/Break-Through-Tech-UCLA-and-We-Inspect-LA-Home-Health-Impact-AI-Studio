{
 "cells": [
  {
   "cell_type": "code",
   "execution_count": 246,
   "metadata": {},
   "outputs": [],
   "source": [
    "import csv\n",
    "import pandas as pd\n",
    "import numpy as np\n",
    "import os \n",
    "import matplotlib.pyplot as plt\n",
    "import seaborn as sns\n",
    "import re"
   ]
  },
  {
   "cell_type": "code",
   "execution_count": 247,
   "metadata": {},
   "outputs": [],
   "source": [
    "df = pd.read_csv('WeInspectB.csv')"
   ]
  },
  {
   "cell_type": "markdown",
   "metadata": {},
   "source": [
    "Manually Parsed Column Division"
   ]
  },
  {
   "cell_type": "code",
   "execution_count": 248,
   "metadata": {},
   "outputs": [],
   "source": [
    "### Declaring known value sets ### \n",
    "\n",
    "#Empty Columns & Non Valueble columns \n",
    "    #(Dropping health concerns because all entries are yes)\n",
    "emptyColumns = ['Unnamed: 42', 'Unnamed: 43','Health Concerns?'] \n",
    "\n",
    "#Location Columns\n",
    "locationColumns = ['City','State','Zip']\n",
    "\n",
    "#Syptom Columns (Columns that need to be one-hot encoded)\n",
    "symptomColumns = ['Diagnoses', \n",
    "                'Eyes, Ears, Nose, & Throat',\n",
    "                'Resipiratory', 'Digestive',\n",
    "                'Circulatory', \n",
    "                'Skin', \n",
    "                'Brain', \n",
    "                'Nervous', \n",
    "                'Urinary', \n",
    "                'Immune', \n",
    "                'Reproductive']\n",
    "\n",
    "#Health Information \n",
    "healthInfoColumns = [\n",
    "        'Sum of the Logs (Group I)',\n",
    "        'Sum of the Logs (Group II)',\n",
    "        'ERMI Score (Group I - Group II)']\n",
    "\n",
    "#Molds \n",
    "moldColumns = ['Aspergillus flavus/oryzae',\n",
    "       'Aspergillus fumigatus', 'Aspergillus niger', 'Aspergillus ochraceus',\n",
    "       'Aspergillus penicillioides', 'Aspergillus restrictus*',\n",
    "       'Aspergillus sclerotiorum', 'Aspergillus sydowii', 'Aspergillus unguis',\n",
    "       'Aspergillus versicolor', 'Aureobasidium pullulans',\n",
    "       'Chaetomium globosum', 'Cladosporium sphaerospermum',\n",
    "       'Eurotium (Asp.) amstelodami*', 'Paecilomyces variotii',\n",
    "       'Penicillium brevicompactum', 'Penicillium corylophilum',\n",
    "       'Penicillium crustosum*', 'Penicillium purpurogenum',\n",
    "       'Penicillium spinulosum*', 'Penicillium variabile',\n",
    "       'Scopulariopsis brevicaulis/fusca', 'Scopulariopsis chartarum',\n",
    "       'Stachybotrys chartarum', 'Trichoderma viride*', 'Wallemia sebi','Acremonium strictum',\n",
    "       'Alternaria alternata', 'Aspergillus ustus',\n",
    "       'Cladosporium cladosporioides 1', 'Cladosporium cladosporioides 2',\n",
    "       'Cladosporium herbarum', 'Epicoccum nigrum', 'Mucor amphibiorum*',\n",
    "       'Penicillium chrysogenum', 'Rhizopus stolonifer']\n",
    "\n",
    "# 0 Values \n",
    "zeroValues = ['ND','<1','nd','N/D','N D','Nd', 'Hhh', 'nan', \n",
    "               'Hh', 'ND, <1','NDNDND', 'na','Ne','NF','<','n/d',\n",
    "               'o', 'BD','NaN', 'N d','ND,<2','1<']\n"
   ]
  },
  {
   "cell_type": "markdown",
   "metadata": {},
   "source": [
    "Dataframe Parsing"
   ]
  },
  {
   "cell_type": "code",
   "execution_count": 249,
   "metadata": {},
   "outputs": [
    {
     "name": "stdout",
     "output_type": "stream",
     "text": [
      "Symptom Dataframe Columns:  11\n",
      "Index(['Diagnoses', 'Eyes, Ears, Nose, & Throat', 'Resipiratory', 'Digestive',\n",
      "       'Circulatory', 'Skin', 'Brain', 'Nervous', 'Urinary', 'Immune',\n",
      "       'Reproductive'],\n",
      "      dtype='object')\n"
     ]
    }
   ],
   "source": [
    "# Creating a dataframe only handling symptom columns \n",
    "symptomDF = df[symptomColumns]\n",
    "print(\"Symptom Dataframe Columns: \", len(symptomDF.columns))\n",
    "print(symptomDF.columns)"
   ]
  },
  {
   "cell_type": "code",
   "execution_count": 250,
   "metadata": {},
   "outputs": [
    {
     "name": "stdout",
     "output_type": "stream",
     "text": [
      "Inital Columns Count:  56\n",
      "Count after dropping useless Columns:  53\n"
     ]
    }
   ],
   "source": [
    "# Drop all rows where Zip , City, and State are missing\n",
    "print(\"Inital Columns Count: \", len(df.columns))\n",
    "df = df.drop(emptyColumns,axis=1)\n",
    "print(\"Count after dropping useless Columns: \", len(df.columns))"
   ]
  },
  {
   "cell_type": "code",
   "execution_count": 251,
   "metadata": {},
   "outputs": [
    {
     "name": "stdout",
     "output_type": "stream",
     "text": [
      "Initial Rows before City/State/Zip Drop:  581\n",
      "Rows after Dropping: 553\n"
     ]
    }
   ],
   "source": [
    "# Creating a dataframe only handling symptom columns \n",
    "print(\"Initial Rows before City/State/Zip Drop: \", len(df))\n",
    "df = df.dropna(subset=['Zip', 'City', 'State'])\n",
    "print(\"Rows after Dropping:\" ,len(df))"
   ]
  },
  {
   "cell_type": "code",
   "execution_count": 252,
   "metadata": {},
   "outputs": [
    {
     "name": "stdout",
     "output_type": "stream",
     "text": [
      "Location Dataframe Columns:  3\n",
      "Index(['City', 'State', 'Zip'], dtype='object')\n"
     ]
    }
   ],
   "source": [
    "\n",
    "# Creating dataframe handling location Data \n",
    "locationDF = df[locationColumns]\n",
    "print(\"Location Dataframe Columns: \", len(locationDF.columns) )\n",
    "print(locationDF.columns)"
   ]
  },
  {
   "cell_type": "code",
   "execution_count": 253,
   "metadata": {},
   "outputs": [
    {
     "name": "stdout",
     "output_type": "stream",
     "text": [
      "Health Information Dataframe Columns:  3\n",
      "Index(['Sum of the Logs (Group I)', 'Sum of the Logs (Group II)',\n",
      "       'ERMI Score (Group I - Group II)'],\n",
      "      dtype='object')\n"
     ]
    }
   ],
   "source": [
    "# Creating dataframe handling health information columns \n",
    "healthInfoDF = df[healthInfoColumns]\n",
    "print(\"Health Information Dataframe Columns: \", len(healthInfoDF.columns))\n",
    "print(healthInfoDF.columns)"
   ]
  },
  {
   "cell_type": "code",
   "execution_count": 254,
   "metadata": {},
   "outputs": [
    {
     "name": "stdout",
     "output_type": "stream",
     "text": [
      "Mold Dataframe Columns:  36\n",
      "Index(['Aspergillus flavus/oryzae', 'Aspergillus fumigatus',\n",
      "       'Aspergillus niger', 'Aspergillus ochraceus',\n",
      "       'Aspergillus penicillioides', 'Aspergillus restrictus*',\n",
      "       'Aspergillus sclerotiorum', 'Aspergillus sydowii', 'Aspergillus unguis',\n",
      "       'Aspergillus versicolor', 'Aureobasidium pullulans',\n",
      "       'Chaetomium globosum', 'Cladosporium sphaerospermum',\n",
      "       'Eurotium (Asp.) amstelodami*', 'Paecilomyces variotii',\n",
      "       'Penicillium brevicompactum', 'Penicillium corylophilum',\n",
      "       'Penicillium crustosum*', 'Penicillium purpurogenum',\n",
      "       'Penicillium spinulosum*', 'Penicillium variabile',\n",
      "       'Scopulariopsis brevicaulis/fusca', 'Scopulariopsis chartarum',\n",
      "       'Stachybotrys chartarum', 'Trichoderma viride*', 'Wallemia sebi',\n",
      "       'Acremonium strictum', 'Alternaria alternata', 'Aspergillus ustus',\n",
      "       'Cladosporium cladosporioides 1', 'Cladosporium cladosporioides 2',\n",
      "       'Cladosporium herbarum', 'Epicoccum nigrum', 'Mucor amphibiorum*',\n",
      "       'Penicillium chrysogenum', 'Rhizopus stolonifer'],\n",
      "      dtype='object')\n"
     ]
    }
   ],
   "source": [
    "# Creating dataframe handling mold\n",
    "moldDF = df[moldColumns]\n",
    "print(\"Mold Dataframe Columns: \", len(moldDF.columns))\n",
    "print(moldDF.columns)"
   ]
  },
  {
   "cell_type": "markdown",
   "metadata": {},
   "source": [
    "One Hot Encode"
   ]
  },
  {
   "cell_type": "code",
   "execution_count": 255,
   "metadata": {},
   "outputs": [],
   "source": [
    "def oneHotEncodeSymptoms(symptomDF_input):\n",
    "    for i in symptomDF_input.columns:\n",
    "        systemSymptomList = (df[i].dropna()   # Drop any remaining NaNs (though there shouldn't be any after fillna)\n",
    "                        .str.lower()         # Convert to lowercase\n",
    "                        .str.replace(\" \", \"\") # Remove spaces\n",
    "                        .str.split(',')      # Split by commas\n",
    "                        .explode()           # Explode lists to rows\n",
    "                        .unique())           # Get unique values\n",
    "        \n",
    "        for j in systemSymptomList:\n",
    "            newColumn = str(i) + \"_\" + str(j)\n",
    "            df[newColumn] = df[i].apply(lambda x: 1 if j in str(x).lower().replace(\" \", \"\") else 0)\n",
    "        systemSymptomList = []\n",
    "    return df\n",
    "    \n"
   ]
  },
  {
   "cell_type": "code",
   "execution_count": 256,
   "metadata": {},
   "outputs": [
    {
     "name": "stdout",
     "output_type": "stream",
     "text": [
      "One Hot Encoding Symptom DF, Inital Columns:  11\n"
     ]
    },
    {
     "name": "stderr",
     "output_type": "stream",
     "text": [
      "C:\\Users\\krazy\\AppData\\Local\\Temp\\ipykernel_14120\\2623507341.py:15: PerformanceWarning: DataFrame is highly fragmented.  This is usually the result of calling `frame.insert` many times, which has poor performance.  Consider joining all columns at once using pd.concat(axis=1) instead. To get a de-fragmented frame, use `newframe = frame.copy()`\n",
      "  df[newColumn] = df[i].apply(lambda x: 1 if j in str(x).lower().replace(\" \", \"\") else 0)\n",
      "C:\\Users\\krazy\\AppData\\Local\\Temp\\ipykernel_14120\\2623507341.py:15: PerformanceWarning: DataFrame is highly fragmented.  This is usually the result of calling `frame.insert` many times, which has poor performance.  Consider joining all columns at once using pd.concat(axis=1) instead. To get a de-fragmented frame, use `newframe = frame.copy()`\n",
      "  df[newColumn] = df[i].apply(lambda x: 1 if j in str(x).lower().replace(\" \", \"\") else 0)\n",
      "C:\\Users\\krazy\\AppData\\Local\\Temp\\ipykernel_14120\\2623507341.py:15: PerformanceWarning: DataFrame is highly fragmented.  This is usually the result of calling `frame.insert` many times, which has poor performance.  Consider joining all columns at once using pd.concat(axis=1) instead. To get a de-fragmented frame, use `newframe = frame.copy()`\n",
      "  df[newColumn] = df[i].apply(lambda x: 1 if j in str(x).lower().replace(\" \", \"\") else 0)\n",
      "C:\\Users\\krazy\\AppData\\Local\\Temp\\ipykernel_14120\\2623507341.py:15: PerformanceWarning: DataFrame is highly fragmented.  This is usually the result of calling `frame.insert` many times, which has poor performance.  Consider joining all columns at once using pd.concat(axis=1) instead. To get a de-fragmented frame, use `newframe = frame.copy()`\n",
      "  df[newColumn] = df[i].apply(lambda x: 1 if j in str(x).lower().replace(\" \", \"\") else 0)\n",
      "C:\\Users\\krazy\\AppData\\Local\\Temp\\ipykernel_14120\\2623507341.py:15: PerformanceWarning: DataFrame is highly fragmented.  This is usually the result of calling `frame.insert` many times, which has poor performance.  Consider joining all columns at once using pd.concat(axis=1) instead. To get a de-fragmented frame, use `newframe = frame.copy()`\n",
      "  df[newColumn] = df[i].apply(lambda x: 1 if j in str(x).lower().replace(\" \", \"\") else 0)\n",
      "C:\\Users\\krazy\\AppData\\Local\\Temp\\ipykernel_14120\\2623507341.py:15: PerformanceWarning: DataFrame is highly fragmented.  This is usually the result of calling `frame.insert` many times, which has poor performance.  Consider joining all columns at once using pd.concat(axis=1) instead. To get a de-fragmented frame, use `newframe = frame.copy()`\n",
      "  df[newColumn] = df[i].apply(lambda x: 1 if j in str(x).lower().replace(\" \", \"\") else 0)\n",
      "C:\\Users\\krazy\\AppData\\Local\\Temp\\ipykernel_14120\\2623507341.py:15: PerformanceWarning: DataFrame is highly fragmented.  This is usually the result of calling `frame.insert` many times, which has poor performance.  Consider joining all columns at once using pd.concat(axis=1) instead. To get a de-fragmented frame, use `newframe = frame.copy()`\n",
      "  df[newColumn] = df[i].apply(lambda x: 1 if j in str(x).lower().replace(\" \", \"\") else 0)\n",
      "C:\\Users\\krazy\\AppData\\Local\\Temp\\ipykernel_14120\\2623507341.py:15: PerformanceWarning: DataFrame is highly fragmented.  This is usually the result of calling `frame.insert` many times, which has poor performance.  Consider joining all columns at once using pd.concat(axis=1) instead. To get a de-fragmented frame, use `newframe = frame.copy()`\n",
      "  df[newColumn] = df[i].apply(lambda x: 1 if j in str(x).lower().replace(\" \", \"\") else 0)\n",
      "C:\\Users\\krazy\\AppData\\Local\\Temp\\ipykernel_14120\\2623507341.py:15: PerformanceWarning: DataFrame is highly fragmented.  This is usually the result of calling `frame.insert` many times, which has poor performance.  Consider joining all columns at once using pd.concat(axis=1) instead. To get a de-fragmented frame, use `newframe = frame.copy()`\n",
      "  df[newColumn] = df[i].apply(lambda x: 1 if j in str(x).lower().replace(\" \", \"\") else 0)\n"
     ]
    },
    {
     "data": {
      "text/plain": [
       "Index(['City', 'State', 'Zip', 'Aspergillus flavus/oryzae',\n",
       "       'Aspergillus fumigatus', 'Aspergillus niger', 'Aspergillus ochraceus',\n",
       "       'Aspergillus penicillioides', 'Aspergillus restrictus*',\n",
       "       'Aspergillus sclerotiorum',\n",
       "       ...\n",
       "       'Immune_chronicmonoorepstein-barrvirus',\n",
       "       'Immune_frequentherpesoutbreaks',\n",
       "       'Immune_viralinfectionsbecomebacterial',\n",
       "       'Immune_increasedsusceptibilitytocancer',\n",
       "       'Reproductive_changesinmenstrualcycle',\n",
       "       'Reproductive_inconsistentmenstrualcycle',\n",
       "       'Reproductive_vaginalyeastorbacterialinfections',\n",
       "       'Reproductive_jockitch', 'Reproductive_infertilityinbothgenders',\n",
       "       'Reproductive_hormoneimbalances'],\n",
       "      dtype='object', length=160)"
      ]
     },
     "execution_count": 256,
     "metadata": {},
     "output_type": "execute_result"
    }
   ],
   "source": [
    "# One Hot Encoding Symptoms \n",
    "print(\"One Hot Encoding Symptom DF, Inital Columns: \", len(symptomDF.columns))\n",
    "\n",
    "symptomDF = oneHotEncodeSymptoms(symptomDF)\n",
    "pd.set_option('display.max_columns', None)  # Display all columns\n",
    "print(symptomDF.columns)\n",
    "\n",
    "#Fixing split entry 'candidiasis(i.e. mouth, genitals, skin, internal)'\n",
    "\n",
    "\n",
    "\n",
    "#split_symptomDF = oneHotEncodeSymptoms(symptomDF)\n",
    "#print(\"One Hot Encoded Columns: \", len(split_symptomDF.columns))"
   ]
  }
 ],
 "metadata": {
  "kernelspec": {
   "display_name": "base",
   "language": "python",
   "name": "python3"
  },
  "language_info": {
   "codemirror_mode": {
    "name": "ipython",
    "version": 3
   },
   "file_extension": ".py",
   "mimetype": "text/x-python",
   "name": "python",
   "nbconvert_exporter": "python",
   "pygments_lexer": "ipython3",
   "version": "3.10.7"
  },
  "orig_nbformat": 4
 },
 "nbformat": 4,
 "nbformat_minor": 2
}
