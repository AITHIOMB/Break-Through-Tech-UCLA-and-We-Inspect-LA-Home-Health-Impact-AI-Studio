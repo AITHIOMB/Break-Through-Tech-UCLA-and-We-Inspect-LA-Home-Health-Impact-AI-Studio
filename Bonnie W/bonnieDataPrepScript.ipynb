{
 "cells": [
  {
   "cell_type": "code",
   "execution_count": 166,
   "metadata": {},
   "outputs": [],
   "source": [
    "import csv\n",
    "import pandas as pd\n",
    "import numpy as np\n",
    "import os \n",
    "import matplotlib.pyplot as plt\n",
    "import seaborn as sns\n",
    "import warnings\n",
    "\n",
    "# Mute pandas performance warning\n",
    "warnings.filterwarnings(\"ignore\", category=pd.errors.PerformanceWarning)\n"
   ]
  },
  {
   "cell_type": "code",
   "execution_count": 167,
   "metadata": {},
   "outputs": [],
   "source": [
    "df = pd.read_csv('WeInspectB.csv')"
   ]
  },
  {
   "cell_type": "markdown",
   "metadata": {},
   "source": [
    "Manually Parsed Column Division"
   ]
  },
  {
   "cell_type": "code",
   "execution_count": 168,
   "metadata": {},
   "outputs": [],
   "source": [
    "### Declaring known value sets ### \n",
    "\n",
    "#Empty Columns & Non Valueble columns \n",
    "    #(Dropping health concerns because all entries are yes)\n",
    "emptyColumns = ['Unnamed: 42', 'Unnamed: 43','Health Concerns?'] \n",
    "\n",
    "#Location Columns\n",
    "locationColumns = ['City','State','Zip']\n",
    "\n",
    "#Syptom Columns (Columns that need to be one-hot encoded)\n",
    "symptomColumns = ['Diagnoses', \n",
    "                'Eyes, Ears, Nose, & Throat',\n",
    "                'Resipiratory', 'Digestive',\n",
    "                'Circulatory', \n",
    "                'Skin', \n",
    "                'Brain', \n",
    "                'Nervous', \n",
    "                'Urinary', \n",
    "                'Immune', \n",
    "                'Reproductive']\n",
    "\n",
    "#Health Information \n",
    "healthInfoColumns = [\n",
    "        'Sum of the Logs (Group I)',\n",
    "        'Sum of the Logs (Group II)',\n",
    "        'ERMI Score (Group I - Group II)']\n",
    "\n",
    "#Molds \n",
    "moldColumns = ['Aspergillus flavus/oryzae',\n",
    "       'Aspergillus fumigatus', 'Aspergillus niger', 'Aspergillus ochraceus',\n",
    "       'Aspergillus penicillioides', 'Aspergillus restrictus*',\n",
    "       'Aspergillus sclerotiorum', 'Aspergillus sydowii', 'Aspergillus unguis',\n",
    "       'Aspergillus versicolor', 'Aureobasidium pullulans',\n",
    "       'Chaetomium globosum', 'Cladosporium sphaerospermum',\n",
    "       'Eurotium (Asp.) amstelodami*', 'Paecilomyces variotii',\n",
    "       'Penicillium brevicompactum', 'Penicillium corylophilum',\n",
    "       'Penicillium crustosum*', 'Penicillium purpurogenum',\n",
    "       'Penicillium spinulosum*', 'Penicillium variabile',\n",
    "       'Scopulariopsis brevicaulis/fusca', 'Scopulariopsis chartarum',\n",
    "       'Stachybotrys chartarum', 'Trichoderma viride*', 'Wallemia sebi','Acremonium strictum',\n",
    "       'Alternaria alternata', 'Aspergillus ustus',\n",
    "       'Cladosporium cladosporioides 1', 'Cladosporium cladosporioides 2',\n",
    "       'Cladosporium herbarum', 'Epicoccum nigrum', 'Mucor amphibiorum*',\n",
    "       'Penicillium chrysogenum', 'Rhizopus stolonifer']\n",
    "\n",
    "# 0 Values \n",
    "zeroValues = ['ND','<1','nd','N/D','N D','Nd', 'Hhh', 'nan', \n",
    "               'Hh', 'ND, <1','NDNDND', 'na','Ne','NF','<','n/d',\n",
    "               'o', 'BD','NaN', 'N d','ND,<2','1<']\n"
   ]
  },
  {
   "cell_type": "markdown",
   "metadata": {},
   "source": [
    "Dataframe Parsing"
   ]
  },
  {
   "cell_type": "code",
   "execution_count": 169,
   "metadata": {},
   "outputs": [
    {
     "name": "stdout",
     "output_type": "stream",
     "text": [
      "Symptom Dataframe Columns:  11\n",
      "Index(['Diagnoses', 'Eyes, Ears, Nose, & Throat', 'Resipiratory', 'Digestive',\n",
      "       'Circulatory', 'Skin', 'Brain', 'Nervous', 'Urinary', 'Immune',\n",
      "       'Reproductive'],\n",
      "      dtype='object')\n"
     ]
    }
   ],
   "source": [
    "# Creating a dataframe only handling symptom columns \n",
    "symptomDF = df[symptomColumns]\n",
    "print(\"Symptom Dataframe Columns: \", len(symptomDF.columns))\n",
    "print(symptomDF.columns)"
   ]
  },
  {
   "cell_type": "code",
   "execution_count": 170,
   "metadata": {},
   "outputs": [
    {
     "name": "stdout",
     "output_type": "stream",
     "text": [
      "Inital Columns Count:  56\n",
      "Count after dropping useless Columns:  53\n"
     ]
    }
   ],
   "source": [
    "# Drop all rows where Zip , City, and State are missing\n",
    "print(\"Inital Columns Count: \", len(df.columns))\n",
    "df = df.drop(emptyColumns,axis=1)\n",
    "print(\"Count after dropping useless Columns: \", len(df.columns))"
   ]
  },
  {
   "cell_type": "code",
   "execution_count": 171,
   "metadata": {},
   "outputs": [
    {
     "name": "stdout",
     "output_type": "stream",
     "text": [
      "Initial Rows before City/State/Zip Drop:  581\n",
      "Rows after Dropping: 553\n"
     ]
    }
   ],
   "source": [
    "# Creating a dataframe only handling symptom columns \n",
    "print(\"Initial Rows before City/State/Zip Drop: \", len(df))\n",
    "df = df.dropna(subset=['Zip', 'City', 'State'])\n",
    "print(\"Rows after Dropping:\" ,len(df))"
   ]
  },
  {
   "cell_type": "code",
   "execution_count": 172,
   "metadata": {},
   "outputs": [
    {
     "name": "stdout",
     "output_type": "stream",
     "text": [
      "Location Dataframe Columns:  3\n",
      "Index(['City', 'State', 'Zip'], dtype='object')\n"
     ]
    }
   ],
   "source": [
    "\n",
    "# Creating dataframe handling location Data \n",
    "locationDF = df[locationColumns]\n",
    "print(\"Location Dataframe Columns: \", len(locationDF.columns) )\n",
    "print(locationDF.columns)"
   ]
  },
  {
   "cell_type": "code",
   "execution_count": 173,
   "metadata": {},
   "outputs": [
    {
     "name": "stdout",
     "output_type": "stream",
     "text": [
      "Health Information Dataframe Columns:  3\n",
      "Index(['Sum of the Logs (Group I)', 'Sum of the Logs (Group II)',\n",
      "       'ERMI Score (Group I - Group II)'],\n",
      "      dtype='object')\n"
     ]
    }
   ],
   "source": [
    "# Creating dataframe handling health information columns \n",
    "healthInfoDF = df[healthInfoColumns]\n",
    "print(\"Health Information Dataframe Columns: \", len(healthInfoDF.columns))\n",
    "print(healthInfoDF.columns)"
   ]
  },
  {
   "cell_type": "code",
   "execution_count": 174,
   "metadata": {},
   "outputs": [
    {
     "name": "stdout",
     "output_type": "stream",
     "text": [
      "Mold Dataframe Columns:  36\n",
      "Index(['Aspergillus flavus/oryzae', 'Aspergillus fumigatus',\n",
      "       'Aspergillus niger', 'Aspergillus ochraceus',\n",
      "       'Aspergillus penicillioides', 'Aspergillus restrictus*',\n",
      "       'Aspergillus sclerotiorum', 'Aspergillus sydowii', 'Aspergillus unguis',\n",
      "       'Aspergillus versicolor', 'Aureobasidium pullulans',\n",
      "       'Chaetomium globosum', 'Cladosporium sphaerospermum',\n",
      "       'Eurotium (Asp.) amstelodami*', 'Paecilomyces variotii',\n",
      "       'Penicillium brevicompactum', 'Penicillium corylophilum',\n",
      "       'Penicillium crustosum*', 'Penicillium purpurogenum',\n",
      "       'Penicillium spinulosum*', 'Penicillium variabile',\n",
      "       'Scopulariopsis brevicaulis/fusca', 'Scopulariopsis chartarum',\n",
      "       'Stachybotrys chartarum', 'Trichoderma viride*', 'Wallemia sebi',\n",
      "       'Acremonium strictum', 'Alternaria alternata', 'Aspergillus ustus',\n",
      "       'Cladosporium cladosporioides 1', 'Cladosporium cladosporioides 2',\n",
      "       'Cladosporium herbarum', 'Epicoccum nigrum', 'Mucor amphibiorum*',\n",
      "       'Penicillium chrysogenum', 'Rhizopus stolonifer'],\n",
      "      dtype='object')\n"
     ]
    }
   ],
   "source": [
    "# Creating dataframe handling mold\n",
    "moldDF = df[moldColumns]\n",
    "print(\"Mold Dataframe Columns: \", len(moldDF.columns))\n",
    "print(moldDF.columns)"
   ]
  },
  {
   "cell_type": "markdown",
   "metadata": {},
   "source": [
    "One Hot Encode Symptoms"
   ]
  },
  {
   "cell_type": "code",
   "execution_count": 175,
   "metadata": {},
   "outputs": [],
   "source": [
    "def oneHotEncodeSymptoms(symptomDF):\n",
    "    # For every column in symptom DF columns, looking at each row value find all unique comma separated symptoms and add them to a list \n",
    "    for column in symptomDF.columns:\n",
    "        systemSymptomList = (df[column]\n",
    "                        .dropna()             # Drop any remaining NaNs (though there shouldn't be any after fillna)\n",
    "                        .str.lower()          # Convert to lowercase\n",
    "                        .str.replace(\" \", \"\") # Remove spaces\n",
    "                        .str.split(',')       # Split by commas\n",
    "                        .explode()            # Explode lists to rows\n",
    "                        .unique())            # Get unique values\n",
    "        \n",
    "        for symptom in systemSymptomList:\n",
    "            newColumn = f\"{column}_{symptom}\"\n",
    "            symptomDF[newColumn] = df[column].apply(lambda x: 1 if symptom in str(x).lower().replace(\" \", \"\") else 0)\n",
    "     \n",
    "        systemSymptomList = []\n",
    "        #print(systemSymptomList)\n",
    "    return symptomDF"
   ]
  },
  {
   "cell_type": "code",
   "execution_count": 176,
   "metadata": {},
   "outputs": [
    {
     "name": "stdout",
     "output_type": "stream",
     "text": [
      "One Hot Encoding Symptom DF, Inital Columns:  11\n",
      "One Hot Encoded Columns:  118\n",
      "One Hot Encoded Columns, dropped:  103\n"
     ]
    },
    {
     "data": {
      "text/html": [
       "<div>\n",
       "<style scoped>\n",
       "    .dataframe tbody tr th:only-of-type {\n",
       "        vertical-align: middle;\n",
       "    }\n",
       "\n",
       "    .dataframe tbody tr th {\n",
       "        vertical-align: top;\n",
       "    }\n",
       "\n",
       "    .dataframe thead th {\n",
       "        text-align: right;\n",
       "    }\n",
       "</style>\n",
       "<table border=\"1\" class=\"dataframe\">\n",
       "  <thead>\n",
       "    <tr style=\"text-align: right;\">\n",
       "      <th></th>\n",
       "      <th>Diagnoses_hyperthyroid/hypothyroid</th>\n",
       "      <th>Diagnoses_ibs</th>\n",
       "      <th>Diagnoses_pcos</th>\n",
       "      <th>Diagnoses_cirs</th>\n",
       "      <th>Diagnoses_mcas</th>\n",
       "      <th>Diagnoses_auto-immunedisease</th>\n",
       "      <th>Diagnoses_lymedisease</th>\n",
       "      <th>Diagnoses_pots</th>\n",
       "      <th>Diagnoses_chronicfatiguesyndrome</th>\n",
       "      <th>Diagnoses_candidiasis(i.e.</th>\n",
       "      <th>...</th>\n",
       "      <th>Immune_chronicmonoorepstein-barrvirus</th>\n",
       "      <th>Immune_frequentherpesoutbreaks</th>\n",
       "      <th>Immune_viralinfectionsbecomebacterial</th>\n",
       "      <th>Immune_increasedsusceptibilitytocancer</th>\n",
       "      <th>Reproductive_changesinmenstrualcycle</th>\n",
       "      <th>Reproductive_inconsistentmenstrualcycle</th>\n",
       "      <th>Reproductive_vaginalyeastorbacterialinfections</th>\n",
       "      <th>Reproductive_jockitch</th>\n",
       "      <th>Reproductive_infertilityinbothgenders</th>\n",
       "      <th>Reproductive_hormoneimbalances</th>\n",
       "    </tr>\n",
       "  </thead>\n",
       "  <tbody>\n",
       "    <tr>\n",
       "      <th>0</th>\n",
       "      <td>1.0</td>\n",
       "      <td>1.0</td>\n",
       "      <td>1.0</td>\n",
       "      <td>0.0</td>\n",
       "      <td>0.0</td>\n",
       "      <td>0.0</td>\n",
       "      <td>0.0</td>\n",
       "      <td>0.0</td>\n",
       "      <td>0.0</td>\n",
       "      <td>0.0</td>\n",
       "      <td>...</td>\n",
       "      <td>0.0</td>\n",
       "      <td>0.0</td>\n",
       "      <td>0.0</td>\n",
       "      <td>0.0</td>\n",
       "      <td>1.0</td>\n",
       "      <td>1.0</td>\n",
       "      <td>1.0</td>\n",
       "      <td>1.0</td>\n",
       "      <td>1.0</td>\n",
       "      <td>1.0</td>\n",
       "    </tr>\n",
       "    <tr>\n",
       "      <th>1</th>\n",
       "      <td>0.0</td>\n",
       "      <td>0.0</td>\n",
       "      <td>0.0</td>\n",
       "      <td>0.0</td>\n",
       "      <td>0.0</td>\n",
       "      <td>0.0</td>\n",
       "      <td>0.0</td>\n",
       "      <td>0.0</td>\n",
       "      <td>0.0</td>\n",
       "      <td>0.0</td>\n",
       "      <td>...</td>\n",
       "      <td>0.0</td>\n",
       "      <td>0.0</td>\n",
       "      <td>0.0</td>\n",
       "      <td>0.0</td>\n",
       "      <td>0.0</td>\n",
       "      <td>0.0</td>\n",
       "      <td>1.0</td>\n",
       "      <td>0.0</td>\n",
       "      <td>0.0</td>\n",
       "      <td>1.0</td>\n",
       "    </tr>\n",
       "    <tr>\n",
       "      <th>2</th>\n",
       "      <td>0.0</td>\n",
       "      <td>0.0</td>\n",
       "      <td>0.0</td>\n",
       "      <td>1.0</td>\n",
       "      <td>1.0</td>\n",
       "      <td>0.0</td>\n",
       "      <td>0.0</td>\n",
       "      <td>0.0</td>\n",
       "      <td>0.0</td>\n",
       "      <td>0.0</td>\n",
       "      <td>...</td>\n",
       "      <td>1.0</td>\n",
       "      <td>0.0</td>\n",
       "      <td>0.0</td>\n",
       "      <td>0.0</td>\n",
       "      <td>1.0</td>\n",
       "      <td>1.0</td>\n",
       "      <td>0.0</td>\n",
       "      <td>0.0</td>\n",
       "      <td>0.0</td>\n",
       "      <td>1.0</td>\n",
       "    </tr>\n",
       "    <tr>\n",
       "      <th>3</th>\n",
       "      <td>1.0</td>\n",
       "      <td>1.0</td>\n",
       "      <td>0.0</td>\n",
       "      <td>0.0</td>\n",
       "      <td>0.0</td>\n",
       "      <td>1.0</td>\n",
       "      <td>1.0</td>\n",
       "      <td>1.0</td>\n",
       "      <td>1.0</td>\n",
       "      <td>1.0</td>\n",
       "      <td>...</td>\n",
       "      <td>0.0</td>\n",
       "      <td>0.0</td>\n",
       "      <td>0.0</td>\n",
       "      <td>0.0</td>\n",
       "      <td>0.0</td>\n",
       "      <td>0.0</td>\n",
       "      <td>0.0</td>\n",
       "      <td>0.0</td>\n",
       "      <td>0.0</td>\n",
       "      <td>0.0</td>\n",
       "    </tr>\n",
       "    <tr>\n",
       "      <th>4</th>\n",
       "      <td>1.0</td>\n",
       "      <td>0.0</td>\n",
       "      <td>1.0</td>\n",
       "      <td>1.0</td>\n",
       "      <td>0.0</td>\n",
       "      <td>0.0</td>\n",
       "      <td>0.0</td>\n",
       "      <td>0.0</td>\n",
       "      <td>0.0</td>\n",
       "      <td>1.0</td>\n",
       "      <td>...</td>\n",
       "      <td>0.0</td>\n",
       "      <td>0.0</td>\n",
       "      <td>0.0</td>\n",
       "      <td>0.0</td>\n",
       "      <td>0.0</td>\n",
       "      <td>0.0</td>\n",
       "      <td>0.0</td>\n",
       "      <td>0.0</td>\n",
       "      <td>0.0</td>\n",
       "      <td>0.0</td>\n",
       "    </tr>\n",
       "  </tbody>\n",
       "</table>\n",
       "<p>5 rows × 103 columns</p>\n",
       "</div>"
      ],
      "text/plain": [
       "   Diagnoses_hyperthyroid/hypothyroid  Diagnoses_ibs  Diagnoses_pcos  \\\n",
       "0                                 1.0            1.0             1.0   \n",
       "1                                 0.0            0.0             0.0   \n",
       "2                                 0.0            0.0             0.0   \n",
       "3                                 1.0            1.0             0.0   \n",
       "4                                 1.0            0.0             1.0   \n",
       "\n",
       "   Diagnoses_cirs  Diagnoses_mcas  Diagnoses_auto-immunedisease  \\\n",
       "0             0.0             0.0                           0.0   \n",
       "1             0.0             0.0                           0.0   \n",
       "2             1.0             1.0                           0.0   \n",
       "3             0.0             0.0                           1.0   \n",
       "4             1.0             0.0                           0.0   \n",
       "\n",
       "   Diagnoses_lymedisease  Diagnoses_pots  Diagnoses_chronicfatiguesyndrome  \\\n",
       "0                    0.0             0.0                               0.0   \n",
       "1                    0.0             0.0                               0.0   \n",
       "2                    0.0             0.0                               0.0   \n",
       "3                    1.0             1.0                               1.0   \n",
       "4                    0.0             0.0                               0.0   \n",
       "\n",
       "   Diagnoses_candidiasis(i.e.  ...  Immune_chronicmonoorepstein-barrvirus  \\\n",
       "0                         0.0  ...                                    0.0   \n",
       "1                         0.0  ...                                    0.0   \n",
       "2                         0.0  ...                                    1.0   \n",
       "3                         1.0  ...                                    0.0   \n",
       "4                         1.0  ...                                    0.0   \n",
       "\n",
       "   Immune_frequentherpesoutbreaks  Immune_viralinfectionsbecomebacterial  \\\n",
       "0                             0.0                                    0.0   \n",
       "1                             0.0                                    0.0   \n",
       "2                             0.0                                    0.0   \n",
       "3                             0.0                                    0.0   \n",
       "4                             0.0                                    0.0   \n",
       "\n",
       "   Immune_increasedsusceptibilitytocancer  \\\n",
       "0                                     0.0   \n",
       "1                                     0.0   \n",
       "2                                     0.0   \n",
       "3                                     0.0   \n",
       "4                                     0.0   \n",
       "\n",
       "   Reproductive_changesinmenstrualcycle  \\\n",
       "0                                   1.0   \n",
       "1                                   0.0   \n",
       "2                                   1.0   \n",
       "3                                   0.0   \n",
       "4                                   0.0   \n",
       "\n",
       "   Reproductive_inconsistentmenstrualcycle  \\\n",
       "0                                      1.0   \n",
       "1                                      0.0   \n",
       "2                                      1.0   \n",
       "3                                      0.0   \n",
       "4                                      0.0   \n",
       "\n",
       "   Reproductive_vaginalyeastorbacterialinfections  Reproductive_jockitch  \\\n",
       "0                                             1.0                    1.0   \n",
       "1                                             1.0                    0.0   \n",
       "2                                             0.0                    0.0   \n",
       "3                                             0.0                    0.0   \n",
       "4                                             0.0                    0.0   \n",
       "\n",
       "   Reproductive_infertilityinbothgenders  Reproductive_hormoneimbalances  \n",
       "0                                    1.0                             1.0  \n",
       "1                                    0.0                             1.0  \n",
       "2                                    0.0                             1.0  \n",
       "3                                    0.0                             0.0  \n",
       "4                                    0.0                             0.0  \n",
       "\n",
       "[5 rows x 103 columns]"
      ]
     },
     "execution_count": 176,
     "metadata": {},
     "output_type": "execute_result"
    }
   ],
   "source": [
    "# One Hot Encoding Symptoms \n",
    "print(\"One Hot Encoding Symptom DF, Inital Columns: \", len(symptomDF.columns))\n",
    "\n",
    "symptomDF = oneHotEncodeSymptoms(symptomDF)\n",
    "print(\"One Hot Encoded Columns: \", len(symptomDF.columns))\n",
    "columns = ['Diagnoses', 'Eyes, Ears, Nose, & Throat', 'Resipiratory', 'Digestive', 'Circulatory', 'Skin', 'Brain', \n",
    "           'Nervous', 'Urinary', 'Immune', 'Reproductive']\n",
    "\n",
    "drop = [\"Diagnoses_mouth\",\n",
    "\"Diagnoses_genitals\",\n",
    "\"Diagnoses_skin\",\n",
    "\"Diagnoses_internal)\"]\n",
    "\n",
    "columns = columns + drop\n",
    "\n",
    "symptomDF.drop(columns=columns,inplace=True)\n",
    "\n",
    "print(\"One Hot Encoded Columns, dropped: \", len(symptomDF.columns))\n",
    "\n",
    "#One hot encoding complete 11 columns turned to 118 with binary values \n",
    "\n",
    "#[print(i) for i in symptomDF.columns]\n",
    "\n",
    "symptomDF.head(5)\n"
   ]
  }
 ],
 "metadata": {
  "kernelspec": {
   "display_name": "base",
   "language": "python",
   "name": "python3"
  },
  "language_info": {
   "codemirror_mode": {
    "name": "ipython",
    "version": 3
   },
   "file_extension": ".py",
   "mimetype": "text/x-python",
   "name": "python",
   "nbconvert_exporter": "python",
   "pygments_lexer": "ipython3",
   "version": "3.11.5"
  },
  "orig_nbformat": 4
 },
 "nbformat": 4,
 "nbformat_minor": 2
}
