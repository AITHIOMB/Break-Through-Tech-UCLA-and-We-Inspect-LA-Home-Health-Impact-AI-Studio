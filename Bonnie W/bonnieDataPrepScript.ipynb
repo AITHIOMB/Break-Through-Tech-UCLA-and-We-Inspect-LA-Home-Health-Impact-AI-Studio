{
 "cells": [
  {
   "cell_type": "code",
   "execution_count": 23,
   "metadata": {},
   "outputs": [],
   "source": [
    "import csv\n",
    "import pandas as pd\n",
    "import numpy as np\n",
    "import os \n",
    "import matplotlib.pyplot as plt\n",
    "import seaborn as sns\n",
    "import warnings\n",
    "\n",
    "# Mute pandas performance warning\n",
    "warnings.filterwarnings(\"ignore\", category=pd.errors.PerformanceWarning)\n"
   ]
  },
  {
   "cell_type": "code",
   "execution_count": 24,
   "metadata": {},
   "outputs": [],
   "source": [
    "df = pd.read_csv('WeInspectB.csv')"
   ]
  },
  {
   "cell_type": "markdown",
   "metadata": {},
   "source": [
    "Manually Parsed Column Division"
   ]
  },
  {
   "cell_type": "code",
   "execution_count": 25,
   "metadata": {},
   "outputs": [],
   "source": [
    "### Declaring known value sets ### \n",
    "\n",
    "#Empty Columns & Non Valueble columns \n",
    "    #(Dropping health concerns because all entries are yes)\n",
    "emptyColumns = ['Unnamed: 42', 'Unnamed: 43','Health Concerns?'] \n",
    "\n",
    "#Location Columns\n",
    "locationColumns = ['City','State','Zip']\n",
    "\n",
    "#Syptom Columns (Columns that need to be one-hot encoded)\n",
    "symptomColumns = ['Diagnoses', \n",
    "                'Eyes, Ears, Nose, & Throat',\n",
    "                'Resipiratory', 'Digestive',\n",
    "                'Circulatory', \n",
    "                'Skin', \n",
    "                'Brain', \n",
    "                'Nervous', \n",
    "                'Urinary', \n",
    "                'Immune', \n",
    "                'Reproductive']\n",
    "\n",
    "#Health Information \n",
    "healthInfoColumns = [\n",
    "        'Sum of the Logs (Group I)',\n",
    "        'Sum of the Logs (Group II)',\n",
    "        'ERMI Score (Group I - Group II)']\n",
    "\n",
    "#Molds \n",
    "moldColumns = ['Aspergillus flavus/oryzae',\n",
    "       'Aspergillus fumigatus', 'Aspergillus niger', 'Aspergillus ochraceus',\n",
    "       'Aspergillus penicillioides', 'Aspergillus restrictus*',\n",
    "       'Aspergillus sclerotiorum', 'Aspergillus sydowii', 'Aspergillus unguis',\n",
    "       'Aspergillus versicolor', 'Aureobasidium pullulans',\n",
    "       'Chaetomium globosum', 'Cladosporium sphaerospermum',\n",
    "       'Eurotium (Asp.) amstelodami*', 'Paecilomyces variotii',\n",
    "       'Penicillium brevicompactum', 'Penicillium corylophilum',\n",
    "       'Penicillium crustosum*', 'Penicillium purpurogenum',\n",
    "       'Penicillium spinulosum*', 'Penicillium variabile',\n",
    "       'Scopulariopsis brevicaulis/fusca', 'Scopulariopsis chartarum',\n",
    "       'Stachybotrys chartarum', 'Trichoderma viride*', 'Wallemia sebi','Acremonium strictum',\n",
    "       'Alternaria alternata', 'Aspergillus ustus',\n",
    "       'Cladosporium cladosporioides 1', 'Cladosporium cladosporioides 2',\n",
    "       'Cladosporium herbarum', 'Epicoccum nigrum', 'Mucor amphibiorum*',\n",
    "       'Penicillium chrysogenum', 'Rhizopus stolonifer']\n",
    "\n",
    "# 0 Values \n",
    "zeroValues = ['ND','<1','nd','N/D','N D','Nd', 'Hhh', 'nan', \n",
    "               'Hh', 'ND, <1','NDNDND', 'na','Ne','NF','<','n/d',\n",
    "               'o', 'BD','NaN', 'N d','ND,<2','1<']\n"
   ]
  },
  {
   "cell_type": "markdown",
   "metadata": {},
   "source": [
    "Dataframe Parsing"
   ]
  },
  {
   "cell_type": "code",
   "execution_count": 26,
   "metadata": {},
   "outputs": [
    {
     "name": "stdout",
     "output_type": "stream",
     "text": [
      "Symptom Dataframe Columns:  11\n",
      "Index(['Diagnoses', 'Eyes, Ears, Nose, & Throat', 'Resipiratory', 'Digestive',\n",
      "       'Circulatory', 'Skin', 'Brain', 'Nervous', 'Urinary', 'Immune',\n",
      "       'Reproductive'],\n",
      "      dtype='object')\n"
     ]
    }
   ],
   "source": [
    "# Creating a dataframe only handling symptom columns \n",
    "symptomDF = df[symptomColumns]\n",
    "print(\"Symptom Dataframe Columns: \", len(symptomDF.columns))\n",
    "print(symptomDF.columns)"
   ]
  },
  {
   "cell_type": "code",
   "execution_count": 27,
   "metadata": {},
   "outputs": [
    {
     "name": "stdout",
     "output_type": "stream",
     "text": [
      "Inital Columns Count:  56\n",
      "Count after dropping useless Columns:  53\n"
     ]
    }
   ],
   "source": [
    "# Drop all rows where Zip , City, and State are missing\n",
    "print(\"Inital Columns Count: \", len(df.columns))\n",
    "df = df.drop(emptyColumns,axis=1)\n",
    "print(\"Count after dropping useless Columns: \", len(df.columns))"
   ]
  },
  {
   "cell_type": "code",
   "execution_count": 28,
   "metadata": {},
   "outputs": [
    {
     "name": "stdout",
     "output_type": "stream",
     "text": [
      "Initial Rows before City/State/Zip Drop:  581\n",
      "Rows after Dropping: 553\n"
     ]
    }
   ],
   "source": [
    "# Creating a dataframe only handling symptom columns \n",
    "print(\"Initial Rows before City/State/Zip Drop: \", len(df))\n",
    "df = df.dropna(subset=['Zip', 'City', 'State'])\n",
    "print(\"Rows after Dropping:\" ,len(df))"
   ]
  },
  {
   "cell_type": "code",
   "execution_count": 29,
   "metadata": {},
   "outputs": [
    {
     "name": "stdout",
     "output_type": "stream",
     "text": [
      "Location Dataframe Columns:  3\n",
      "Index(['City', 'State', 'Zip'], dtype='object')\n"
     ]
    }
   ],
   "source": [
    "\n",
    "# Creating dataframe handling location Data \n",
    "locationDF = df[locationColumns]\n",
    "print(\"Location Dataframe Columns: \", len(locationDF.columns) )\n",
    "print(locationDF.columns)"
   ]
  },
  {
   "cell_type": "code",
   "execution_count": 30,
   "metadata": {},
   "outputs": [
    {
     "name": "stdout",
     "output_type": "stream",
     "text": [
      "Health Information Dataframe Columns:  3\n",
      "Index(['Sum of the Logs (Group I)', 'Sum of the Logs (Group II)',\n",
      "       'ERMI Score (Group I - Group II)'],\n",
      "      dtype='object')\n"
     ]
    }
   ],
   "source": [
    "# Creating dataframe handling health information columns \n",
    "healthInfoDF = df[healthInfoColumns]\n",
    "print(\"Health Information Dataframe Columns: \", len(healthInfoDF.columns))\n",
    "print(healthInfoDF.columns)"
   ]
  },
  {
   "cell_type": "code",
   "execution_count": 31,
   "metadata": {},
   "outputs": [
    {
     "name": "stdout",
     "output_type": "stream",
     "text": [
      "Mold Dataframe Columns:  36\n",
      "Index(['Aspergillus flavus/oryzae', 'Aspergillus fumigatus',\n",
      "       'Aspergillus niger', 'Aspergillus ochraceus',\n",
      "       'Aspergillus penicillioides', 'Aspergillus restrictus*',\n",
      "       'Aspergillus sclerotiorum', 'Aspergillus sydowii', 'Aspergillus unguis',\n",
      "       'Aspergillus versicolor', 'Aureobasidium pullulans',\n",
      "       'Chaetomium globosum', 'Cladosporium sphaerospermum',\n",
      "       'Eurotium (Asp.) amstelodami*', 'Paecilomyces variotii',\n",
      "       'Penicillium brevicompactum', 'Penicillium corylophilum',\n",
      "       'Penicillium crustosum*', 'Penicillium purpurogenum',\n",
      "       'Penicillium spinulosum*', 'Penicillium variabile',\n",
      "       'Scopulariopsis brevicaulis/fusca', 'Scopulariopsis chartarum',\n",
      "       'Stachybotrys chartarum', 'Trichoderma viride*', 'Wallemia sebi',\n",
      "       'Acremonium strictum', 'Alternaria alternata', 'Aspergillus ustus',\n",
      "       'Cladosporium cladosporioides 1', 'Cladosporium cladosporioides 2',\n",
      "       'Cladosporium herbarum', 'Epicoccum nigrum', 'Mucor amphibiorum*',\n",
      "       'Penicillium chrysogenum', 'Rhizopus stolonifer'],\n",
      "      dtype='object')\n"
     ]
    }
   ],
   "source": [
    "# Creating dataframe handling mold\n",
    "moldDF = df[moldColumns]\n",
    "print(\"Mold Dataframe Columns: \", len(moldDF.columns))\n",
    "print(moldDF.columns)"
   ]
  },
  {
   "cell_type": "markdown",
   "metadata": {},
   "source": [
    "One Hot Encode Symptoms"
   ]
  },
  {
   "cell_type": "code",
   "execution_count": 32,
   "metadata": {},
   "outputs": [],
   "source": [
    "def oneHotEncodeSymptoms(symptomDF):\n",
    "    # For every column in symptom DF columns, looking at each row value find all unique comma separated symptoms and add them to a list \n",
    "    for column in symptomDF.columns:\n",
    "        systemSymptomList = (df[column]\n",
    "                        .dropna()             # Drop any remaining NaNs (though there shouldn't be any after fillna)\n",
    "                        .str.lower()          # Convert to lowercase\n",
    "                        .str.replace(\" \", \"\") # Remove spaces\n",
    "                        .str.split(',')       # Split by commas\n",
    "                        .explode()            # Explode lists to rows\n",
    "                        .unique())            # Get unique values\n",
    "        \n",
    "        for symptom in systemSymptomList:\n",
    "            newColumn = f\"{column}_{symptom}\"\n",
    "            symptomDF[newColumn] = df[column].apply(lambda x: 1 if symptom in str(x).lower().replace(\" \", \"\") else 0)\n",
    "     \n",
    "        systemSymptomList = []\n",
    "        #print(systemSymptomList)\n",
    "    return symptomDF"
   ]
  },
  {
   "cell_type": "code",
   "execution_count": 33,
   "metadata": {},
   "outputs": [
    {
     "name": "stdout",
     "output_type": "stream",
     "text": [
      "One Hot Encoding Symptom DF, Inital Columns:  11\n",
      "One Hot Encoded Columns:  11\n",
      "Diagnoses\n",
      "Eyes, Ears, Nose, & Throat\n",
      "Resipiratory\n",
      "Digestive\n",
      "Circulatory\n",
      "Skin\n",
      "Brain\n",
      "Nervous\n",
      "Urinary\n",
      "Immune\n",
      "Reproductive\n",
      "Diagnoses_hyperthyroid/hypothyroid\n",
      "Diagnoses_ibs\n",
      "Diagnoses_pcos\n",
      "Diagnoses_cirs\n",
      "Diagnoses_mcas\n",
      "Diagnoses_auto-immunedisease\n",
      "Diagnoses_lymedisease\n",
      "Diagnoses_pots\n",
      "Diagnoses_chronicfatiguesyndrome\n",
      "Diagnoses_candidiasis(i.e.\n",
      "Diagnoses_mouth\n",
      "Diagnoses_genitals\n",
      "Diagnoses_skin\n",
      "Diagnoses_internal)\n",
      "Diagnoses_hashimotos\n",
      "Diagnoses_pans/pandas\n",
      "Diagnoses_autismspectrumdisorder\n",
      "Diagnoses_mcs\n",
      "Diagnoses_fibromyalgia\n",
      "Diagnoses_ms\n",
      "Diagnoses_dermatitis\n",
      "Diagnoses_rheumatoidarthritis\n",
      "Diagnoses_earlyonsetdementia\n",
      "Diagnoses_parkinson'sdisease\n",
      "Diagnoses_alzheimer's\n",
      "Eyes, Ears, Nose, & Throat_sneezing/allergies\n",
      "Eyes, Ears, Nose, & Throat_dry/irritatedeyes\n",
      "Eyes, Ears, Nose, & Throat_chronicsinusitis\n",
      "Eyes, Ears, Nose, & Throat_runnynose/post-nasaldrip\n",
      "Eyes, Ears, Nose, & Throat_swollenlymphnodes\n",
      "Eyes, Ears, Nose, & Throat_earpopping/ringing\n",
      "Eyes, Ears, Nose, & Throat_tonsilstones\n",
      "Eyes, Ears, Nose, & Throat_frequentnosebleeds\n",
      "Eyes, Ears, Nose, & Throat_hayfever\n",
      "Eyes, Ears, Nose, & Throat_hearingloss\n",
      "Eyes, Ears, Nose, & Throat_nasalpolyps\n",
      "Resipiratory_shortnessofbreath\n",
      "Resipiratory_chronicdrycough\n",
      "Resipiratory_chronicrespiratoryillnesses\n",
      "Resipiratory_heavinessinthechest\n",
      "Resipiratory_asthma/wheezing\n",
      "Resipiratory_burninglungs\n",
      "Resipiratory_blood-stainedspitorsputum\n",
      "Resipiratory_aspergillosis\n",
      "Digestive_diarrhea/constipation\n",
      "Digestive_bloating\n",
      "Digestive_abdominalpain\n",
      "Digestive_foodsensitivities\n",
      "Digestive_significantweightgain/loss\n",
      "Digestive_parasites\n",
      "Digestive_sweetcravings\n",
      "Digestive_nausea/vomiting\n",
      "Digestive_ulcers\n",
      "Circulatory_raynaud'sphenomenon\n",
      "Circulatory_loworreactivebloodpressure\n",
      "Circulatory_cherryangiomas\n",
      "Circulatory_easybruising/bleeding\n",
      "Circulatory_spiderveins\n",
      "Circulatory_irondeficiencyanemia\n",
      "Circulatory_varicoseveins\n",
      "Circulatory_irregularheartbeat\n",
      "Circulatory_arteriovenousmalformation\n",
      "Skin_itchy/peelingskin\n",
      "Skin_skinrash\n",
      "Skin_fungalinfections\n",
      "Skin_eczema\n",
      "Skin_flushing\n",
      "Skin_sensitivitytosunlight\n",
      "Skin_psoriasis\n",
      "Skin_seborrheicdermatitis\n",
      "Skin_burningsensation\n",
      "Brain_brainfog\n",
      "Brain_memoryloss\n",
      "Brain_anger/aggressiveness\n",
      "Brain_confusion\n",
      "Brain_troublefindingtherightword\n",
      "Nervous_anxiousness\n",
      "Nervous_fatigue\n",
      "Nervous_depression\n",
      "Nervous_headache\n",
      "Nervous_migraine\n",
      "Nervous_insomnia\n",
      "Nervous_neuropathies\n",
      "Nervous_seizures\n",
      "Nervous_dizziness/vertigo\n",
      "Nervous_incoordination\n",
      "Nervous_tremors\n",
      "Nervous_slowreflexes\n",
      "Nervous_dysautonomia\n",
      "Nervous_difficultywithbalanceandwalking\n",
      "Urinary_overactivebladder\n",
      "Urinary_bladderinfectionsymptomswithnoidentifiableinfection\n",
      "Urinary_kidneyinflammation\n",
      "Urinary_irritablebladder\n",
      "Urinary_bloodinurine\n",
      "Immune_long-lastingcolds\n",
      "Immune_increasedsusceptibilitytoinfection\n",
      "Immune_chronicmonoorepstein-barrvirus\n",
      "Immune_frequentherpesoutbreaks\n",
      "Immune_viralinfectionsbecomebacterial\n",
      "Immune_increasedsusceptibilitytocancer\n",
      "Reproductive_changesinmenstrualcycle\n",
      "Reproductive_inconsistentmenstrualcycle\n",
      "Reproductive_vaginalyeastorbacterialinfections\n",
      "Reproductive_jockitch\n",
      "Reproductive_infertilityinbothgenders\n",
      "Reproductive_hormoneimbalances\n"
     ]
    }
   ],
   "source": [
    "# One Hot Encoding Symptoms \n",
    "print(\"One Hot Encoding Symptom DF, Inital Columns: \", len(symptomDF.columns))\n",
    "\n",
    "#symptomDF = oneHotEncodeSymptoms(symptomDF)\n",
    "print(\"One Hot Encoded Columns: \", len(symptomDF.columns))\n",
    "columns = ['Diagnoses', 'Eyes, Ears, Nose, & Throat', 'Resipiratory', 'Digestive', 'Circulatory', 'Skin', 'Brain', \n",
    "           'Nervous', 'Urinary', 'Immune', 'Reproductive']\n",
    "for i in columns:\n",
    "    systemSymptomList = (symptomDF[i].dropna()   # Drop any remaining NaNs (though there shouldn't be any after fillna)\n",
    "                     .replace('', '0')    # Replace empty strings with '0'\n",
    "                     .str.lower()         # Convert to lowercase\n",
    "                     .str.replace(\" \", \"\") # Remove spaces\n",
    "                     .str.split(',')      # Split by commas\n",
    "                     .explode()           # Explode lists to rows\n",
    "                     .loc[lambda x: x != '0'] # Filter out '0' values\n",
    "                     .dropna()            # Drop any remaining NaNs (though there shouldn't be any after fillna)\n",
    "                     .unique())           # Get unique values\n",
    "    \n",
    "    for j in systemSymptomList:\n",
    "        newColumn = str(i) + \"_\" + str(j)\n",
    "        symptomDF[newColumn] = df[i].apply(lambda x: 1 if j in str(x).lower().replace(\" \", \"\") else 0)\n",
    "    systemSymptomList = []\n",
    "for i in symptomDF.columns:\n",
    "    print(i)\n",
    "#symptomDF.columns\n",
    "#symptomDF.head(5)\n",
    "\n",
    "#One hot encoding complete 11 columns turned to 118 with binary values "
   ]
  }
 ],
 "metadata": {
  "kernelspec": {
   "display_name": "base",
   "language": "python",
   "name": "python3"
  },
  "language_info": {
   "codemirror_mode": {
    "name": "ipython",
    "version": 3
   },
   "file_extension": ".py",
   "mimetype": "text/x-python",
   "name": "python",
   "nbconvert_exporter": "python",
   "pygments_lexer": "ipython3",
   "version": "3.10.7"
  },
  "orig_nbformat": 4
 },
 "nbformat": 4,
 "nbformat_minor": 2
}
