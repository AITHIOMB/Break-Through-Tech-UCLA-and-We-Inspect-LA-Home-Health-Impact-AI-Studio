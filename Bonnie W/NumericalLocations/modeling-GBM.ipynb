{
 "cells": [
  {
   "cell_type": "code",
   "execution_count": 1,
   "metadata": {},
   "outputs": [
    {
     "data": {
      "text/html": [
       "<div>\n",
       "<style scoped>\n",
       "    .dataframe tbody tr th:only-of-type {\n",
       "        vertical-align: middle;\n",
       "    }\n",
       "\n",
       "    .dataframe tbody tr th {\n",
       "        vertical-align: top;\n",
       "    }\n",
       "\n",
       "    .dataframe thead th {\n",
       "        text-align: right;\n",
       "    }\n",
       "</style>\n",
       "<table border=\"1\" class=\"dataframe\">\n",
       "  <thead>\n",
       "    <tr style=\"text-align: right;\">\n",
       "      <th></th>\n",
       "      <th>City</th>\n",
       "      <th>State</th>\n",
       "      <th>Aspergillus flavus/oryzae</th>\n",
       "      <th>Aspergillus fumigatus</th>\n",
       "      <th>Aspergillus niger</th>\n",
       "      <th>Aspergillus ochraceus</th>\n",
       "      <th>Aspergillus penicillioides</th>\n",
       "      <th>Aspergillus restrictus*</th>\n",
       "      <th>Aspergillus sclerotiorum</th>\n",
       "      <th>Aspergillus sydowii</th>\n",
       "      <th>...</th>\n",
       "      <th>Immune_chronicmonoorepstein-barrvirus</th>\n",
       "      <th>Immune_frequentherpesoutbreaks</th>\n",
       "      <th>Immune_viralinfectionsbecomebacterial</th>\n",
       "      <th>Immune_increasedsusceptibilitytocancer</th>\n",
       "      <th>Reproductive_changesinmenstrualcycle</th>\n",
       "      <th>Reproductive_inconsistentmenstrualcycle</th>\n",
       "      <th>Reproductive_vaginalyeastorbacterialinfections</th>\n",
       "      <th>Reproductive_jockitch</th>\n",
       "      <th>Reproductive_infertilityinbothgenders</th>\n",
       "      <th>Reproductive_hormoneimbalances</th>\n",
       "    </tr>\n",
       "  </thead>\n",
       "  <tbody>\n",
       "    <tr>\n",
       "      <th>0</th>\n",
       "      <td>0</td>\n",
       "      <td>0</td>\n",
       "      <td>0</td>\n",
       "      <td>0</td>\n",
       "      <td>14</td>\n",
       "      <td>0</td>\n",
       "      <td>0</td>\n",
       "      <td>11</td>\n",
       "      <td>0</td>\n",
       "      <td>0</td>\n",
       "      <td>...</td>\n",
       "      <td>0</td>\n",
       "      <td>0</td>\n",
       "      <td>0</td>\n",
       "      <td>0</td>\n",
       "      <td>1</td>\n",
       "      <td>1</td>\n",
       "      <td>1</td>\n",
       "      <td>1</td>\n",
       "      <td>1</td>\n",
       "      <td>1</td>\n",
       "    </tr>\n",
       "    <tr>\n",
       "      <th>1</th>\n",
       "      <td>1</td>\n",
       "      <td>1</td>\n",
       "      <td>0</td>\n",
       "      <td>0</td>\n",
       "      <td>12</td>\n",
       "      <td>0</td>\n",
       "      <td>5</td>\n",
       "      <td>0</td>\n",
       "      <td>0</td>\n",
       "      <td>0</td>\n",
       "      <td>...</td>\n",
       "      <td>0</td>\n",
       "      <td>0</td>\n",
       "      <td>0</td>\n",
       "      <td>0</td>\n",
       "      <td>0</td>\n",
       "      <td>0</td>\n",
       "      <td>1</td>\n",
       "      <td>0</td>\n",
       "      <td>0</td>\n",
       "      <td>1</td>\n",
       "    </tr>\n",
       "    <tr>\n",
       "      <th>2</th>\n",
       "      <td>2</td>\n",
       "      <td>1</td>\n",
       "      <td>0</td>\n",
       "      <td>3</td>\n",
       "      <td>3</td>\n",
       "      <td>234</td>\n",
       "      <td>0</td>\n",
       "      <td>6</td>\n",
       "      <td>0</td>\n",
       "      <td>5</td>\n",
       "      <td>...</td>\n",
       "      <td>1</td>\n",
       "      <td>0</td>\n",
       "      <td>0</td>\n",
       "      <td>0</td>\n",
       "      <td>1</td>\n",
       "      <td>1</td>\n",
       "      <td>0</td>\n",
       "      <td>0</td>\n",
       "      <td>0</td>\n",
       "      <td>1</td>\n",
       "    </tr>\n",
       "    <tr>\n",
       "      <th>3</th>\n",
       "      <td>2</td>\n",
       "      <td>1</td>\n",
       "      <td>0</td>\n",
       "      <td>0</td>\n",
       "      <td>0</td>\n",
       "      <td>0</td>\n",
       "      <td>0</td>\n",
       "      <td>0</td>\n",
       "      <td>0</td>\n",
       "      <td>0</td>\n",
       "      <td>...</td>\n",
       "      <td>0</td>\n",
       "      <td>0</td>\n",
       "      <td>0</td>\n",
       "      <td>0</td>\n",
       "      <td>0</td>\n",
       "      <td>0</td>\n",
       "      <td>0</td>\n",
       "      <td>0</td>\n",
       "      <td>0</td>\n",
       "      <td>0</td>\n",
       "    </tr>\n",
       "    <tr>\n",
       "      <th>4</th>\n",
       "      <td>3</td>\n",
       "      <td>1</td>\n",
       "      <td>64</td>\n",
       "      <td>5</td>\n",
       "      <td>32</td>\n",
       "      <td>0</td>\n",
       "      <td>0</td>\n",
       "      <td>6</td>\n",
       "      <td>0</td>\n",
       "      <td>0</td>\n",
       "      <td>...</td>\n",
       "      <td>0</td>\n",
       "      <td>0</td>\n",
       "      <td>0</td>\n",
       "      <td>0</td>\n",
       "      <td>0</td>\n",
       "      <td>0</td>\n",
       "      <td>0</td>\n",
       "      <td>0</td>\n",
       "      <td>0</td>\n",
       "      <td>0</td>\n",
       "    </tr>\n",
       "  </tbody>\n",
       "</table>\n",
       "<p>5 rows × 144 columns</p>\n",
       "</div>"
      ],
      "text/plain": [
       "   City  State  Aspergillus flavus/oryzae  Aspergillus fumigatus  \\\n",
       "0     0      0                          0                      0   \n",
       "1     1      1                          0                      0   \n",
       "2     2      1                          0                      3   \n",
       "3     2      1                          0                      0   \n",
       "4     3      1                         64                      5   \n",
       "\n",
       "   Aspergillus niger  Aspergillus ochraceus  Aspergillus penicillioides  \\\n",
       "0                 14                      0                           0   \n",
       "1                 12                      0                           5   \n",
       "2                  3                    234                           0   \n",
       "3                  0                      0                           0   \n",
       "4                 32                      0                           0   \n",
       "\n",
       "   Aspergillus restrictus*  Aspergillus sclerotiorum  Aspergillus sydowii  \\\n",
       "0                       11                         0                    0   \n",
       "1                        0                         0                    0   \n",
       "2                        6                         0                    5   \n",
       "3                        0                         0                    0   \n",
       "4                        6                         0                    0   \n",
       "\n",
       "   ...  Immune_chronicmonoorepstein-barrvirus  Immune_frequentherpesoutbreaks  \\\n",
       "0  ...                                      0                               0   \n",
       "1  ...                                      0                               0   \n",
       "2  ...                                      1                               0   \n",
       "3  ...                                      0                               0   \n",
       "4  ...                                      0                               0   \n",
       "\n",
       "   Immune_viralinfectionsbecomebacterial  \\\n",
       "0                                      0   \n",
       "1                                      0   \n",
       "2                                      0   \n",
       "3                                      0   \n",
       "4                                      0   \n",
       "\n",
       "   Immune_increasedsusceptibilitytocancer  \\\n",
       "0                                       0   \n",
       "1                                       0   \n",
       "2                                       0   \n",
       "3                                       0   \n",
       "4                                       0   \n",
       "\n",
       "   Reproductive_changesinmenstrualcycle  \\\n",
       "0                                     1   \n",
       "1                                     0   \n",
       "2                                     1   \n",
       "3                                     0   \n",
       "4                                     0   \n",
       "\n",
       "   Reproductive_inconsistentmenstrualcycle  \\\n",
       "0                                        1   \n",
       "1                                        0   \n",
       "2                                        1   \n",
       "3                                        0   \n",
       "4                                        0   \n",
       "\n",
       "   Reproductive_vaginalyeastorbacterialinfections  Reproductive_jockitch  \\\n",
       "0                                               1                      1   \n",
       "1                                               1                      0   \n",
       "2                                               0                      0   \n",
       "3                                               0                      0   \n",
       "4                                               0                      0   \n",
       "\n",
       "   Reproductive_infertilityinbothgenders  Reproductive_hormoneimbalances  \n",
       "0                                      1                               1  \n",
       "1                                      0                               1  \n",
       "2                                      0                               1  \n",
       "3                                      0                               0  \n",
       "4                                      0                               0  \n",
       "\n",
       "[5 rows x 144 columns]"
      ]
     },
     "execution_count": 1,
     "metadata": {},
     "output_type": "execute_result"
    }
   ],
   "source": [
    "import pandas as pd\n",
    "import numpy as np\n",
    "import matplotlib.pyplot as plt\n",
    "%matplotlib inline\n",
    "from sklearn.preprocessing import StandardScaler\n",
    "\n",
    "df = pd.read_csv('cleanData_LocationNum.csv')\n",
    "df.head(5)"
   ]
  },
  {
   "cell_type": "markdown",
   "metadata": {},
   "source": [
    "Principal Component Analysis(PCA) to reduce the 145 columns"
   ]
  },
  {
   "cell_type": "code",
   "execution_count": 2,
   "metadata": {},
   "outputs": [
    {
     "data": {
      "text/plain": [
       "(553, 144)"
      ]
     },
     "execution_count": 2,
     "metadata": {},
     "output_type": "execute_result"
    }
   ],
   "source": [
    "#Inital Shape\n",
    "df.shape"
   ]
  },
  {
   "cell_type": "code",
   "execution_count": 3,
   "metadata": {},
   "outputs": [],
   "source": [
    "#Extracting Symptom columns for Model\n",
    "brain_symptomDF = df.filter(like='Brain')"
   ]
  },
  {
   "cell_type": "code",
   "execution_count": 4,
   "metadata": {},
   "outputs": [
    {
     "name": "stdout",
     "output_type": "stream",
     "text": [
      "(553, 38)\n"
     ]
    }
   ],
   "source": [
    "# Extracting location and mold columns for PCA analysis\n",
    "location_moldDF = df.loc[:,'City':'Rhizopus stolonifer']\n",
    "print(location_moldDF.shape)"
   ]
  },
  {
   "cell_type": "code",
   "execution_count": 5,
   "metadata": {},
   "outputs": [
    {
     "name": "stdout",
     "output_type": "stream",
     "text": [
      "(553, 36)\n"
     ]
    }
   ],
   "source": [
    "# Just mold\n",
    "moldDF = df.loc[:,'Aspergillus flavus/oryzae':'Rhizopus stolonifer']\n",
    "print(moldDF.shape)"
   ]
  },
  {
   "cell_type": "markdown",
   "metadata": {},
   "source": [
    "1. Standardaization"
   ]
  },
  {
   "cell_type": "code",
   "execution_count": 6,
   "metadata": {},
   "outputs": [],
   "source": [
    "# Standardizing the data\n",
    "scaler = StandardScaler()\n",
    "data_std = scaler.fit_transform(location_moldDF)\n"
   ]
  },
  {
   "cell_type": "markdown",
   "metadata": {},
   "source": [
    "2.Apply PCA"
   ]
  },
  {
   "cell_type": "code",
   "execution_count": 7,
   "metadata": {},
   "outputs": [
    {
     "name": "stdout",
     "output_type": "stream",
     "text": [
      "Number of components chosen: 26\n"
     ]
    }
   ],
   "source": [
    "from sklearn.decomposition import PCA\n",
    "\n",
    "# Choosing the number of components for PCA\n",
    "pca = PCA(n_components=0.90)  # Retains 90% of the variance\n",
    "X_pca = pca.fit_transform(data_std)\n",
    "\n",
    "# Check how many components were selected\n",
    "print(\"Number of components chosen:\", pca.n_components_)"
   ]
  },
  {
   "cell_type": "markdown",
   "metadata": {},
   "source": [
    "Gradient Boosting Machine "
   ]
  },
  {
   "cell_type": "code",
   "execution_count": null,
   "metadata": {},
   "outputs": [],
   "source": []
  }
 ],
 "metadata": {
  "kernelspec": {
   "display_name": "Python 3",
   "language": "python",
   "name": "python3"
  },
  "language_info": {
   "codemirror_mode": {
    "name": "ipython",
    "version": 3
   },
   "file_extension": ".py",
   "mimetype": "text/x-python",
   "name": "python",
   "nbconvert_exporter": "python",
   "pygments_lexer": "ipython3",
   "version": "3.10.7"
  }
 },
 "nbformat": 4,
 "nbformat_minor": 2
}
