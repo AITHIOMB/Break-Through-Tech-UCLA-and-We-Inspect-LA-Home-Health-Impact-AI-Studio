{
 "cells": [
  {
   "cell_type": "code",
   "execution_count": 129,
   "metadata": {},
   "outputs": [
    {
     "data": {
      "text/html": [
       "<div>\n",
       "<style scoped>\n",
       "    .dataframe tbody tr th:only-of-type {\n",
       "        vertical-align: middle;\n",
       "    }\n",
       "\n",
       "    .dataframe tbody tr th {\n",
       "        vertical-align: top;\n",
       "    }\n",
       "\n",
       "    .dataframe thead th {\n",
       "        text-align: right;\n",
       "    }\n",
       "</style>\n",
       "<table border=\"1\" class=\"dataframe\">\n",
       "  <thead>\n",
       "    <tr style=\"text-align: right;\">\n",
       "      <th></th>\n",
       "      <th>City</th>\n",
       "      <th>State</th>\n",
       "      <th>Aspergillus flavus/oryzae</th>\n",
       "      <th>Aspergillus fumigatus</th>\n",
       "      <th>Aspergillus niger</th>\n",
       "      <th>Aspergillus ochraceus</th>\n",
       "      <th>Aspergillus penicillioides</th>\n",
       "      <th>Aspergillus restrictus*</th>\n",
       "      <th>Aspergillus sclerotiorum</th>\n",
       "      <th>Aspergillus sydowii</th>\n",
       "      <th>...</th>\n",
       "      <th>Immune_chronicmonoorepstein-barrvirus</th>\n",
       "      <th>Immune_frequentherpesoutbreaks</th>\n",
       "      <th>Immune_viralinfectionsbecomebacterial</th>\n",
       "      <th>Immune_increasedsusceptibilitytocancer</th>\n",
       "      <th>Reproductive_changesinmenstrualcycle</th>\n",
       "      <th>Reproductive_inconsistentmenstrualcycle</th>\n",
       "      <th>Reproductive_vaginalyeastorbacterialinfections</th>\n",
       "      <th>Reproductive_jockitch</th>\n",
       "      <th>Reproductive_infertilityinbothgenders</th>\n",
       "      <th>Reproductive_hormoneimbalances</th>\n",
       "    </tr>\n",
       "  </thead>\n",
       "  <tbody>\n",
       "    <tr>\n",
       "      <th>0</th>\n",
       "      <td>0</td>\n",
       "      <td>0</td>\n",
       "      <td>0</td>\n",
       "      <td>0</td>\n",
       "      <td>14</td>\n",
       "      <td>0</td>\n",
       "      <td>0</td>\n",
       "      <td>11</td>\n",
       "      <td>0</td>\n",
       "      <td>0</td>\n",
       "      <td>...</td>\n",
       "      <td>0</td>\n",
       "      <td>0</td>\n",
       "      <td>0</td>\n",
       "      <td>0</td>\n",
       "      <td>1</td>\n",
       "      <td>1</td>\n",
       "      <td>1</td>\n",
       "      <td>1</td>\n",
       "      <td>1</td>\n",
       "      <td>1</td>\n",
       "    </tr>\n",
       "    <tr>\n",
       "      <th>1</th>\n",
       "      <td>1</td>\n",
       "      <td>1</td>\n",
       "      <td>0</td>\n",
       "      <td>0</td>\n",
       "      <td>12</td>\n",
       "      <td>0</td>\n",
       "      <td>5</td>\n",
       "      <td>0</td>\n",
       "      <td>0</td>\n",
       "      <td>0</td>\n",
       "      <td>...</td>\n",
       "      <td>0</td>\n",
       "      <td>0</td>\n",
       "      <td>0</td>\n",
       "      <td>0</td>\n",
       "      <td>0</td>\n",
       "      <td>0</td>\n",
       "      <td>1</td>\n",
       "      <td>0</td>\n",
       "      <td>0</td>\n",
       "      <td>1</td>\n",
       "    </tr>\n",
       "    <tr>\n",
       "      <th>2</th>\n",
       "      <td>2</td>\n",
       "      <td>1</td>\n",
       "      <td>0</td>\n",
       "      <td>3</td>\n",
       "      <td>3</td>\n",
       "      <td>234</td>\n",
       "      <td>0</td>\n",
       "      <td>6</td>\n",
       "      <td>0</td>\n",
       "      <td>5</td>\n",
       "      <td>...</td>\n",
       "      <td>1</td>\n",
       "      <td>0</td>\n",
       "      <td>0</td>\n",
       "      <td>0</td>\n",
       "      <td>1</td>\n",
       "      <td>1</td>\n",
       "      <td>0</td>\n",
       "      <td>0</td>\n",
       "      <td>0</td>\n",
       "      <td>1</td>\n",
       "    </tr>\n",
       "    <tr>\n",
       "      <th>3</th>\n",
       "      <td>2</td>\n",
       "      <td>1</td>\n",
       "      <td>0</td>\n",
       "      <td>0</td>\n",
       "      <td>0</td>\n",
       "      <td>0</td>\n",
       "      <td>0</td>\n",
       "      <td>0</td>\n",
       "      <td>0</td>\n",
       "      <td>0</td>\n",
       "      <td>...</td>\n",
       "      <td>0</td>\n",
       "      <td>0</td>\n",
       "      <td>0</td>\n",
       "      <td>0</td>\n",
       "      <td>0</td>\n",
       "      <td>0</td>\n",
       "      <td>0</td>\n",
       "      <td>0</td>\n",
       "      <td>0</td>\n",
       "      <td>0</td>\n",
       "    </tr>\n",
       "    <tr>\n",
       "      <th>4</th>\n",
       "      <td>3</td>\n",
       "      <td>1</td>\n",
       "      <td>64</td>\n",
       "      <td>5</td>\n",
       "      <td>32</td>\n",
       "      <td>0</td>\n",
       "      <td>0</td>\n",
       "      <td>6</td>\n",
       "      <td>0</td>\n",
       "      <td>0</td>\n",
       "      <td>...</td>\n",
       "      <td>0</td>\n",
       "      <td>0</td>\n",
       "      <td>0</td>\n",
       "      <td>0</td>\n",
       "      <td>0</td>\n",
       "      <td>0</td>\n",
       "      <td>0</td>\n",
       "      <td>0</td>\n",
       "      <td>0</td>\n",
       "      <td>0</td>\n",
       "    </tr>\n",
       "  </tbody>\n",
       "</table>\n",
       "<p>5 rows × 144 columns</p>\n",
       "</div>"
      ],
      "text/plain": [
       "   City  State  Aspergillus flavus/oryzae  Aspergillus fumigatus  \\\n",
       "0     0      0                          0                      0   \n",
       "1     1      1                          0                      0   \n",
       "2     2      1                          0                      3   \n",
       "3     2      1                          0                      0   \n",
       "4     3      1                         64                      5   \n",
       "\n",
       "   Aspergillus niger  Aspergillus ochraceus  Aspergillus penicillioides  \\\n",
       "0                 14                      0                           0   \n",
       "1                 12                      0                           5   \n",
       "2                  3                    234                           0   \n",
       "3                  0                      0                           0   \n",
       "4                 32                      0                           0   \n",
       "\n",
       "   Aspergillus restrictus*  Aspergillus sclerotiorum  Aspergillus sydowii  \\\n",
       "0                       11                         0                    0   \n",
       "1                        0                         0                    0   \n",
       "2                        6                         0                    5   \n",
       "3                        0                         0                    0   \n",
       "4                        6                         0                    0   \n",
       "\n",
       "   ...  Immune_chronicmonoorepstein-barrvirus  Immune_frequentherpesoutbreaks  \\\n",
       "0  ...                                      0                               0   \n",
       "1  ...                                      0                               0   \n",
       "2  ...                                      1                               0   \n",
       "3  ...                                      0                               0   \n",
       "4  ...                                      0                               0   \n",
       "\n",
       "   Immune_viralinfectionsbecomebacterial  \\\n",
       "0                                      0   \n",
       "1                                      0   \n",
       "2                                      0   \n",
       "3                                      0   \n",
       "4                                      0   \n",
       "\n",
       "   Immune_increasedsusceptibilitytocancer  \\\n",
       "0                                       0   \n",
       "1                                       0   \n",
       "2                                       0   \n",
       "3                                       0   \n",
       "4                                       0   \n",
       "\n",
       "   Reproductive_changesinmenstrualcycle  \\\n",
       "0                                     1   \n",
       "1                                     0   \n",
       "2                                     1   \n",
       "3                                     0   \n",
       "4                                     0   \n",
       "\n",
       "   Reproductive_inconsistentmenstrualcycle  \\\n",
       "0                                        1   \n",
       "1                                        0   \n",
       "2                                        1   \n",
       "3                                        0   \n",
       "4                                        0   \n",
       "\n",
       "   Reproductive_vaginalyeastorbacterialinfections  Reproductive_jockitch  \\\n",
       "0                                               1                      1   \n",
       "1                                               1                      0   \n",
       "2                                               0                      0   \n",
       "3                                               0                      0   \n",
       "4                                               0                      0   \n",
       "\n",
       "   Reproductive_infertilityinbothgenders  Reproductive_hormoneimbalances  \n",
       "0                                      1                               1  \n",
       "1                                      0                               1  \n",
       "2                                      0                               1  \n",
       "3                                      0                               0  \n",
       "4                                      0                               0  \n",
       "\n",
       "[5 rows x 144 columns]"
      ]
     },
     "execution_count": 129,
     "metadata": {},
     "output_type": "execute_result"
    }
   ],
   "source": [
    "import pandas as pd\n",
    "import numpy as np\n",
    "import matplotlib.pyplot as plt\n",
    "%matplotlib inline\n",
    "from sklearn.preprocessing import StandardScaler\n",
    "\n",
    "df = pd.read_csv('cleanData_LocationNum.csv')\n",
    "df.head(5)"
   ]
  },
  {
   "cell_type": "markdown",
   "metadata": {},
   "source": [
    "Principal Component Analysis(PCA) to reduce the 145 columns"
   ]
  },
  {
   "cell_type": "code",
   "execution_count": 130,
   "metadata": {},
   "outputs": [
    {
     "data": {
      "text/plain": [
       "(553, 144)"
      ]
     },
     "execution_count": 130,
     "metadata": {},
     "output_type": "execute_result"
    }
   ],
   "source": [
    "#Inital Shape\n",
    "df.shape"
   ]
  },
  {
   "cell_type": "code",
   "execution_count": 131,
   "metadata": {},
   "outputs": [
    {
     "data": {
      "text/html": [
       "<div>\n",
       "<style scoped>\n",
       "    .dataframe tbody tr th:only-of-type {\n",
       "        vertical-align: middle;\n",
       "    }\n",
       "\n",
       "    .dataframe tbody tr th {\n",
       "        vertical-align: top;\n",
       "    }\n",
       "\n",
       "    .dataframe thead th {\n",
       "        text-align: right;\n",
       "    }\n",
       "</style>\n",
       "<table border=\"1\" class=\"dataframe\">\n",
       "  <thead>\n",
       "    <tr style=\"text-align: right;\">\n",
       "      <th></th>\n",
       "      <th>Brain_brainfog</th>\n",
       "      <th>Brain_memoryloss</th>\n",
       "      <th>Brain_anger/aggressiveness</th>\n",
       "      <th>Brain_confusion</th>\n",
       "      <th>Brain_troublefindingtherightword</th>\n",
       "    </tr>\n",
       "  </thead>\n",
       "  <tbody>\n",
       "    <tr>\n",
       "      <th>0</th>\n",
       "      <td>1</td>\n",
       "      <td>0</td>\n",
       "      <td>0</td>\n",
       "      <td>0</td>\n",
       "      <td>0</td>\n",
       "    </tr>\n",
       "    <tr>\n",
       "      <th>1</th>\n",
       "      <td>1</td>\n",
       "      <td>1</td>\n",
       "      <td>1</td>\n",
       "      <td>0</td>\n",
       "      <td>0</td>\n",
       "    </tr>\n",
       "    <tr>\n",
       "      <th>2</th>\n",
       "      <td>1</td>\n",
       "      <td>1</td>\n",
       "      <td>1</td>\n",
       "      <td>1</td>\n",
       "      <td>1</td>\n",
       "    </tr>\n",
       "    <tr>\n",
       "      <th>3</th>\n",
       "      <td>0</td>\n",
       "      <td>0</td>\n",
       "      <td>0</td>\n",
       "      <td>0</td>\n",
       "      <td>0</td>\n",
       "    </tr>\n",
       "    <tr>\n",
       "      <th>4</th>\n",
       "      <td>1</td>\n",
       "      <td>0</td>\n",
       "      <td>1</td>\n",
       "      <td>0</td>\n",
       "      <td>1</td>\n",
       "    </tr>\n",
       "    <tr>\n",
       "      <th>...</th>\n",
       "      <td>...</td>\n",
       "      <td>...</td>\n",
       "      <td>...</td>\n",
       "      <td>...</td>\n",
       "      <td>...</td>\n",
       "    </tr>\n",
       "    <tr>\n",
       "      <th>548</th>\n",
       "      <td>0</td>\n",
       "      <td>0</td>\n",
       "      <td>0</td>\n",
       "      <td>0</td>\n",
       "      <td>0</td>\n",
       "    </tr>\n",
       "    <tr>\n",
       "      <th>549</th>\n",
       "      <td>1</td>\n",
       "      <td>0</td>\n",
       "      <td>0</td>\n",
       "      <td>0</td>\n",
       "      <td>0</td>\n",
       "    </tr>\n",
       "    <tr>\n",
       "      <th>550</th>\n",
       "      <td>0</td>\n",
       "      <td>0</td>\n",
       "      <td>0</td>\n",
       "      <td>0</td>\n",
       "      <td>0</td>\n",
       "    </tr>\n",
       "    <tr>\n",
       "      <th>551</th>\n",
       "      <td>0</td>\n",
       "      <td>0</td>\n",
       "      <td>0</td>\n",
       "      <td>0</td>\n",
       "      <td>0</td>\n",
       "    </tr>\n",
       "    <tr>\n",
       "      <th>552</th>\n",
       "      <td>1</td>\n",
       "      <td>0</td>\n",
       "      <td>0</td>\n",
       "      <td>0</td>\n",
       "      <td>0</td>\n",
       "    </tr>\n",
       "  </tbody>\n",
       "</table>\n",
       "<p>553 rows × 5 columns</p>\n",
       "</div>"
      ],
      "text/plain": [
       "     Brain_brainfog  Brain_memoryloss  Brain_anger/aggressiveness  \\\n",
       "0                 1                 0                           0   \n",
       "1                 1                 1                           1   \n",
       "2                 1                 1                           1   \n",
       "3                 0                 0                           0   \n",
       "4                 1                 0                           1   \n",
       "..              ...               ...                         ...   \n",
       "548               0                 0                           0   \n",
       "549               1                 0                           0   \n",
       "550               0                 0                           0   \n",
       "551               0                 0                           0   \n",
       "552               1                 0                           0   \n",
       "\n",
       "     Brain_confusion  Brain_troublefindingtherightword  \n",
       "0                  0                                 0  \n",
       "1                  0                                 0  \n",
       "2                  1                                 1  \n",
       "3                  0                                 0  \n",
       "4                  0                                 1  \n",
       "..               ...                               ...  \n",
       "548                0                                 0  \n",
       "549                0                                 0  \n",
       "550                0                                 0  \n",
       "551                0                                 0  \n",
       "552                0                                 0  \n",
       "\n",
       "[553 rows x 5 columns]"
      ]
     },
     "execution_count": 131,
     "metadata": {},
     "output_type": "execute_result"
    }
   ],
   "source": [
    "#Extracting Symptom columns for Model\n",
    "brain_symptomDF = df.filter(like='Brain')\n",
    "brain_symptomDF"
   ]
  },
  {
   "cell_type": "code",
   "execution_count": 132,
   "metadata": {},
   "outputs": [
    {
     "name": "stdout",
     "output_type": "stream",
     "text": [
      "(553, 36)\n"
     ]
    },
    {
     "data": {
      "text/plain": [
       "Index(['City', 'State', 'Aspergillus flavus/oryzae', 'Aspergillus fumigatus',\n",
       "       'Aspergillus niger', 'Aspergillus ochraceus',\n",
       "       'Aspergillus penicillioides', 'Aspergillus restrictus*',\n",
       "       'Aspergillus sclerotiorum', 'Aspergillus sydowii', 'Aspergillus unguis',\n",
       "       'Aspergillus versicolor', 'Aureobasidium pullulans',\n",
       "       'Chaetomium globosum', 'Cladosporium sphaerospermum',\n",
       "       'Eurotium (Asp.) amstelodami*', 'Paecilomyces variotii',\n",
       "       'Penicillium brevicompactum', 'Penicillium corylophilum',\n",
       "       'Penicillium crustosum*', 'Penicillium purpurogenum',\n",
       "       'Penicillium spinulosum*', 'Penicillium variabile',\n",
       "       'Scopulariopsis brevicaulis/fusca', 'Scopulariopsis chartarum',\n",
       "       'Stachybotrys chartarum', 'Trichoderma viride*', 'Wallemia sebi',\n",
       "       'Acremonium strictum', 'Alternaria alternata', 'Aspergillus ustus',\n",
       "       'Cladosporium cladosporioides 1', 'Cladosporium cladosporioides 2',\n",
       "       'Cladosporium herbarum', 'Epicoccum nigrum', 'Mucor amphibiorum*',\n",
       "       'Penicillium chrysogenum', 'Rhizopus stolonifer'],\n",
       "      dtype='object')"
      ]
     },
     "execution_count": 132,
     "metadata": {},
     "output_type": "execute_result"
    }
   ],
   "source": [
    "# Extracting location and mold columns for PCA analysis\n",
    "location_moldDF = df.loc[:,'City':'Rhizopus stolonifer']\n",
    "print(moldDF.shape)\n",
    "location_moldDF.columns"
   ]
  },
  {
   "cell_type": "code",
   "execution_count": 133,
   "metadata": {},
   "outputs": [
    {
     "name": "stdout",
     "output_type": "stream",
     "text": [
      "(553, 36)\n"
     ]
    },
    {
     "data": {
      "text/plain": [
       "Index(['Aspergillus flavus/oryzae', 'Aspergillus fumigatus',\n",
       "       'Aspergillus niger', 'Aspergillus ochraceus',\n",
       "       'Aspergillus penicillioides', 'Aspergillus restrictus*',\n",
       "       'Aspergillus sclerotiorum', 'Aspergillus sydowii', 'Aspergillus unguis',\n",
       "       'Aspergillus versicolor', 'Aureobasidium pullulans',\n",
       "       'Chaetomium globosum', 'Cladosporium sphaerospermum',\n",
       "       'Eurotium (Asp.) amstelodami*', 'Paecilomyces variotii',\n",
       "       'Penicillium brevicompactum', 'Penicillium corylophilum',\n",
       "       'Penicillium crustosum*', 'Penicillium purpurogenum',\n",
       "       'Penicillium spinulosum*', 'Penicillium variabile',\n",
       "       'Scopulariopsis brevicaulis/fusca', 'Scopulariopsis chartarum',\n",
       "       'Stachybotrys chartarum', 'Trichoderma viride*', 'Wallemia sebi',\n",
       "       'Acremonium strictum', 'Alternaria alternata', 'Aspergillus ustus',\n",
       "       'Cladosporium cladosporioides 1', 'Cladosporium cladosporioides 2',\n",
       "       'Cladosporium herbarum', 'Epicoccum nigrum', 'Mucor amphibiorum*',\n",
       "       'Penicillium chrysogenum', 'Rhizopus stolonifer'],\n",
       "      dtype='object')"
      ]
     },
     "execution_count": 133,
     "metadata": {},
     "output_type": "execute_result"
    }
   ],
   "source": [
    "# Just mold\n",
    "moldDF = df.loc[:,'Aspergillus flavus/oryzae':'Rhizopus stolonifer']\n",
    "print(moldDF.shape)\n",
    "moldDF.columns"
   ]
  },
  {
   "cell_type": "markdown",
   "metadata": {},
   "source": [
    "1. Standardaization"
   ]
  },
  {
   "cell_type": "code",
   "execution_count": 134,
   "metadata": {},
   "outputs": [],
   "source": [
    "# Standardizing the data\n",
    "scaler = StandardScaler()\n",
    "data_std = scaler.fit_transform(location_moldDF)\n"
   ]
  },
  {
   "cell_type": "markdown",
   "metadata": {},
   "source": [
    "2.Apply PCA"
   ]
  },
  {
   "cell_type": "code",
   "execution_count": 135,
   "metadata": {},
   "outputs": [
    {
     "name": "stdout",
     "output_type": "stream",
     "text": [
      "Number of components chosen: 26\n"
     ]
    }
   ],
   "source": [
    "from sklearn.decomposition import PCA\n",
    "\n",
    "# Choosing the number of components for PCA\n",
    "pca = PCA(n_components=0.90)  # Retains 90% of the variance\n",
    "X_pca = pca.fit_transform(data_std)\n",
    "\n",
    "# Check how many components were selected\n",
    "print(\"Number of components chosen:\", pca.n_components_)"
   ]
  },
  {
   "cell_type": "markdown",
   "metadata": {},
   "source": [
    "says i need 383 components to capture 90% of the data"
   ]
  },
  {
   "cell_type": "markdown",
   "metadata": {},
   "source": [
    "If there is any correlation above 75% get their names. From there we can observe that the two types are always coexisitng in the data. Check how to set threshold for correlation matrix. \n",
    "\n",
    "if they are highly correlated, one of them can be dropped. "
   ]
  },
  {
   "cell_type": "markdown",
   "metadata": {},
   "source": [
    "PCA value to be on an adjusted scale"
   ]
  },
  {
   "cell_type": "code",
   "execution_count": 136,
   "metadata": {},
   "outputs": [],
   "source": [
    "#need help on this part?"
   ]
  },
  {
   "cell_type": "markdown",
   "metadata": {},
   "source": [
    "2 Models: City and state & City State and Mold\n",
    "\n",
    "depending on the outcome, we can determine if city and state have a correlation with the data \n",
    "From that we can see what model works the best \n",
    "\n"
   ]
  },
  {
   "cell_type": "markdown",
   "metadata": {},
   "source": [
    "SVC / SVM (Observation Notes in Readme File)"
   ]
  },
  {
   "cell_type": "code",
   "execution_count": 137,
   "metadata": {},
   "outputs": [
    {
     "data": {
      "text/plain": [
       "'\\nbrainSymptomList = [\\'Brain_brainfog\\',\\'Brain_memoryloss\\',\\'Brain_anger/aggressiveness\\',\\'Brain_confusion\\',\\'Brain_troublefindingtherightword\\']\\n\\nparam_grid = {\\n    \\'C\\': [0.1, 1, 10, 100],  # Regularization parameter\\n    \\'gamma\\': [\\'scale\\', \\'auto\\', 1, 0.1, 0.01, 0.001],  # Kernel coefficient\\n    \\'kernel\\': [\\'linear\\', \\'rbf\\', \\'poly\\']  # Specifies the kernel type to be used in the algorithm\\n}\\n\\nX = X_pca #Just Mold DF\\ny = brain_symptomDF[\\'Brain_brainfog\\']\\n\\n# split\\nX_train, X_test, y_train, y_test = train_test_split(X, y, test_size=0.3, random_state=42)\\n\\n# Creating the SVC model\\ngrid_search = GridSearchCV(SVC(), param_grid, refit=True, verbose=2, cv=5)\\n\\n# Training the model\\ngrid_search.fit(X_train, y_train)\\n\\n# Making predictions\\ny_pred = grid_search.predict(X_test)\\n\\n# Evaluating the model\\nprint(\"Confusion Matrix:\")\\nprint(confusion_matrix(y_test, y_pred))\\nprint(\"\\nClassification Report:\")\\nprint(classification_report(y_test, y_pred))\\n'"
      ]
     },
     "execution_count": 137,
     "metadata": {},
     "output_type": "execute_result"
    }
   ],
   "source": [
    "from sklearn.model_selection import train_test_split\n",
    "from sklearn.svm import SVC\n",
    "from sklearn.metrics import classification_report, confusion_matrix\n",
    "from sklearn.model_selection import GridSearchCV\n",
    "'''\n",
    "brainSymptomList = ['Brain_brainfog','Brain_memoryloss','Brain_anger/aggressiveness','Brain_confusion','Brain_troublefindingtherightword']\n",
    "\n",
    "param_grid = {\n",
    "    'C': [0.1, 1, 10, 100],  # Regularization parameter\n",
    "    'gamma': ['scale', 'auto', 1, 0.1, 0.01, 0.001],  # Kernel coefficient\n",
    "    'kernel': ['linear', 'rbf', 'poly']  # Specifies the kernel type to be used in the algorithm\n",
    "}\n",
    "\n",
    "X = X_pca #Just Mold DF\n",
    "y = brain_symptomDF['Brain_brainfog']\n",
    "\n",
    "# split\n",
    "X_train, X_test, y_train, y_test = train_test_split(X, y, test_size=0.3, random_state=42)\n",
    "\n",
    "# Creating the SVC model\n",
    "grid_search = GridSearchCV(SVC(), param_grid, refit=True, verbose=2, cv=5)\n",
    "\n",
    "# Training the model\n",
    "grid_search.fit(X_train, y_train)\n",
    "\n",
    "# Making predictions\n",
    "y_pred = grid_search.predict(X_test)\n",
    "\n",
    "# Evaluating the model\n",
    "print(\"Confusion Matrix:\")\n",
    "print(confusion_matrix(y_test, y_pred))\n",
    "print(\"\\nClassification Report:\")\n",
    "print(classification_report(y_test, y_pred))\n",
    "'''"
   ]
  },
  {
   "cell_type": "markdown",
   "metadata": {},
   "source": [
    "Multiclass Classification \n",
    "\n",
    "Label encoding: Check file share "
   ]
  },
  {
   "cell_type": "code",
   "execution_count": 149,
   "metadata": {},
   "outputs": [
    {
     "name": "stdout",
     "output_type": "stream",
     "text": [
      "Accuracy: 0.5301204819277109\n",
      "Confusion Matrix:\n",
      "[[44 26]\n",
      " [52 44]]\n",
      "\n",
      "Classification Report:\n",
      "              precision    recall  f1-score   support\n",
      "\n",
      "           0       0.46      0.63      0.53        70\n",
      "           1       0.63      0.46      0.53        96\n",
      "\n",
      "    accuracy                           0.53       166\n",
      "   macro avg       0.54      0.54      0.53       166\n",
      "weighted avg       0.56      0.53      0.53       166\n",
      "\n"
     ]
    }
   ],
   "source": [
    "import numpy as np\n",
    "import pandas as pd\n",
    "from sklearn.preprocessing import StandardScaler\n",
    "from sklearn.linear_model import LogisticRegression  \n",
    "from sklearn.metrics import classification_report, accuracy_score, confusion_matrix\n",
    "from sklearn.ensemble import RandomForestClassifier  \n",
    "from sklearn.model_selection import train_test_split, GridSearchCV\n",
    "\n",
    "# Separate features (X) and target variable (y)\n",
    "X = X_pca\n",
    "y = brain_symptomDF['Brain_brainfog']\n",
    "\n",
    "# Split the data into training and testing sets\n",
    "X_train, X_test, y_train, y_test = train_test_split(X, y, test_size=0.3, random_state=42)\n",
    "\n",
    "classifier = RandomForestClassifier(n_estimators=300, max_depth=None,min_samples_split=2,min_samples_leaf=1)\n",
    "classifier.fit(X_train, y_train)\n",
    "\n",
    "y_pred = classifier.predict(X_test)\n",
    "\n",
    "accuracy = accuracy_score(y_test, y_pred)\n",
    "confusion = confusion_matrix(y_test, y_pred)\n",
    "classification_rep = classification_report(y_test, y_pred)\n",
    "\n",
    "print(\"Accuracy:\", accuracy)\n",
    "print(\"Confusion Matrix:\")\n",
    "print(confusion)\n",
    "print(\"\\nClassification Report:\")\n",
    "print(classification_rep)\n"
   ]
  }
 ],
 "metadata": {
  "kernelspec": {
   "display_name": "Python 3",
   "language": "python",
   "name": "python3"
  },
  "language_info": {
   "codemirror_mode": {
    "name": "ipython",
    "version": 3
   },
   "file_extension": ".py",
   "mimetype": "text/x-python",
   "name": "python",
   "nbconvert_exporter": "python",
   "pygments_lexer": "ipython3",
   "version": "3.10.7"
  }
 },
 "nbformat": 4,
 "nbformat_minor": 2
}
