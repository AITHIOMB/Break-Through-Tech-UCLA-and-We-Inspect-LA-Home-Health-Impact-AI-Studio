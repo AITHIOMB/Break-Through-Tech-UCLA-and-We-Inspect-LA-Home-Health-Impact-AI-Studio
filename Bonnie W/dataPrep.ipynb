{
 "cells": [
  {
   "cell_type": "code",
   "execution_count": 469,
   "metadata": {},
   "outputs": [],
   "source": [
    "import csv\n",
    "import pandas as pd\n",
    "import numpy as np\n",
    "import os \n",
    "import matplotlib.pyplot as plt\n",
    "import seaborn as sns\n",
    "import warnings\n",
    "\n",
    "# Mute pandas performance warning\n",
    "warnings.filterwarnings(\"ignore\", category=pd.errors.PerformanceWarning)\n",
    "warnings.filterwarnings(\"ignore\", category=pd.core.generic.SettingWithCopyWarning)\n",
    "\n",
    "\n"
   ]
  },
  {
   "cell_type": "code",
   "execution_count": 470,
   "metadata": {},
   "outputs": [
    {
     "data": {
      "text/plain": [
       "(581, 56)"
      ]
     },
     "execution_count": 470,
     "metadata": {},
     "output_type": "execute_result"
    }
   ],
   "source": [
    "df = pd.read_csv('WeInspectB.csv')\n",
    "df.shape"
   ]
  },
  {
   "cell_type": "code",
   "execution_count": 471,
   "metadata": {},
   "outputs": [
    {
     "name": "stdout",
     "output_type": "stream",
     "text": [
      "City                                  5\n",
      "State                                23\n",
      "Zip                                   0\n",
      "Aspergillus flavus/oryzae             0\n",
      "Aspergillus fumigatus                 0\n",
      "Aspergillus niger                     0\n",
      "Aspergillus ochraceus                 0\n",
      "Aspergillus penicillioides          350\n",
      "Aspergillus restrictus*               0\n",
      "Aspergillus sclerotiorum              0\n",
      "Aspergillus sydowii                   0\n",
      "Aspergillus unguis                    0\n",
      "Aspergillus versicolor                0\n",
      "Aureobasidium pullulans               0\n",
      "Chaetomium globosum                   0\n",
      "Cladosporium sphaerospermum           0\n",
      "Eurotium (Asp.) amstelodami*          0\n",
      "Paecilomyces variotii                 0\n",
      "Penicillium brevicompactum            0\n",
      "Penicillium corylophilum              0\n",
      "Penicillium crustosum*                0\n",
      "Penicillium purpurogenum              0\n",
      "Penicillium spinulosum*               0\n",
      "Penicillium variabile                 0\n",
      "Scopulariopsis brevicaulis/fusca      0\n",
      "Scopulariopsis chartarum              0\n",
      "Stachybotrys chartarum                0\n",
      "Trichoderma viride*                   0\n",
      "Wallemia sebi                         0\n",
      "Sum of the Logs (Group I)             0\n",
      "Acremonium strictum                   0\n",
      "Alternaria alternata                  0\n",
      "Aspergillus ustus                     0\n",
      "Cladosporium cladosporioides 1      350\n",
      "Cladosporium cladosporioides 2      350\n",
      "Cladosporium herbarum               350\n",
      "Epicoccum nigrum                      0\n",
      "Mucor amphibiorum*                    0\n",
      "Penicillium chrysogenum               0\n",
      "Rhizopus stolonifer                   0\n",
      "Sum of the Logs (Group II)            0\n",
      "ERMI Score (Group I - Group II)       0\n",
      "Unnamed: 42                         581\n",
      "Unnamed: 43                         581\n",
      "Health Concerns?                      0\n",
      "Diagnoses                            91\n",
      "Eyes, Ears, Nose, & Throat          255\n",
      "Resipiratory                        400\n",
      "Digestive                           261\n",
      "Circulatory                         337\n",
      "Skin                                321\n",
      "Brain                               257\n",
      "Nervous                             235\n",
      "Urinary                             437\n",
      "Immune                              409\n",
      "Reproductive                        398\n",
      "dtype: int64\n"
     ]
    }
   ],
   "source": [
    "\n",
    "nan_count = np.sum(df.isnull(), axis = 0)\n",
    "print(nan_count)"
   ]
  },
  {
   "cell_type": "markdown",
   "metadata": {},
   "source": [
    "Manually Parsed Column Division"
   ]
  },
  {
   "cell_type": "code",
   "execution_count": 472,
   "metadata": {},
   "outputs": [],
   "source": [
    "### Declaring known value sets ### \n",
    "\n",
    "#Empty Columns & Non Valueble columns \n",
    "    #(Dropping health concerns because all entries are yes)\n",
    "emptyColumns = ['Unnamed: 42', 'Unnamed: 43','Health Concerns?'] \n",
    "\n",
    "#Location Columns\n",
    "locationColumns = ['City','State','Zip']\n",
    "\n",
    "#Syptom Columns (Columns that need to be one-hot encoded)\n",
    "symptomColumns = ['Diagnoses', \n",
    "                'Eyes, Ears, Nose, & Throat',\n",
    "                'Resipiratory', 'Digestive',\n",
    "                'Circulatory', \n",
    "                'Skin', \n",
    "                'Brain', \n",
    "                'Nervous', \n",
    "                'Urinary', \n",
    "                'Immune', \n",
    "                'Reproductive']\n",
    "\n",
    "#Health Information \n",
    "healthInfoColumns = [\n",
    "        'Sum of the Logs (Group I)',\n",
    "        'Sum of the Logs (Group II)',\n",
    "        'ERMI Score (Group I - Group II)']\n",
    "\n",
    "#Molds \n",
    "moldColumns = ['Aspergillus flavus/oryzae',\n",
    "       'Aspergillus fumigatus', 'Aspergillus niger', 'Aspergillus ochraceus',\n",
    "       'Aspergillus penicillioides', 'Aspergillus restrictus*',\n",
    "       'Aspergillus sclerotiorum', 'Aspergillus sydowii', 'Aspergillus unguis',\n",
    "       'Aspergillus versicolor', 'Aureobasidium pullulans',\n",
    "       'Chaetomium globosum', 'Cladosporium sphaerospermum',\n",
    "       'Eurotium (Asp.) amstelodami*', 'Paecilomyces variotii',\n",
    "       'Penicillium brevicompactum', 'Penicillium corylophilum',\n",
    "       'Penicillium crustosum*', 'Penicillium purpurogenum',\n",
    "       'Penicillium spinulosum*', 'Penicillium variabile',\n",
    "       'Scopulariopsis brevicaulis/fusca', 'Scopulariopsis chartarum',\n",
    "       'Stachybotrys chartarum', 'Trichoderma viride*', 'Wallemia sebi','Acremonium strictum',\n",
    "       'Alternaria alternata', 'Aspergillus ustus',\n",
    "       'Cladosporium cladosporioides 1', 'Cladosporium cladosporioides 2',\n",
    "       'Cladosporium herbarum', 'Epicoccum nigrum', 'Mucor amphibiorum*',\n",
    "       'Penicillium chrysogenum', 'Rhizopus stolonifer']"
   ]
  },
  {
   "cell_type": "markdown",
   "metadata": {},
   "source": [
    "Dataframe Parsing"
   ]
  },
  {
   "cell_type": "code",
   "execution_count": 473,
   "metadata": {},
   "outputs": [
    {
     "name": "stdout",
     "output_type": "stream",
     "text": [
      "Inital Columns Count:  56\n",
      "Count after dropping useless Columns:  53\n"
     ]
    }
   ],
   "source": [
    "# Drop all rows where Zip , City, and State are missing\n",
    "print(\"Inital Columns Count: \", len(df.columns))\n",
    "df = df.drop(emptyColumns,axis=1)\n",
    "print(\"Count after dropping useless Columns: \", len(df.columns))"
   ]
  },
  {
   "cell_type": "code",
   "execution_count": 474,
   "metadata": {},
   "outputs": [
    {
     "name": "stdout",
     "output_type": "stream",
     "text": [
      "Initial Rows before City/State/Zip Drop:  581\n",
      "Rows after Dropping: 553\n"
     ]
    }
   ],
   "source": [
    "# Creating a dataframe only handling symptom columns \n",
    "print(\"Initial Rows before City/State/Zip Drop: \", len(df))\n",
    "df = df.dropna(subset=['Zip', 'City', 'State'])\n",
    "print(\"Rows after Dropping:\" ,len(df))"
   ]
  },
  {
   "cell_type": "code",
   "execution_count": 475,
   "metadata": {},
   "outputs": [
    {
     "name": "stdout",
     "output_type": "stream",
     "text": [
      "Location Dataframe Columns:  3\n",
      "(553, 3)\n"
     ]
    }
   ],
   "source": [
    "\n",
    "# Creating dataframe handling location Data \n",
    "locationDF = df[locationColumns]\n",
    "print(\"Location Dataframe Columns: \", len(locationDF.columns) )\n",
    "print(locationDF.shape)"
   ]
  },
  {
   "cell_type": "code",
   "execution_count": 476,
   "metadata": {},
   "outputs": [
    {
     "name": "stdout",
     "output_type": "stream",
     "text": [
      "Health Information Dataframe Columns:  3\n",
      "(553, 3)\n"
     ]
    }
   ],
   "source": [
    "# Creating dataframe handling health information columns \n",
    "healthInfoDF = df[healthInfoColumns]\n",
    "print(\"Health Information Dataframe Columns: \", len(healthInfoDF.columns))\n",
    "print(healthInfoDF.shape)"
   ]
  },
  {
   "cell_type": "code",
   "execution_count": 477,
   "metadata": {},
   "outputs": [
    {
     "name": "stdout",
     "output_type": "stream",
     "text": [
      "Mold Dataframe Columns:  36\n",
      "Index(['Aspergillus flavus/oryzae', 'Aspergillus fumigatus',\n",
      "       'Aspergillus niger', 'Aspergillus ochraceus',\n",
      "       'Aspergillus penicillioides', 'Aspergillus restrictus*',\n",
      "       'Aspergillus sclerotiorum', 'Aspergillus sydowii', 'Aspergillus unguis',\n",
      "       'Aspergillus versicolor', 'Aureobasidium pullulans',\n",
      "       'Chaetomium globosum', 'Cladosporium sphaerospermum',\n",
      "       'Eurotium (Asp.) amstelodami*', 'Paecilomyces variotii',\n",
      "       'Penicillium brevicompactum', 'Penicillium corylophilum',\n",
      "       'Penicillium crustosum*', 'Penicillium purpurogenum',\n",
      "       'Penicillium spinulosum*', 'Penicillium variabile',\n",
      "       'Scopulariopsis brevicaulis/fusca', 'Scopulariopsis chartarum',\n",
      "       'Stachybotrys chartarum', 'Trichoderma viride*', 'Wallemia sebi',\n",
      "       'Acremonium strictum', 'Alternaria alternata', 'Aspergillus ustus',\n",
      "       'Cladosporium cladosporioides 1', 'Cladosporium cladosporioides 2',\n",
      "       'Cladosporium herbarum', 'Epicoccum nigrum', 'Mucor amphibiorum*',\n",
      "       'Penicillium chrysogenum', 'Rhizopus stolonifer'],\n",
      "      dtype='object')\n"
     ]
    }
   ],
   "source": [
    "# Creating dataframe handling mold\n",
    "moldDF = df[moldColumns]\n",
    "print(\"Mold Dataframe Columns: \", len(moldDF.columns))\n",
    "print(moldDF.columns)\n",
    "nan_count = np.sum(df.isnull(), axis = 0)"
   ]
  },
  {
   "cell_type": "code",
   "execution_count": 478,
   "metadata": {},
   "outputs": [
    {
     "name": "stdout",
     "output_type": "stream",
     "text": [
      "Symptom Dataframe Columns:  11\n",
      "Index(['Diagnoses', 'Eyes, Ears, Nose, & Throat', 'Resipiratory', 'Digestive',\n",
      "       'Circulatory', 'Skin', 'Brain', 'Nervous', 'Urinary', 'Immune',\n",
      "       'Reproductive'],\n",
      "      dtype='object')\n"
     ]
    }
   ],
   "source": [
    "# Creating a dataframe only handling symptom columns \n",
    "symptomDF = df[symptomColumns]\n",
    "print(\"Symptom Dataframe Columns: \", len(symptomDF.columns))\n",
    "print(symptomDF.columns)"
   ]
  },
  {
   "cell_type": "markdown",
   "metadata": {},
   "source": [
    "One Hot Encode Symptoms"
   ]
  },
  {
   "cell_type": "code",
   "execution_count": 479,
   "metadata": {},
   "outputs": [],
   "source": [
    "def oneHotEncodeSymptoms(symptomDF):\n",
    "    # For every column(body system) in symptom DF columns\n",
    "    for column in symptomDF.columns:\n",
    "        systemSymptomList = (df[column]\n",
    "                        .dropna()             # Drop any remaining NaNs (though there shouldn't be any after fillna)\n",
    "                        .str.lower()          # Convert to lowercase\n",
    "                        .str.replace(\" \", \"\") # Remove spaces\n",
    "                        .str.split(',')       # Split by commas\n",
    "                        .explode()            # Explode lists to rows\n",
    "                        .unique())            # Get unique values\n",
    "        # For every symptom in the list, create [body_system]_[symptom]\n",
    "        # and for every row enter 1 if symptom string exists in element and 0 if not \n",
    "        for symptom in systemSymptomList:\n",
    "            newColumn = f\"{column}_{symptom}\"\n",
    "            symptomDF[newColumn] = df[column].apply(lambda x: 1 if symptom in str(x).lower().replace(\" \", \"\") else 0)\n",
    "        systemSymptomList = []\n",
    "    return symptomDF"
   ]
  },
  {
   "cell_type": "code",
   "execution_count": 480,
   "metadata": {},
   "outputs": [
    {
     "name": "stdout",
     "output_type": "stream",
     "text": [
      "One Hot Encoding Symptom DF, Inital Columns:  (553, 11)\n",
      "One Hot Encoded Columns:  (553, 118)\n",
      "One Hot Encoded Columns, dropped:  (553, 103)\n"
     ]
    },
    {
     "data": {
      "text/plain": [
       "(553, 103)"
      ]
     },
     "execution_count": 480,
     "metadata": {},
     "output_type": "execute_result"
    }
   ],
   "source": [
    "# One Hot Encoding Symptoms \n",
    "print(\"One Hot Encoding Symptom DF, Inital Columns: \", symptomDF.shape)\n",
    "\n",
    "symptomDF = oneHotEncodeSymptoms(symptomDF)\n",
    "print(\"One Hot Encoded Columns: \", symptomDF.shape)\n",
    "columns = ['Diagnoses', 'Eyes, Ears, Nose, & Throat', 'Resipiratory', 'Digestive', 'Circulatory', 'Skin', 'Brain', \n",
    "           'Nervous', 'Urinary', 'Immune', 'Reproductive']\n",
    "\n",
    "drop = [\"Diagnoses_mouth\",\n",
    "\"Diagnoses_genitals\",\n",
    "\"Diagnoses_skin\",\n",
    "\"Diagnoses_internal)\"]\n",
    "\n",
    "#Drop all original and extra columns \n",
    "columns = columns + drop\n",
    "symptomDF.drop(columns=columns,inplace=True)\n",
    "\n",
    "print(\"One Hot Encoded Columns, dropped: \", symptomDF.shape)\n",
    "\n",
    "symptomDF.shape"
   ]
  },
  {
   "cell_type": "code",
   "execution_count": 481,
   "metadata": {},
   "outputs": [
    {
     "data": {
      "text/html": [
       "<div>\n",
       "<style scoped>\n",
       "    .dataframe tbody tr th:only-of-type {\n",
       "        vertical-align: middle;\n",
       "    }\n",
       "\n",
       "    .dataframe tbody tr th {\n",
       "        vertical-align: top;\n",
       "    }\n",
       "\n",
       "    .dataframe thead th {\n",
       "        text-align: right;\n",
       "    }\n",
       "</style>\n",
       "<table border=\"1\" class=\"dataframe\">\n",
       "  <thead>\n",
       "    <tr style=\"text-align: right;\">\n",
       "      <th></th>\n",
       "      <th>Diagnoses_hyperthyroid/hypothyroid</th>\n",
       "      <th>Diagnoses_ibs</th>\n",
       "      <th>Diagnoses_pcos</th>\n",
       "      <th>Diagnoses_cirs</th>\n",
       "      <th>Diagnoses_mcas</th>\n",
       "      <th>Diagnoses_auto-immunedisease</th>\n",
       "      <th>Diagnoses_lymedisease</th>\n",
       "      <th>Diagnoses_pots</th>\n",
       "      <th>Diagnoses_chronicfatiguesyndrome</th>\n",
       "      <th>Diagnoses_candidiasis(i.e.</th>\n",
       "      <th>...</th>\n",
       "      <th>Immune_chronicmonoorepstein-barrvirus</th>\n",
       "      <th>Immune_frequentherpesoutbreaks</th>\n",
       "      <th>Immune_viralinfectionsbecomebacterial</th>\n",
       "      <th>Immune_increasedsusceptibilitytocancer</th>\n",
       "      <th>Reproductive_changesinmenstrualcycle</th>\n",
       "      <th>Reproductive_inconsistentmenstrualcycle</th>\n",
       "      <th>Reproductive_vaginalyeastorbacterialinfections</th>\n",
       "      <th>Reproductive_jockitch</th>\n",
       "      <th>Reproductive_infertilityinbothgenders</th>\n",
       "      <th>Reproductive_hormoneimbalances</th>\n",
       "    </tr>\n",
       "  </thead>\n",
       "  <tbody>\n",
       "    <tr>\n",
       "      <th>0</th>\n",
       "      <td>1</td>\n",
       "      <td>1</td>\n",
       "      <td>1</td>\n",
       "      <td>0</td>\n",
       "      <td>0</td>\n",
       "      <td>0</td>\n",
       "      <td>0</td>\n",
       "      <td>0</td>\n",
       "      <td>0</td>\n",
       "      <td>0</td>\n",
       "      <td>...</td>\n",
       "      <td>0</td>\n",
       "      <td>0</td>\n",
       "      <td>0</td>\n",
       "      <td>0</td>\n",
       "      <td>1</td>\n",
       "      <td>1</td>\n",
       "      <td>1</td>\n",
       "      <td>1</td>\n",
       "      <td>1</td>\n",
       "      <td>1</td>\n",
       "    </tr>\n",
       "    <tr>\n",
       "      <th>1</th>\n",
       "      <td>0</td>\n",
       "      <td>0</td>\n",
       "      <td>0</td>\n",
       "      <td>0</td>\n",
       "      <td>0</td>\n",
       "      <td>0</td>\n",
       "      <td>0</td>\n",
       "      <td>0</td>\n",
       "      <td>0</td>\n",
       "      <td>0</td>\n",
       "      <td>...</td>\n",
       "      <td>0</td>\n",
       "      <td>0</td>\n",
       "      <td>0</td>\n",
       "      <td>0</td>\n",
       "      <td>0</td>\n",
       "      <td>0</td>\n",
       "      <td>1</td>\n",
       "      <td>0</td>\n",
       "      <td>0</td>\n",
       "      <td>1</td>\n",
       "    </tr>\n",
       "    <tr>\n",
       "      <th>2</th>\n",
       "      <td>0</td>\n",
       "      <td>0</td>\n",
       "      <td>0</td>\n",
       "      <td>1</td>\n",
       "      <td>1</td>\n",
       "      <td>0</td>\n",
       "      <td>0</td>\n",
       "      <td>0</td>\n",
       "      <td>0</td>\n",
       "      <td>0</td>\n",
       "      <td>...</td>\n",
       "      <td>1</td>\n",
       "      <td>0</td>\n",
       "      <td>0</td>\n",
       "      <td>0</td>\n",
       "      <td>1</td>\n",
       "      <td>1</td>\n",
       "      <td>0</td>\n",
       "      <td>0</td>\n",
       "      <td>0</td>\n",
       "      <td>1</td>\n",
       "    </tr>\n",
       "    <tr>\n",
       "      <th>3</th>\n",
       "      <td>1</td>\n",
       "      <td>1</td>\n",
       "      <td>0</td>\n",
       "      <td>0</td>\n",
       "      <td>0</td>\n",
       "      <td>1</td>\n",
       "      <td>1</td>\n",
       "      <td>1</td>\n",
       "      <td>1</td>\n",
       "      <td>1</td>\n",
       "      <td>...</td>\n",
       "      <td>0</td>\n",
       "      <td>0</td>\n",
       "      <td>0</td>\n",
       "      <td>0</td>\n",
       "      <td>0</td>\n",
       "      <td>0</td>\n",
       "      <td>0</td>\n",
       "      <td>0</td>\n",
       "      <td>0</td>\n",
       "      <td>0</td>\n",
       "    </tr>\n",
       "    <tr>\n",
       "      <th>4</th>\n",
       "      <td>1</td>\n",
       "      <td>0</td>\n",
       "      <td>1</td>\n",
       "      <td>1</td>\n",
       "      <td>0</td>\n",
       "      <td>0</td>\n",
       "      <td>0</td>\n",
       "      <td>0</td>\n",
       "      <td>0</td>\n",
       "      <td>1</td>\n",
       "      <td>...</td>\n",
       "      <td>0</td>\n",
       "      <td>0</td>\n",
       "      <td>0</td>\n",
       "      <td>0</td>\n",
       "      <td>0</td>\n",
       "      <td>0</td>\n",
       "      <td>0</td>\n",
       "      <td>0</td>\n",
       "      <td>0</td>\n",
       "      <td>0</td>\n",
       "    </tr>\n",
       "  </tbody>\n",
       "</table>\n",
       "<p>5 rows × 103 columns</p>\n",
       "</div>"
      ],
      "text/plain": [
       "   Diagnoses_hyperthyroid/hypothyroid  Diagnoses_ibs  Diagnoses_pcos  \\\n",
       "0                                   1              1               1   \n",
       "1                                   0              0               0   \n",
       "2                                   0              0               0   \n",
       "3                                   1              1               0   \n",
       "4                                   1              0               1   \n",
       "\n",
       "   Diagnoses_cirs  Diagnoses_mcas  Diagnoses_auto-immunedisease  \\\n",
       "0               0               0                             0   \n",
       "1               0               0                             0   \n",
       "2               1               1                             0   \n",
       "3               0               0                             1   \n",
       "4               1               0                             0   \n",
       "\n",
       "   Diagnoses_lymedisease  Diagnoses_pots  Diagnoses_chronicfatiguesyndrome  \\\n",
       "0                      0               0                                 0   \n",
       "1                      0               0                                 0   \n",
       "2                      0               0                                 0   \n",
       "3                      1               1                                 1   \n",
       "4                      0               0                                 0   \n",
       "\n",
       "   Diagnoses_candidiasis(i.e.  ...  Immune_chronicmonoorepstein-barrvirus  \\\n",
       "0                           0  ...                                      0   \n",
       "1                           0  ...                                      0   \n",
       "2                           0  ...                                      1   \n",
       "3                           1  ...                                      0   \n",
       "4                           1  ...                                      0   \n",
       "\n",
       "   Immune_frequentherpesoutbreaks  Immune_viralinfectionsbecomebacterial  \\\n",
       "0                               0                                      0   \n",
       "1                               0                                      0   \n",
       "2                               0                                      0   \n",
       "3                               0                                      0   \n",
       "4                               0                                      0   \n",
       "\n",
       "   Immune_increasedsusceptibilitytocancer  \\\n",
       "0                                       0   \n",
       "1                                       0   \n",
       "2                                       0   \n",
       "3                                       0   \n",
       "4                                       0   \n",
       "\n",
       "   Reproductive_changesinmenstrualcycle  \\\n",
       "0                                     1   \n",
       "1                                     0   \n",
       "2                                     1   \n",
       "3                                     0   \n",
       "4                                     0   \n",
       "\n",
       "   Reproductive_inconsistentmenstrualcycle  \\\n",
       "0                                        1   \n",
       "1                                        0   \n",
       "2                                        1   \n",
       "3                                        0   \n",
       "4                                        0   \n",
       "\n",
       "   Reproductive_vaginalyeastorbacterialinfections  Reproductive_jockitch  \\\n",
       "0                                               1                      1   \n",
       "1                                               1                      0   \n",
       "2                                               0                      0   \n",
       "3                                               0                      0   \n",
       "4                                               0                      0   \n",
       "\n",
       "   Reproductive_infertilityinbothgenders  Reproductive_hormoneimbalances  \n",
       "0                                      1                               1  \n",
       "1                                      0                               1  \n",
       "2                                      0                               1  \n",
       "3                                      0                               0  \n",
       "4                                      0                               0  \n",
       "\n",
       "[5 rows x 103 columns]"
      ]
     },
     "execution_count": 481,
     "metadata": {},
     "output_type": "execute_result"
    }
   ],
   "source": [
    "symptomDF.head(5)"
   ]
  },
  {
   "cell_type": "markdown",
   "metadata": {},
   "source": [
    "Cleaning Mold Columns"
   ]
  },
  {
   "cell_type": "code",
   "execution_count": 482,
   "metadata": {},
   "outputs": [
    {
     "data": {
      "text/plain": [
       "(553, 36)"
      ]
     },
     "execution_count": 482,
     "metadata": {},
     "output_type": "execute_result"
    }
   ],
   "source": [
    "values_to_replace=['ND','<1','nd','N/D','N D','Nd', 'Hhh', 'nan', 'Hh', 'ND, <1','NDNDND', 'na','Ne','NF','<','n/d','o', 'BD','NaN', 'N d', 'ND<1','ND<2', 'ND<3', 'Donotseelisted','NE', '0`', '<!', 'I9', '1<', 'NE', '4/40', '1/10', 'O', '>1','NS', '3/30', 'ND ', 'ND']\n",
    "\n",
    "for i in moldColumns:\n",
    "    for j in values_to_replace:\n",
    "        moldDF[i] = moldDF[i].replace(j, '0')\n",
    "        moldDF[i] = moldDF[i].fillna(0)\n",
    "        moldDF[i] = moldDF[i].astype(str)\n",
    "        moldDF[i] = moldDF[i].str.replace('*', '')\n",
    "        moldDF[i] = moldDF[i].str.replace(' ', '')\n",
    "        moldDF[i] = moldDF[i].str.replace(',', '')\n",
    "        moldDF[i] = moldDF[i].str.replace('.', '')\n",
    "\n",
    "def f(data):\n",
    "    print(data)\n",
    "    return data\n",
    "\n",
    "for column in moldDF.columns: \n",
    "    #print(column)\n",
    "    for row in moldDF[column].items():\n",
    "        if not row[1].isnumeric() :\n",
    "            print(row[1])\n",
    "            \n",
    "#Function above prints nothing, which means everything is numeric now \n",
    "\n",
    "\n",
    "\n",
    "moldDF.shape"
   ]
  },
  {
   "cell_type": "markdown",
   "metadata": {},
   "source": [
    "One hot encoding City and State Columns, Not accounting zipcode "
   ]
  },
  {
   "cell_type": "code",
   "execution_count": 483,
   "metadata": {},
   "outputs": [
    {
     "data": {
      "text/plain": [
       "(553, 3)"
      ]
     },
     "execution_count": 483,
     "metadata": {},
     "output_type": "execute_result"
    }
   ],
   "source": [
    "locationDF.shape"
   ]
  },
  {
   "cell_type": "code",
   "execution_count": 484,
   "metadata": {},
   "outputs": [
    {
     "data": {
      "text/html": [
       "<div>\n",
       "<style scoped>\n",
       "    .dataframe tbody tr th:only-of-type {\n",
       "        vertical-align: middle;\n",
       "    }\n",
       "\n",
       "    .dataframe tbody tr th {\n",
       "        vertical-align: top;\n",
       "    }\n",
       "\n",
       "    .dataframe thead th {\n",
       "        text-align: right;\n",
       "    }\n",
       "</style>\n",
       "<table border=\"1\" class=\"dataframe\">\n",
       "  <thead>\n",
       "    <tr style=\"text-align: right;\">\n",
       "      <th></th>\n",
       "      <th>City</th>\n",
       "      <th>State</th>\n",
       "      <th>Zip</th>\n",
       "    </tr>\n",
       "  </thead>\n",
       "  <tbody>\n",
       "    <tr>\n",
       "      <th>0</th>\n",
       "      <td>Mountain Brook</td>\n",
       "      <td>Alabama</td>\n",
       "      <td>35223</td>\n",
       "    </tr>\n",
       "    <tr>\n",
       "      <th>1</th>\n",
       "      <td>Wasilla</td>\n",
       "      <td>Alaska</td>\n",
       "      <td>99623</td>\n",
       "    </tr>\n",
       "    <tr>\n",
       "      <th>2</th>\n",
       "      <td>Soldotna</td>\n",
       "      <td>Alaska</td>\n",
       "      <td>99669-8654</td>\n",
       "    </tr>\n",
       "    <tr>\n",
       "      <th>3</th>\n",
       "      <td>Soldotna</td>\n",
       "      <td>Alaska</td>\n",
       "      <td>99669</td>\n",
       "    </tr>\n",
       "    <tr>\n",
       "      <th>4</th>\n",
       "      <td>Anchorage</td>\n",
       "      <td>Alaska</td>\n",
       "      <td>99508-4014</td>\n",
       "    </tr>\n",
       "  </tbody>\n",
       "</table>\n",
       "</div>"
      ],
      "text/plain": [
       "             City    State         Zip\n",
       "0  Mountain Brook  Alabama       35223\n",
       "1         Wasilla   Alaska       99623\n",
       "2        Soldotna   Alaska  99669-8654\n",
       "3        Soldotna   Alaska       99669\n",
       "4       Anchorage   Alaska  99508-4014"
      ]
     },
     "execution_count": 484,
     "metadata": {},
     "output_type": "execute_result"
    }
   ],
   "source": [
    "#Before \n",
    "locationDF.head(5)"
   ]
  },
  {
   "cell_type": "code",
   "execution_count": 485,
   "metadata": {},
   "outputs": [
    {
     "name": "stderr",
     "output_type": "stream",
     "text": [
      "c:\\Python310\\lib\\site-packages\\sklearn\\preprocessing\\_encoders.py:975: FutureWarning: `sparse` was renamed to `sparse_output` in version 1.2 and will be removed in 1.4. `sparse_output` is ignored unless you leave `sparse` to its default value.\n",
      "  warnings.warn(\n"
     ]
    },
    {
     "data": {
      "text/plain": [
       "(553, 433)"
      ]
     },
     "execution_count": 485,
     "metadata": {},
     "output_type": "execute_result"
    }
   ],
   "source": [
    "\n",
    "from sklearn.preprocessing import OneHotEncoder\n",
    "# Assuming df is your DataFrame and 'Category' is the categorical column\n",
    "encoder = OneHotEncoder(sparse=False)\n",
    "encoded_array = encoder.fit_transform(locationDF[['City']])\n",
    "encoded_df = pd.DataFrame(encoded_array, columns=encoder.get_feature_names_out(['City']))\n",
    "encoded_df.shape\n"
   ]
  },
  {
   "cell_type": "code",
   "execution_count": 486,
   "metadata": {},
   "outputs": [
    {
     "data": {
      "text/html": [
       "<div>\n",
       "<style scoped>\n",
       "    .dataframe tbody tr th:only-of-type {\n",
       "        vertical-align: middle;\n",
       "    }\n",
       "\n",
       "    .dataframe tbody tr th {\n",
       "        vertical-align: top;\n",
       "    }\n",
       "\n",
       "    .dataframe thead th {\n",
       "        text-align: right;\n",
       "    }\n",
       "</style>\n",
       "<table border=\"1\" class=\"dataframe\">\n",
       "  <thead>\n",
       "    <tr style=\"text-align: right;\">\n",
       "      <th></th>\n",
       "      <th>City_A</th>\n",
       "      <th>City_Abbeville</th>\n",
       "      <th>City_Akron</th>\n",
       "      <th>City_Alameda</th>\n",
       "      <th>City_Albany</th>\n",
       "      <th>City_Albuquerque</th>\n",
       "      <th>City_Aldie</th>\n",
       "      <th>City_Aledo</th>\n",
       "      <th>City_Alhambra</th>\n",
       "      <th>City_Allen Park</th>\n",
       "      <th>...</th>\n",
       "      <th>City_lake St Louis</th>\n",
       "      <th>City_los angeles</th>\n",
       "      <th>City_oFallon</th>\n",
       "      <th>City_oceanside</th>\n",
       "      <th>City_pasadena</th>\n",
       "      <th>City_philadelphia</th>\n",
       "      <th>City_st charles</th>\n",
       "      <th>City_st marys</th>\n",
       "      <th>City_towson</th>\n",
       "      <th>City_west linn</th>\n",
       "    </tr>\n",
       "  </thead>\n",
       "  <tbody>\n",
       "    <tr>\n",
       "      <th>0</th>\n",
       "      <td>0.0</td>\n",
       "      <td>0.0</td>\n",
       "      <td>0.0</td>\n",
       "      <td>0.0</td>\n",
       "      <td>0.0</td>\n",
       "      <td>0.0</td>\n",
       "      <td>0.0</td>\n",
       "      <td>0.0</td>\n",
       "      <td>0.0</td>\n",
       "      <td>0.0</td>\n",
       "      <td>...</td>\n",
       "      <td>0.0</td>\n",
       "      <td>0.0</td>\n",
       "      <td>0.0</td>\n",
       "      <td>0.0</td>\n",
       "      <td>0.0</td>\n",
       "      <td>0.0</td>\n",
       "      <td>0.0</td>\n",
       "      <td>0.0</td>\n",
       "      <td>0.0</td>\n",
       "      <td>0.0</td>\n",
       "    </tr>\n",
       "    <tr>\n",
       "      <th>1</th>\n",
       "      <td>0.0</td>\n",
       "      <td>0.0</td>\n",
       "      <td>0.0</td>\n",
       "      <td>0.0</td>\n",
       "      <td>0.0</td>\n",
       "      <td>0.0</td>\n",
       "      <td>0.0</td>\n",
       "      <td>0.0</td>\n",
       "      <td>0.0</td>\n",
       "      <td>0.0</td>\n",
       "      <td>...</td>\n",
       "      <td>0.0</td>\n",
       "      <td>0.0</td>\n",
       "      <td>0.0</td>\n",
       "      <td>0.0</td>\n",
       "      <td>0.0</td>\n",
       "      <td>0.0</td>\n",
       "      <td>0.0</td>\n",
       "      <td>0.0</td>\n",
       "      <td>0.0</td>\n",
       "      <td>0.0</td>\n",
       "    </tr>\n",
       "    <tr>\n",
       "      <th>2</th>\n",
       "      <td>0.0</td>\n",
       "      <td>0.0</td>\n",
       "      <td>0.0</td>\n",
       "      <td>0.0</td>\n",
       "      <td>0.0</td>\n",
       "      <td>0.0</td>\n",
       "      <td>0.0</td>\n",
       "      <td>0.0</td>\n",
       "      <td>0.0</td>\n",
       "      <td>0.0</td>\n",
       "      <td>...</td>\n",
       "      <td>0.0</td>\n",
       "      <td>0.0</td>\n",
       "      <td>0.0</td>\n",
       "      <td>0.0</td>\n",
       "      <td>0.0</td>\n",
       "      <td>0.0</td>\n",
       "      <td>0.0</td>\n",
       "      <td>0.0</td>\n",
       "      <td>0.0</td>\n",
       "      <td>0.0</td>\n",
       "    </tr>\n",
       "    <tr>\n",
       "      <th>3</th>\n",
       "      <td>0.0</td>\n",
       "      <td>0.0</td>\n",
       "      <td>0.0</td>\n",
       "      <td>0.0</td>\n",
       "      <td>0.0</td>\n",
       "      <td>0.0</td>\n",
       "      <td>0.0</td>\n",
       "      <td>0.0</td>\n",
       "      <td>0.0</td>\n",
       "      <td>0.0</td>\n",
       "      <td>...</td>\n",
       "      <td>0.0</td>\n",
       "      <td>0.0</td>\n",
       "      <td>0.0</td>\n",
       "      <td>0.0</td>\n",
       "      <td>0.0</td>\n",
       "      <td>0.0</td>\n",
       "      <td>0.0</td>\n",
       "      <td>0.0</td>\n",
       "      <td>0.0</td>\n",
       "      <td>0.0</td>\n",
       "    </tr>\n",
       "    <tr>\n",
       "      <th>4</th>\n",
       "      <td>0.0</td>\n",
       "      <td>0.0</td>\n",
       "      <td>0.0</td>\n",
       "      <td>0.0</td>\n",
       "      <td>0.0</td>\n",
       "      <td>0.0</td>\n",
       "      <td>0.0</td>\n",
       "      <td>0.0</td>\n",
       "      <td>0.0</td>\n",
       "      <td>0.0</td>\n",
       "      <td>...</td>\n",
       "      <td>0.0</td>\n",
       "      <td>0.0</td>\n",
       "      <td>0.0</td>\n",
       "      <td>0.0</td>\n",
       "      <td>0.0</td>\n",
       "      <td>0.0</td>\n",
       "      <td>0.0</td>\n",
       "      <td>0.0</td>\n",
       "      <td>0.0</td>\n",
       "      <td>0.0</td>\n",
       "    </tr>\n",
       "  </tbody>\n",
       "</table>\n",
       "<p>5 rows × 433 columns</p>\n",
       "</div>"
      ],
      "text/plain": [
       "   City_A  City_Abbeville  City_Akron  City_Alameda  City_Albany  \\\n",
       "0     0.0             0.0         0.0           0.0          0.0   \n",
       "1     0.0             0.0         0.0           0.0          0.0   \n",
       "2     0.0             0.0         0.0           0.0          0.0   \n",
       "3     0.0             0.0         0.0           0.0          0.0   \n",
       "4     0.0             0.0         0.0           0.0          0.0   \n",
       "\n",
       "   City_Albuquerque  City_Aldie  City_Aledo  City_Alhambra  City_Allen Park  \\\n",
       "0               0.0         0.0         0.0            0.0              0.0   \n",
       "1               0.0         0.0         0.0            0.0              0.0   \n",
       "2               0.0         0.0         0.0            0.0              0.0   \n",
       "3               0.0         0.0         0.0            0.0              0.0   \n",
       "4               0.0         0.0         0.0            0.0              0.0   \n",
       "\n",
       "   ...  City_lake St Louis  City_los angeles  City_oFallon  City_oceanside  \\\n",
       "0  ...                 0.0               0.0           0.0             0.0   \n",
       "1  ...                 0.0               0.0           0.0             0.0   \n",
       "2  ...                 0.0               0.0           0.0             0.0   \n",
       "3  ...                 0.0               0.0           0.0             0.0   \n",
       "4  ...                 0.0               0.0           0.0             0.0   \n",
       "\n",
       "   City_pasadena  City_philadelphia  City_st charles  City_st marys  \\\n",
       "0            0.0                0.0              0.0            0.0   \n",
       "1            0.0                0.0              0.0            0.0   \n",
       "2            0.0                0.0              0.0            0.0   \n",
       "3            0.0                0.0              0.0            0.0   \n",
       "4            0.0                0.0              0.0            0.0   \n",
       "\n",
       "   City_towson  City_west linn  \n",
       "0          0.0             0.0  \n",
       "1          0.0             0.0  \n",
       "2          0.0             0.0  \n",
       "3          0.0             0.0  \n",
       "4          0.0             0.0  \n",
       "\n",
       "[5 rows x 433 columns]"
      ]
     },
     "execution_count": 486,
     "metadata": {},
     "output_type": "execute_result"
    }
   ],
   "source": [
    "encoded_df.head(5)"
   ]
  },
  {
   "cell_type": "code",
   "execution_count": 487,
   "metadata": {},
   "outputs": [
    {
     "name": "stderr",
     "output_type": "stream",
     "text": [
      "c:\\Python310\\lib\\site-packages\\sklearn\\preprocessing\\_encoders.py:975: FutureWarning: `sparse` was renamed to `sparse_output` in version 1.2 and will be removed in 1.4. `sparse_output` is ignored unless you leave `sparse` to its default value.\n",
      "  warnings.warn(\n"
     ]
    },
    {
     "data": {
      "text/plain": [
       "(553, 53)"
      ]
     },
     "execution_count": 487,
     "metadata": {},
     "output_type": "execute_result"
    }
   ],
   "source": [
    "#Doing States now \n",
    "locationDF['State'] = df['State'].str.replace('\\n','') #fixed one of the extra ones, there was a \\n issue \n",
    "\n",
    "encoder = OneHotEncoder(sparse=False)\n",
    "encoded_array = encoder.fit_transform(locationDF[['State']])\n",
    "encoded_df_states = pd.DataFrame(encoded_array, columns=encoder.get_feature_names_out(['State']))\n",
    "encoded_df_states.shape\n"
   ]
  },
  {
   "cell_type": "code",
   "execution_count": 488,
   "metadata": {},
   "outputs": [
    {
     "data": {
      "text/html": [
       "<div>\n",
       "<style scoped>\n",
       "    .dataframe tbody tr th:only-of-type {\n",
       "        vertical-align: middle;\n",
       "    }\n",
       "\n",
       "    .dataframe tbody tr th {\n",
       "        vertical-align: top;\n",
       "    }\n",
       "\n",
       "    .dataframe thead th {\n",
       "        text-align: right;\n",
       "    }\n",
       "</style>\n",
       "<table border=\"1\" class=\"dataframe\">\n",
       "  <thead>\n",
       "    <tr style=\"text-align: right;\">\n",
       "      <th></th>\n",
       "      <th>State_Alabama</th>\n",
       "      <th>State_Alaska</th>\n",
       "      <th>State_Alberta</th>\n",
       "      <th>State_Arizona</th>\n",
       "      <th>State_Arkansas</th>\n",
       "      <th>State_British Columbia</th>\n",
       "      <th>State_California</th>\n",
       "      <th>State_Colorado</th>\n",
       "      <th>State_Connecticut</th>\n",
       "      <th>State_Delaware</th>\n",
       "      <th>...</th>\n",
       "      <th>State_Saskatchewan</th>\n",
       "      <th>State_South Carolina</th>\n",
       "      <th>State_Tennessee</th>\n",
       "      <th>State_Texas</th>\n",
       "      <th>State_Utah</th>\n",
       "      <th>State_Vermont</th>\n",
       "      <th>State_Virginia</th>\n",
       "      <th>State_Washington</th>\n",
       "      <th>State_Wisconsin</th>\n",
       "      <th>State_Wyoming</th>\n",
       "    </tr>\n",
       "  </thead>\n",
       "  <tbody>\n",
       "    <tr>\n",
       "      <th>0</th>\n",
       "      <td>1.0</td>\n",
       "      <td>0.0</td>\n",
       "      <td>0.0</td>\n",
       "      <td>0.0</td>\n",
       "      <td>0.0</td>\n",
       "      <td>0.0</td>\n",
       "      <td>0.0</td>\n",
       "      <td>0.0</td>\n",
       "      <td>0.0</td>\n",
       "      <td>0.0</td>\n",
       "      <td>...</td>\n",
       "      <td>0.0</td>\n",
       "      <td>0.0</td>\n",
       "      <td>0.0</td>\n",
       "      <td>0.0</td>\n",
       "      <td>0.0</td>\n",
       "      <td>0.0</td>\n",
       "      <td>0.0</td>\n",
       "      <td>0.0</td>\n",
       "      <td>0.0</td>\n",
       "      <td>0.0</td>\n",
       "    </tr>\n",
       "    <tr>\n",
       "      <th>1</th>\n",
       "      <td>0.0</td>\n",
       "      <td>1.0</td>\n",
       "      <td>0.0</td>\n",
       "      <td>0.0</td>\n",
       "      <td>0.0</td>\n",
       "      <td>0.0</td>\n",
       "      <td>0.0</td>\n",
       "      <td>0.0</td>\n",
       "      <td>0.0</td>\n",
       "      <td>0.0</td>\n",
       "      <td>...</td>\n",
       "      <td>0.0</td>\n",
       "      <td>0.0</td>\n",
       "      <td>0.0</td>\n",
       "      <td>0.0</td>\n",
       "      <td>0.0</td>\n",
       "      <td>0.0</td>\n",
       "      <td>0.0</td>\n",
       "      <td>0.0</td>\n",
       "      <td>0.0</td>\n",
       "      <td>0.0</td>\n",
       "    </tr>\n",
       "    <tr>\n",
       "      <th>2</th>\n",
       "      <td>0.0</td>\n",
       "      <td>1.0</td>\n",
       "      <td>0.0</td>\n",
       "      <td>0.0</td>\n",
       "      <td>0.0</td>\n",
       "      <td>0.0</td>\n",
       "      <td>0.0</td>\n",
       "      <td>0.0</td>\n",
       "      <td>0.0</td>\n",
       "      <td>0.0</td>\n",
       "      <td>...</td>\n",
       "      <td>0.0</td>\n",
       "      <td>0.0</td>\n",
       "      <td>0.0</td>\n",
       "      <td>0.0</td>\n",
       "      <td>0.0</td>\n",
       "      <td>0.0</td>\n",
       "      <td>0.0</td>\n",
       "      <td>0.0</td>\n",
       "      <td>0.0</td>\n",
       "      <td>0.0</td>\n",
       "    </tr>\n",
       "    <tr>\n",
       "      <th>3</th>\n",
       "      <td>0.0</td>\n",
       "      <td>1.0</td>\n",
       "      <td>0.0</td>\n",
       "      <td>0.0</td>\n",
       "      <td>0.0</td>\n",
       "      <td>0.0</td>\n",
       "      <td>0.0</td>\n",
       "      <td>0.0</td>\n",
       "      <td>0.0</td>\n",
       "      <td>0.0</td>\n",
       "      <td>...</td>\n",
       "      <td>0.0</td>\n",
       "      <td>0.0</td>\n",
       "      <td>0.0</td>\n",
       "      <td>0.0</td>\n",
       "      <td>0.0</td>\n",
       "      <td>0.0</td>\n",
       "      <td>0.0</td>\n",
       "      <td>0.0</td>\n",
       "      <td>0.0</td>\n",
       "      <td>0.0</td>\n",
       "    </tr>\n",
       "    <tr>\n",
       "      <th>4</th>\n",
       "      <td>0.0</td>\n",
       "      <td>1.0</td>\n",
       "      <td>0.0</td>\n",
       "      <td>0.0</td>\n",
       "      <td>0.0</td>\n",
       "      <td>0.0</td>\n",
       "      <td>0.0</td>\n",
       "      <td>0.0</td>\n",
       "      <td>0.0</td>\n",
       "      <td>0.0</td>\n",
       "      <td>...</td>\n",
       "      <td>0.0</td>\n",
       "      <td>0.0</td>\n",
       "      <td>0.0</td>\n",
       "      <td>0.0</td>\n",
       "      <td>0.0</td>\n",
       "      <td>0.0</td>\n",
       "      <td>0.0</td>\n",
       "      <td>0.0</td>\n",
       "      <td>0.0</td>\n",
       "      <td>0.0</td>\n",
       "    </tr>\n",
       "  </tbody>\n",
       "</table>\n",
       "<p>5 rows × 53 columns</p>\n",
       "</div>"
      ],
      "text/plain": [
       "   State_Alabama  State_Alaska  State_Alberta  State_Arizona  State_Arkansas  \\\n",
       "0            1.0           0.0            0.0            0.0             0.0   \n",
       "1            0.0           1.0            0.0            0.0             0.0   \n",
       "2            0.0           1.0            0.0            0.0             0.0   \n",
       "3            0.0           1.0            0.0            0.0             0.0   \n",
       "4            0.0           1.0            0.0            0.0             0.0   \n",
       "\n",
       "   State_British Columbia  State_California  State_Colorado  \\\n",
       "0                     0.0               0.0             0.0   \n",
       "1                     0.0               0.0             0.0   \n",
       "2                     0.0               0.0             0.0   \n",
       "3                     0.0               0.0             0.0   \n",
       "4                     0.0               0.0             0.0   \n",
       "\n",
       "   State_Connecticut  State_Delaware  ...  State_Saskatchewan  \\\n",
       "0                0.0             0.0  ...                 0.0   \n",
       "1                0.0             0.0  ...                 0.0   \n",
       "2                0.0             0.0  ...                 0.0   \n",
       "3                0.0             0.0  ...                 0.0   \n",
       "4                0.0             0.0  ...                 0.0   \n",
       "\n",
       "   State_South Carolina  State_Tennessee  State_Texas  State_Utah  \\\n",
       "0                   0.0              0.0          0.0         0.0   \n",
       "1                   0.0              0.0          0.0         0.0   \n",
       "2                   0.0              0.0          0.0         0.0   \n",
       "3                   0.0              0.0          0.0         0.0   \n",
       "4                   0.0              0.0          0.0         0.0   \n",
       "\n",
       "   State_Vermont  State_Virginia  State_Washington  State_Wisconsin  \\\n",
       "0            0.0             0.0               0.0              0.0   \n",
       "1            0.0             0.0               0.0              0.0   \n",
       "2            0.0             0.0               0.0              0.0   \n",
       "3            0.0             0.0               0.0              0.0   \n",
       "4            0.0             0.0               0.0              0.0   \n",
       "\n",
       "   State_Wyoming  \n",
       "0            0.0  \n",
       "1            0.0  \n",
       "2            0.0  \n",
       "3            0.0  \n",
       "4            0.0  \n",
       "\n",
       "[5 rows x 53 columns]"
      ]
     },
     "execution_count": 488,
     "metadata": {},
     "output_type": "execute_result"
    }
   ],
   "source": [
    "encoded_df_states.head()"
   ]
  },
  {
   "cell_type": "code",
   "execution_count": 489,
   "metadata": {},
   "outputs": [
    {
     "data": {
      "text/plain": [
       "(553, 486)"
      ]
     },
     "execution_count": 489,
     "metadata": {},
     "output_type": "execute_result"
    }
   ],
   "source": [
    "#Combining two edited one hot encoded columns \n",
    "#encoded_df.shape\n",
    "locationDF = pd.concat([encoded_df,encoded_df_states],axis=1)\n",
    "locationDF.shape"
   ]
  },
  {
   "cell_type": "code",
   "execution_count": 490,
   "metadata": {},
   "outputs": [
    {
     "name": "stdout",
     "output_type": "stream",
     "text": [
      "City_A              0\n",
      "City_Abbeville      0\n",
      "City_Akron          0\n",
      "City_Alameda        0\n",
      "City_Albany         0\n",
      "                   ..\n",
      "State_Vermont       0\n",
      "State_Virginia      0\n",
      "State_Washington    0\n",
      "State_Wisconsin     0\n",
      "State_Wyoming       0\n",
      "Length: 486, dtype: int64\n"
     ]
    }
   ],
   "source": [
    "\n",
    "\n",
    "nan_count = np.sum(locationDF.isnull(), axis = 0)\n",
    "print(nan_count)"
   ]
  },
  {
   "cell_type": "markdown",
   "metadata": {},
   "source": [
    "Combining Data Frames and Writing to csv"
   ]
  },
  {
   "cell_type": "code",
   "execution_count": 491,
   "metadata": {},
   "outputs": [
    {
     "name": "stdout",
     "output_type": "stream",
     "text": [
      "(553, 486)\n",
      "(553, 36)\n",
      "(553, 3)\n",
      "(553, 103)\n"
     ]
    },
    {
     "data": {
      "text/plain": [
       "(553, 628)"
      ]
     },
     "execution_count": 491,
     "metadata": {},
     "output_type": "execute_result"
    }
   ],
   "source": [
    "print(locationDF.shape)\n",
    "print(moldDF.shape)\n",
    "print(healthInfoDF.shape)\n",
    "print(symptomDF.shape)\n",
    "locationDF = locationDF.reset_index(drop=True)\n",
    "moldDF = moldDF.reset_index(drop=True)\n",
    "healthInfoDF = healthInfoDF.reset_index(drop=True)\n",
    "symptomDF = symptomDF.reset_index(drop=True)\n",
    "\n",
    "df_final = pd.concat([locationDF,moldDF,healthInfoDF,symptomDF],axis =1)\n",
    "df_final.shape"
   ]
  },
  {
   "cell_type": "code",
   "execution_count": 492,
   "metadata": {},
   "outputs": [
    {
     "data": {
      "text/plain": [
       "(553, 628)"
      ]
     },
     "execution_count": 492,
     "metadata": {},
     "output_type": "execute_result"
    }
   ],
   "source": [
    "df_final.to_csv(\"cleanedData.csv\",index=False)\n",
    "df_final.shape"
   ]
  }
 ],
 "metadata": {
  "kernelspec": {
   "display_name": "base",
   "language": "python",
   "name": "python3"
  },
  "language_info": {
   "codemirror_mode": {
    "name": "ipython",
    "version": 3
   },
   "file_extension": ".py",
   "mimetype": "text/x-python",
   "name": "python",
   "nbconvert_exporter": "python",
   "pygments_lexer": "ipython3",
   "version": "3.10.7"
  },
  "orig_nbformat": 4
 },
 "nbformat": 4,
 "nbformat_minor": 2
}
